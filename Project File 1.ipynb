{
 "cells": [
  {
   "cell_type": "code",
   "execution_count": 62,
   "metadata": {},
   "outputs": [],
   "source": [
    "from pyforest import *"
   ]
  },
  {
   "cell_type": "code",
   "execution_count": 63,
   "metadata": {},
   "outputs": [
    {
     "name": "stderr",
     "output_type": "stream",
     "text": [
      "D:\\Anaconda\\lib\\site-packages\\IPython\\core\\interactiveshell.py:3057: DtypeWarning: Columns (13,14,15) have mixed types. Specify dtype option on import or set low_memory=False.\n",
      "  interactivity=interactivity, compiler=compiler, result=result)\n"
     ]
    }
   ],
   "source": [
    "df = pd.read_csv('H-1B_Disclosure_Data_FY17.csv')"
   ]
  },
  {
   "cell_type": "code",
   "execution_count": 64,
   "metadata": {},
   "outputs": [
    {
     "data": {
      "text/plain": [
       "(528146, 40)"
      ]
     },
     "execution_count": 64,
     "metadata": {},
     "output_type": "execute_result"
    }
   ],
   "source": [
    "df.shape"
   ]
  },
  {
   "cell_type": "code",
   "execution_count": 65,
   "metadata": {},
   "outputs": [
    {
     "data": {
      "text/html": [
       "<div>\n",
       "<style scoped>\n",
       "    .dataframe tbody tr th:only-of-type {\n",
       "        vertical-align: middle;\n",
       "    }\n",
       "\n",
       "    .dataframe tbody tr th {\n",
       "        vertical-align: top;\n",
       "    }\n",
       "\n",
       "    .dataframe thead th {\n",
       "        text-align: right;\n",
       "    }\n",
       "</style>\n",
       "<table border=\"1\" class=\"dataframe\">\n",
       "  <thead>\n",
       "    <tr style=\"text-align: right;\">\n",
       "      <th></th>\n",
       "      <th>CASE_NUMBER</th>\n",
       "      <th>CASE_STATUS</th>\n",
       "      <th>CASE_SUBMITTED</th>\n",
       "      <th>DECISION_DATE</th>\n",
       "      <th>VISA_CLASS</th>\n",
       "      <th>EMPLOYMENT_START_DATE</th>\n",
       "      <th>EMPLOYMENT_END_DATE</th>\n",
       "      <th>EMPLOYER_NAME</th>\n",
       "      <th>EMPLOYER_ADDRESS</th>\n",
       "      <th>EMPLOYER_CITY</th>\n",
       "      <th>...</th>\n",
       "      <th>WAGE_RATE_OF_PAY_FROM</th>\n",
       "      <th>WAGE_RATE_OF_PAY_TO</th>\n",
       "      <th>WAGE_UNIT_OF_PAY</th>\n",
       "      <th>H-1B_DEPENDENT</th>\n",
       "      <th>WILLFUL_VIOLATOR</th>\n",
       "      <th>WORKSITE_CITY</th>\n",
       "      <th>WORKSITE_COUNTY</th>\n",
       "      <th>WORKSITE_STATE</th>\n",
       "      <th>WORKSITE_POSTAL_CODE</th>\n",
       "      <th>ORIGINAL_CERT_DATE</th>\n",
       "    </tr>\n",
       "  </thead>\n",
       "  <tbody>\n",
       "    <tr>\n",
       "      <th>0</th>\n",
       "      <td>I-200-16055-173457</td>\n",
       "      <td>CERTIFIED-WITHDRAWN</td>\n",
       "      <td>2/24/16</td>\n",
       "      <td>10/1/16</td>\n",
       "      <td>H-1B</td>\n",
       "      <td>8/10/16</td>\n",
       "      <td>8/10/19</td>\n",
       "      <td>DISCOVER PRODUCTS INC.</td>\n",
       "      <td>2500 LAKE COOK ROAD</td>\n",
       "      <td>RIVERWOODS</td>\n",
       "      <td>...</td>\n",
       "      <td>65,811.00</td>\n",
       "      <td>67,320.00</td>\n",
       "      <td>Year</td>\n",
       "      <td>N</td>\n",
       "      <td>N</td>\n",
       "      <td>RIVERWOODS</td>\n",
       "      <td>LAKE</td>\n",
       "      <td>IL</td>\n",
       "      <td>60015</td>\n",
       "      <td>3/1/16</td>\n",
       "    </tr>\n",
       "    <tr>\n",
       "      <th>1</th>\n",
       "      <td>I-200-16064-557834</td>\n",
       "      <td>CERTIFIED-WITHDRAWN</td>\n",
       "      <td>3/4/16</td>\n",
       "      <td>10/1/16</td>\n",
       "      <td>H-1B</td>\n",
       "      <td>8/16/16</td>\n",
       "      <td>8/16/19</td>\n",
       "      <td>DFS SERVICES LLC</td>\n",
       "      <td>2500 LAKE COOK ROAD</td>\n",
       "      <td>RIVERWOODS</td>\n",
       "      <td>...</td>\n",
       "      <td>53,000.00</td>\n",
       "      <td>57,200.00</td>\n",
       "      <td>Year</td>\n",
       "      <td>N</td>\n",
       "      <td>N</td>\n",
       "      <td>RIVERWOODS</td>\n",
       "      <td>LAKE</td>\n",
       "      <td>IL</td>\n",
       "      <td>60015</td>\n",
       "      <td>3/8/16</td>\n",
       "    </tr>\n",
       "    <tr>\n",
       "      <th>2</th>\n",
       "      <td>I-200-16063-996093</td>\n",
       "      <td>CERTIFIED-WITHDRAWN</td>\n",
       "      <td>3/10/16</td>\n",
       "      <td>10/1/16</td>\n",
       "      <td>H-1B</td>\n",
       "      <td>9/9/16</td>\n",
       "      <td>9/9/19</td>\n",
       "      <td>EASTBANC TECHNOLOGIES LLC</td>\n",
       "      <td>1211 31ST ST. NW</td>\n",
       "      <td>WASHINGTON</td>\n",
       "      <td>...</td>\n",
       "      <td>77,000.00</td>\n",
       "      <td>0.00</td>\n",
       "      <td>Year</td>\n",
       "      <td>Y</td>\n",
       "      <td>N</td>\n",
       "      <td>WASHINGTON</td>\n",
       "      <td>NaN</td>\n",
       "      <td>DC</td>\n",
       "      <td>20007</td>\n",
       "      <td>3/16/16</td>\n",
       "    </tr>\n",
       "    <tr>\n",
       "      <th>3</th>\n",
       "      <td>I-200-16272-196340</td>\n",
       "      <td>WITHDRAWN</td>\n",
       "      <td>9/28/16</td>\n",
       "      <td>10/1/16</td>\n",
       "      <td>H-1B</td>\n",
       "      <td>1/26/17</td>\n",
       "      <td>1/25/20</td>\n",
       "      <td>INFO SERVICES LLC</td>\n",
       "      <td>17177 NORTH LAUREL PARK DR</td>\n",
       "      <td>LIVONIA</td>\n",
       "      <td>...</td>\n",
       "      <td>102,000.00</td>\n",
       "      <td>0.00</td>\n",
       "      <td>Year</td>\n",
       "      <td>Y</td>\n",
       "      <td>N</td>\n",
       "      <td>JERSEY CITY</td>\n",
       "      <td>HUDSON</td>\n",
       "      <td>NJ</td>\n",
       "      <td>07302</td>\n",
       "      <td>NaN</td>\n",
       "    </tr>\n",
       "    <tr>\n",
       "      <th>4</th>\n",
       "      <td>I-200-15053-636744</td>\n",
       "      <td>CERTIFIED-WITHDRAWN</td>\n",
       "      <td>2/22/15</td>\n",
       "      <td>10/2/16</td>\n",
       "      <td>H-1B</td>\n",
       "      <td>3/1/15</td>\n",
       "      <td>3/1/18</td>\n",
       "      <td>BB&amp;T CORPORATION</td>\n",
       "      <td>223 WEST NASH STREET</td>\n",
       "      <td>WILSON</td>\n",
       "      <td>...</td>\n",
       "      <td>132,500.00</td>\n",
       "      <td>0.00</td>\n",
       "      <td>Year</td>\n",
       "      <td>N</td>\n",
       "      <td>N</td>\n",
       "      <td>NEW YORK</td>\n",
       "      <td>NEW YORK</td>\n",
       "      <td>NY</td>\n",
       "      <td>10036</td>\n",
       "      <td>2/26/15</td>\n",
       "    </tr>\n",
       "  </tbody>\n",
       "</table>\n",
       "<p>5 rows × 40 columns</p>\n",
       "</div>"
      ],
      "text/plain": [
       "          CASE_NUMBER          CASE_STATUS CASE_SUBMITTED DECISION_DATE  \\\n",
       "0  I-200-16055-173457  CERTIFIED-WITHDRAWN        2/24/16       10/1/16   \n",
       "1  I-200-16064-557834  CERTIFIED-WITHDRAWN         3/4/16       10/1/16   \n",
       "2  I-200-16063-996093  CERTIFIED-WITHDRAWN        3/10/16       10/1/16   \n",
       "3  I-200-16272-196340            WITHDRAWN        9/28/16       10/1/16   \n",
       "4  I-200-15053-636744  CERTIFIED-WITHDRAWN        2/22/15       10/2/16   \n",
       "\n",
       "  VISA_CLASS EMPLOYMENT_START_DATE EMPLOYMENT_END_DATE  \\\n",
       "0       H-1B               8/10/16             8/10/19   \n",
       "1       H-1B               8/16/16             8/16/19   \n",
       "2       H-1B                9/9/16              9/9/19   \n",
       "3       H-1B               1/26/17             1/25/20   \n",
       "4       H-1B                3/1/15              3/1/18   \n",
       "\n",
       "               EMPLOYER_NAME            EMPLOYER_ADDRESS EMPLOYER_CITY  ...  \\\n",
       "0     DISCOVER PRODUCTS INC.         2500 LAKE COOK ROAD    RIVERWOODS  ...   \n",
       "1           DFS SERVICES LLC         2500 LAKE COOK ROAD    RIVERWOODS  ...   \n",
       "2  EASTBANC TECHNOLOGIES LLC            1211 31ST ST. NW    WASHINGTON  ...   \n",
       "3          INFO SERVICES LLC  17177 NORTH LAUREL PARK DR       LIVONIA  ...   \n",
       "4           BB&T CORPORATION        223 WEST NASH STREET        WILSON  ...   \n",
       "\n",
       "  WAGE_RATE_OF_PAY_FROM WAGE_RATE_OF_PAY_TO WAGE_UNIT_OF_PAY H-1B_DEPENDENT  \\\n",
       "0             65,811.00           67,320.00             Year              N   \n",
       "1             53,000.00           57,200.00             Year              N   \n",
       "2             77,000.00                0.00             Year              Y   \n",
       "3            102,000.00                0.00             Year              Y   \n",
       "4            132,500.00                0.00             Year              N   \n",
       "\n",
       "  WILLFUL_VIOLATOR WORKSITE_CITY WORKSITE_COUNTY WORKSITE_STATE  \\\n",
       "0                N    RIVERWOODS            LAKE             IL   \n",
       "1                N    RIVERWOODS            LAKE             IL   \n",
       "2                N    WASHINGTON             NaN             DC   \n",
       "3                N   JERSEY CITY          HUDSON             NJ   \n",
       "4                N      NEW YORK        NEW YORK             NY   \n",
       "\n",
       "  WORKSITE_POSTAL_CODE ORIGINAL_CERT_DATE  \n",
       "0                60015             3/1/16  \n",
       "1                60015             3/8/16  \n",
       "2                20007            3/16/16  \n",
       "3                07302                NaN  \n",
       "4                10036            2/26/15  \n",
       "\n",
       "[5 rows x 40 columns]"
      ]
     },
     "execution_count": 65,
     "metadata": {},
     "output_type": "execute_result"
    }
   ],
   "source": [
    "df.head()"
   ]
  },
  {
   "cell_type": "code",
   "execution_count": 66,
   "metadata": {},
   "outputs": [
    {
     "data": {
      "text/plain": [
       "CASE_NUMBER               object\n",
       "CASE_STATUS               object\n",
       "CASE_SUBMITTED            object\n",
       "DECISION_DATE             object\n",
       "VISA_CLASS                object\n",
       "EMPLOYMENT_START_DATE     object\n",
       "EMPLOYMENT_END_DATE       object\n",
       "EMPLOYER_NAME             object\n",
       "EMPLOYER_ADDRESS          object\n",
       "EMPLOYER_CITY             object\n",
       "EMPLOYER_STATE            object\n",
       "EMPLOYER_POSTAL_CODE      object\n",
       "EMPLOYER_COUNTRY          object\n",
       "EMPLOYER_PROVINCE         object\n",
       "EMPLOYER_PHONE            object\n",
       "EMPLOYER_PHONE_EXT        object\n",
       "AGENT_ATTORNEY_NAME       object\n",
       "AGENT_ATTORNEY_CITY       object\n",
       "AGENT_ATTORNEY_STATE      object\n",
       "JOB_TITLE                 object\n",
       "SOC_CODE                  object\n",
       "SOC_NAME                  object\n",
       "NAICS_CODE               float64\n",
       "TOTAL_WORKERS              int64\n",
       "FULL_TIME_POSITION        object\n",
       "PREVAILING_WAGE           object\n",
       "PW_UNIT_OF_PAY            object\n",
       "PW_SOURCE                 object\n",
       "PW_SOURCE_YEAR           float64\n",
       "PW_SOURCE_OTHER           object\n",
       "WAGE_RATE_OF_PAY_FROM     object\n",
       "WAGE_RATE_OF_PAY_TO       object\n",
       "WAGE_UNIT_OF_PAY          object\n",
       "H-1B_DEPENDENT            object\n",
       "WILLFUL_VIOLATOR          object\n",
       "WORKSITE_CITY             object\n",
       "WORKSITE_COUNTY           object\n",
       "WORKSITE_STATE            object\n",
       "WORKSITE_POSTAL_CODE      object\n",
       "ORIGINAL_CERT_DATE        object\n",
       "dtype: object"
      ]
     },
     "execution_count": 66,
     "metadata": {},
     "output_type": "execute_result"
    }
   ],
   "source": [
    "df.dtypes"
   ]
  },
  {
   "cell_type": "code",
   "execution_count": 67,
   "metadata": {},
   "outputs": [
    {
     "data": {
      "text/html": [
       "<div>\n",
       "<style scoped>\n",
       "    .dataframe tbody tr th:only-of-type {\n",
       "        vertical-align: middle;\n",
       "    }\n",
       "\n",
       "    .dataframe tbody tr th {\n",
       "        vertical-align: top;\n",
       "    }\n",
       "\n",
       "    .dataframe thead th {\n",
       "        text-align: right;\n",
       "    }\n",
       "</style>\n",
       "<table border=\"1\" class=\"dataframe\">\n",
       "  <thead>\n",
       "    <tr style=\"text-align: right;\">\n",
       "      <th></th>\n",
       "      <th>NAICS_CODE</th>\n",
       "      <th>TOTAL_WORKERS</th>\n",
       "      <th>PW_SOURCE_YEAR</th>\n",
       "    </tr>\n",
       "  </thead>\n",
       "  <tbody>\n",
       "    <tr>\n",
       "      <th>count</th>\n",
       "      <td>528140.000000</td>\n",
       "      <td>528146.000000</td>\n",
       "      <td>528113.000000</td>\n",
       "    </tr>\n",
       "    <tr>\n",
       "      <th>mean</th>\n",
       "      <td>443547.381317</td>\n",
       "      <td>1.907226</td>\n",
       "      <td>2016.057255</td>\n",
       "    </tr>\n",
       "    <tr>\n",
       "      <th>std</th>\n",
       "      <td>197877.454722</td>\n",
       "      <td>4.925119</td>\n",
       "      <td>5.562917</td>\n",
       "    </tr>\n",
       "    <tr>\n",
       "      <th>min</th>\n",
       "      <td>31.000000</td>\n",
       "      <td>0.000000</td>\n",
       "      <td>0.000000</td>\n",
       "    </tr>\n",
       "    <tr>\n",
       "      <th>25%</th>\n",
       "      <td>452910.000000</td>\n",
       "      <td>1.000000</td>\n",
       "      <td>2016.000000</td>\n",
       "    </tr>\n",
       "    <tr>\n",
       "      <th>50%</th>\n",
       "      <td>541511.000000</td>\n",
       "      <td>1.000000</td>\n",
       "      <td>2016.000000</td>\n",
       "    </tr>\n",
       "    <tr>\n",
       "      <th>75%</th>\n",
       "      <td>541511.000000</td>\n",
       "      <td>1.000000</td>\n",
       "      <td>2016.000000</td>\n",
       "    </tr>\n",
       "    <tr>\n",
       "      <th>max</th>\n",
       "      <td>999990.000000</td>\n",
       "      <td>155.000000</td>\n",
       "      <td>2017.000000</td>\n",
       "    </tr>\n",
       "  </tbody>\n",
       "</table>\n",
       "</div>"
      ],
      "text/plain": [
       "          NAICS_CODE  TOTAL_WORKERS  PW_SOURCE_YEAR\n",
       "count  528140.000000  528146.000000   528113.000000\n",
       "mean   443547.381317       1.907226     2016.057255\n",
       "std    197877.454722       4.925119        5.562917\n",
       "min        31.000000       0.000000        0.000000\n",
       "25%    452910.000000       1.000000     2016.000000\n",
       "50%    541511.000000       1.000000     2016.000000\n",
       "75%    541511.000000       1.000000     2016.000000\n",
       "max    999990.000000     155.000000     2017.000000"
      ]
     },
     "execution_count": 67,
     "metadata": {},
     "output_type": "execute_result"
    }
   ],
   "source": [
    "df.describe()"
   ]
  },
  {
   "cell_type": "code",
   "execution_count": 68,
   "metadata": {},
   "outputs": [
    {
     "data": {
      "text/html": [
       "<div>\n",
       "<style scoped>\n",
       "    .dataframe tbody tr th:only-of-type {\n",
       "        vertical-align: middle;\n",
       "    }\n",
       "\n",
       "    .dataframe tbody tr th {\n",
       "        vertical-align: top;\n",
       "    }\n",
       "\n",
       "    .dataframe thead th {\n",
       "        text-align: right;\n",
       "    }\n",
       "</style>\n",
       "<table border=\"1\" class=\"dataframe\">\n",
       "  <thead>\n",
       "    <tr style=\"text-align: right;\">\n",
       "      <th></th>\n",
       "      <th>CASE_NUMBER</th>\n",
       "      <th>CASE_STATUS</th>\n",
       "      <th>CASE_SUBMITTED</th>\n",
       "      <th>DECISION_DATE</th>\n",
       "      <th>VISA_CLASS</th>\n",
       "      <th>EMPLOYMENT_START_DATE</th>\n",
       "      <th>EMPLOYMENT_END_DATE</th>\n",
       "      <th>EMPLOYER_NAME</th>\n",
       "      <th>EMPLOYER_ADDRESS</th>\n",
       "      <th>EMPLOYER_CITY</th>\n",
       "      <th>...</th>\n",
       "      <th>WAGE_RATE_OF_PAY_FROM</th>\n",
       "      <th>WAGE_RATE_OF_PAY_TO</th>\n",
       "      <th>WAGE_UNIT_OF_PAY</th>\n",
       "      <th>H-1B_DEPENDENT</th>\n",
       "      <th>WILLFUL_VIOLATOR</th>\n",
       "      <th>WORKSITE_CITY</th>\n",
       "      <th>WORKSITE_COUNTY</th>\n",
       "      <th>WORKSITE_STATE</th>\n",
       "      <th>WORKSITE_POSTAL_CODE</th>\n",
       "      <th>ORIGINAL_CERT_DATE</th>\n",
       "    </tr>\n",
       "  </thead>\n",
       "  <tbody>\n",
       "    <tr>\n",
       "      <th>count</th>\n",
       "      <td>528146</td>\n",
       "      <td>528146</td>\n",
       "      <td>528146</td>\n",
       "      <td>528146</td>\n",
       "      <td>528146</td>\n",
       "      <td>528129</td>\n",
       "      <td>528129</td>\n",
       "      <td>528103</td>\n",
       "      <td>528140</td>\n",
       "      <td>528132</td>\n",
       "      <td>...</td>\n",
       "      <td>528146</td>\n",
       "      <td>528145</td>\n",
       "      <td>528140</td>\n",
       "      <td>517845</td>\n",
       "      <td>517844</td>\n",
       "      <td>528136</td>\n",
       "      <td>527140</td>\n",
       "      <td>528139</td>\n",
       "      <td>528131</td>\n",
       "      <td>36184</td>\n",
       "    </tr>\n",
       "    <tr>\n",
       "      <th>unique</th>\n",
       "      <td>528146</td>\n",
       "      <td>4</td>\n",
       "      <td>1212</td>\n",
       "      <td>266</td>\n",
       "      <td>4</td>\n",
       "      <td>1499</td>\n",
       "      <td>1549</td>\n",
       "      <td>65130</td>\n",
       "      <td>58833</td>\n",
       "      <td>4889</td>\n",
       "      <td>...</td>\n",
       "      <td>45730</td>\n",
       "      <td>13038</td>\n",
       "      <td>5</td>\n",
       "      <td>2</td>\n",
       "      <td>2</td>\n",
       "      <td>7417</td>\n",
       "      <td>3422</td>\n",
       "      <td>57</td>\n",
       "      <td>14221</td>\n",
       "      <td>972</td>\n",
       "    </tr>\n",
       "    <tr>\n",
       "      <th>top</th>\n",
       "      <td>I-200-17065-700073</td>\n",
       "      <td>CERTIFIED</td>\n",
       "      <td>3/15/17</td>\n",
       "      <td>3/23/17</td>\n",
       "      <td>H-1B</td>\n",
       "      <td>9/1/17</td>\n",
       "      <td>8/31/20</td>\n",
       "      <td>INFOSYS LIMITED</td>\n",
       "      <td>6100 TENNYSON PARKWAY</td>\n",
       "      <td>PLANO</td>\n",
       "      <td>...</td>\n",
       "      <td>60,000.00</td>\n",
       "      <td>0.00</td>\n",
       "      <td>Year</td>\n",
       "      <td>N</td>\n",
       "      <td>N</td>\n",
       "      <td>NEW YORK</td>\n",
       "      <td>SANTA CLARA</td>\n",
       "      <td>CA</td>\n",
       "      <td>94043</td>\n",
       "      <td>3/16/16</td>\n",
       "    </tr>\n",
       "    <tr>\n",
       "      <th>freq</th>\n",
       "      <td>1</td>\n",
       "      <td>468970</td>\n",
       "      <td>12287</td>\n",
       "      <td>17643</td>\n",
       "      <td>517365</td>\n",
       "      <td>25653</td>\n",
       "      <td>15842</td>\n",
       "      <td>17059</td>\n",
       "      <td>17200</td>\n",
       "      <td>29219</td>\n",
       "      <td>...</td>\n",
       "      <td>30778</td>\n",
       "      <td>413267</td>\n",
       "      <td>494672</td>\n",
       "      <td>322868</td>\n",
       "      <td>517420</td>\n",
       "      <td>31956</td>\n",
       "      <td>35693</td>\n",
       "      <td>101338</td>\n",
       "      <td>5850</td>\n",
       "      <td>517</td>\n",
       "    </tr>\n",
       "  </tbody>\n",
       "</table>\n",
       "<p>4 rows × 37 columns</p>\n",
       "</div>"
      ],
      "text/plain": [
       "               CASE_NUMBER CASE_STATUS CASE_SUBMITTED DECISION_DATE  \\\n",
       "count               528146      528146         528146        528146   \n",
       "unique              528146           4           1212           266   \n",
       "top     I-200-17065-700073   CERTIFIED        3/15/17       3/23/17   \n",
       "freq                     1      468970          12287         17643   \n",
       "\n",
       "       VISA_CLASS EMPLOYMENT_START_DATE EMPLOYMENT_END_DATE    EMPLOYER_NAME  \\\n",
       "count      528146                528129              528129           528103   \n",
       "unique          4                  1499                1549            65130   \n",
       "top          H-1B                9/1/17             8/31/20  INFOSYS LIMITED   \n",
       "freq       517365                 25653               15842            17059   \n",
       "\n",
       "             EMPLOYER_ADDRESS EMPLOYER_CITY  ... WAGE_RATE_OF_PAY_FROM  \\\n",
       "count                  528140        528132  ...                528146   \n",
       "unique                  58833          4889  ...                 45730   \n",
       "top     6100 TENNYSON PARKWAY         PLANO  ...             60,000.00   \n",
       "freq                    17200         29219  ...                 30778   \n",
       "\n",
       "       WAGE_RATE_OF_PAY_TO WAGE_UNIT_OF_PAY H-1B_DEPENDENT  WILLFUL_VIOLATOR  \\\n",
       "count               528145           528140         517845            517844   \n",
       "unique               13038                5              2                 2   \n",
       "top                   0.00             Year              N                 N   \n",
       "freq                413267           494672         322868            517420   \n",
       "\n",
       "        WORKSITE_CITY WORKSITE_COUNTY WORKSITE_STATE WORKSITE_POSTAL_CODE  \\\n",
       "count          528136          527140         528139               528131   \n",
       "unique           7417            3422             57                14221   \n",
       "top          NEW YORK     SANTA CLARA             CA                94043   \n",
       "freq            31956           35693         101338                 5850   \n",
       "\n",
       "       ORIGINAL_CERT_DATE  \n",
       "count               36184  \n",
       "unique                972  \n",
       "top               3/16/16  \n",
       "freq                  517  \n",
       "\n",
       "[4 rows x 37 columns]"
      ]
     },
     "execution_count": 68,
     "metadata": {},
     "output_type": "execute_result"
    }
   ],
   "source": [
    "df.describe(include='object')"
   ]
  },
  {
   "cell_type": "markdown",
   "metadata": {},
   "source": [
    "# Columns"
   ]
  },
  {
   "cell_type": "code",
   "execution_count": 69,
   "metadata": {},
   "outputs": [
    {
     "data": {
      "text/plain": [
       "Index(['CASE_NUMBER', 'CASE_STATUS', 'CASE_SUBMITTED', 'DECISION_DATE',\n",
       "       'VISA_CLASS', 'EMPLOYMENT_START_DATE', 'EMPLOYMENT_END_DATE',\n",
       "       'EMPLOYER_NAME', 'EMPLOYER_ADDRESS', 'EMPLOYER_CITY', 'EMPLOYER_STATE',\n",
       "       'EMPLOYER_POSTAL_CODE', 'EMPLOYER_COUNTRY', 'EMPLOYER_PROVINCE',\n",
       "       'EMPLOYER_PHONE', 'EMPLOYER_PHONE_EXT', 'AGENT_ATTORNEY_NAME',\n",
       "       'AGENT_ATTORNEY_CITY', 'AGENT_ATTORNEY_STATE', 'JOB_TITLE', 'SOC_CODE',\n",
       "       'SOC_NAME', 'NAICS_CODE', 'TOTAL_WORKERS', 'FULL_TIME_POSITION',\n",
       "       'PREVAILING_WAGE', 'PW_UNIT_OF_PAY', 'PW_SOURCE', 'PW_SOURCE_YEAR',\n",
       "       'PW_SOURCE_OTHER', 'WAGE_RATE_OF_PAY_FROM', 'WAGE_RATE_OF_PAY_TO',\n",
       "       'WAGE_UNIT_OF_PAY', 'H-1B_DEPENDENT', 'WILLFUL_VIOLATOR',\n",
       "       'WORKSITE_CITY', 'WORKSITE_COUNTY', 'WORKSITE_STATE',\n",
       "       'WORKSITE_POSTAL_CODE', 'ORIGINAL_CERT_DATE'],\n",
       "      dtype='object')"
      ]
     },
     "execution_count": 69,
     "metadata": {},
     "output_type": "execute_result"
    }
   ],
   "source": [
    "df.columns"
   ]
  },
  {
   "cell_type": "markdown",
   "metadata": {},
   "source": [
    "#### Columns to be considered"
   ]
  },
  {
   "cell_type": "code",
   "execution_count": 70,
   "metadata": {},
   "outputs": [],
   "source": [
    "df1 = df[['CASE_STATUS', 'CASE_SUBMITTED', 'DECISION_DATE','VISA_CLASS', \n",
    "          'EMPLOYMENT_START_DATE', 'EMPLOYMENT_END_DATE','EMPLOYER_NAME','EMPLOYER_ADDRESS','EMPLOYER_COUNTRY','EMPLOYER_STATE',\n",
    "          'AGENT_ATTORNEY_NAME','JOB_TITLE', 'SOC_CODE','SOC_NAME', 'NAICS_CODE', 'TOTAL_WORKERS', \n",
    "          'FULL_TIME_POSITION','PREVAILING_WAGE', 'PW_UNIT_OF_PAY', 'PW_SOURCE_YEAR', \n",
    "          'WAGE_RATE_OF_PAY_FROM', 'WAGE_RATE_OF_PAY_TO','WAGE_UNIT_OF_PAY', 'H-1B_DEPENDENT', 'WILLFUL_VIOLATOR']]"
   ]
  },
  {
   "cell_type": "markdown",
   "metadata": {},
   "source": [
    "# UNI-VARIATE ANALYSIS"
   ]
  },
  {
   "cell_type": "markdown",
   "metadata": {},
   "source": [
    "#### CASE_STATUS"
   ]
  },
  {
   "cell_type": "code",
   "execution_count": 71,
   "metadata": {},
   "outputs": [
    {
     "data": {
      "text/plain": [
       "<matplotlib.axes._subplots.AxesSubplot at 0x1dbe68c6128>"
      ]
     },
     "execution_count": 71,
     "metadata": {},
     "output_type": "execute_result"
    },
    {
     "data": {
      "image/png": "[encoded data removed]",
      "text/plain": [
       "<Figure size 432x288 with 1 Axes>"
      ]
     },
     "metadata": {
      "needs_background": "light"
     },
     "output_type": "display_data"
    }
   ],
   "source": [
    "df1.CASE_STATUS.value_counts().plot(kind='bar')"
   ]
  },
  {
   "cell_type": "code",
   "execution_count": 72,
   "metadata": {},
   "outputs": [
    {
     "data": {
      "text/plain": [
       "CERTIFIED              88.795522\n",
       "CERTIFIED-WITHDRAWN     6.848674\n",
       "WITHDRAWN               3.032495\n",
       "DENIED                  1.323308\n",
       "Name: CASE_STATUS, dtype: float64"
      ]
     },
     "execution_count": 72,
     "metadata": {},
     "output_type": "execute_result"
    }
   ],
   "source": [
    "(df1.CASE_STATUS.value_counts()/df1.shape[0])*100"
   ]
  },
  {
   "cell_type": "markdown",
   "metadata": {},
   "source": [
    "##### Observation : 88% observations are from certified and 1% from Denied which tells that there is imbalance"
   ]
  },
  {
   "cell_type": "markdown",
   "metadata": {},
   "source": [
    "#### VISA_CLASS"
   ]
  },
  {
   "cell_type": "code",
   "execution_count": 73,
   "metadata": {},
   "outputs": [
    {
     "data": {
      "text/plain": [
       "<matplotlib.axes._subplots.AxesSubplot at 0x1dbccd42908>"
      ]
     },
     "execution_count": 73,
     "metadata": {},
     "output_type": "execute_result"
    },
    {
     "data": {
      "image/png": "[encoded data removed]",
      "text/plain": [
       "<Figure size 432x288 with 1 Axes>"
      ]
     },
     "metadata": {
      "needs_background": "light"
     },
     "output_type": "display_data"
    }
   ],
   "source": [
    "df1.VISA_CLASS.value_counts().plot(kind='bar')"
   ]
  },
  {
   "cell_type": "code",
   "execution_count": 74,
   "metadata": {},
   "outputs": [
    {
     "data": {
      "text/plain": [
       "H-1B               97.958708\n",
       "E-3 Australian      1.730203\n",
       "H-1B1 Singapore     0.176088\n",
       "H-1B1 Chile         0.135001\n",
       "Name: VISA_CLASS, dtype: float64"
      ]
     },
     "execution_count": 74,
     "metadata": {},
     "output_type": "execute_result"
    }
   ],
   "source": [
    "(df1.VISA_CLASS.value_counts()/df1.shape[0])*100"
   ]
  },
  {
   "cell_type": "markdown",
   "metadata": {},
   "source": [
    "##### Observation : 97% observations are from H1-B which tells that  maximum applicants are applying for H1B Visa"
   ]
  },
  {
   "cell_type": "markdown",
   "metadata": {},
   "source": [
    "#### EMPLOYER_NAME"
   ]
  },
  {
   "cell_type": "code",
   "execution_count": 75,
   "metadata": {},
   "outputs": [
    {
     "data": {
      "text/plain": [
       "<matplotlib.axes._subplots.AxesSubplot at 0x1dbccaba668>"
      ]
     },
     "execution_count": 75,
     "metadata": {},
     "output_type": "execute_result"
    },
    {
     "data": {
      "image/png": "[encoded data removed]",
      "text/plain": [
       "<Figure size 720x360 with 1 Axes>"
      ]
     },
     "metadata": {
      "needs_background": "light"
     },
     "output_type": "display_data"
    }
   ],
   "source": [
    "plt.figure(figsize=(10,5))\n",
    "df1.EMPLOYER_NAME.value_counts().head(20).plot(kind='bar')"
   ]
  },
  {
   "cell_type": "code",
   "execution_count": 76,
   "metadata": {},
   "outputs": [
    {
     "data": {
      "text/plain": [
       "INFOSYS LIMITED                                    3.229978\n",
       "TATA CONSULTANCY SERVICES LIMITED                  2.046025\n",
       "CAPGEMINI AMERICA INC                              1.554116\n",
       "IBM INDIA PRIVATE LIMITED                          1.452818\n",
       "TECH MAHINDRA (AMERICAS),INC.                      1.307025\n",
       "ACCENTURE LLP                                      1.055201\n",
       "DELOITTE CONSULTING LLP                            1.031722\n",
       "ERNST & YOUNG U.S. LLP                             0.973784\n",
       "GOOGLE INC.                                        0.858096\n",
       "MICROSOFT CORPORATION                              0.765319\n",
       "WIPRO LIMITED                                      0.747331\n",
       "SYNTEL CONSULTING INC.                             0.733888\n",
       "HCL AMERICA, INC.                                  0.702268\n",
       "AMAZON CORPORATE LLC                               0.619147\n",
       "COGNIZANT TECHNOLOGY SOLUTIONS U.S. CORPORATION    0.428669\n",
       "IBM CORPORATION                                    0.391369\n",
       "L&T TECHNOLOGY SERVICES LIMITED                    0.291397\n",
       "JPMORGAN CHASE & CO.                               0.275492\n",
       "LARSEN & TOUBRO INFOTECH LIMITED                   0.265836\n",
       "PRICEWATERHOUSECOOPERS ADVISORY SERVICES LLC       0.260913\n",
       "FACEBOOK, INC.                                     0.259966\n",
       "APPLE INC.                                         0.257694\n",
       "DELOITTE & TOUCHE LLP                              0.248984\n",
       "INTEL CORPORATION                                  0.243872\n",
       "PRICEWATERHOUSECOOPERS LLP                         0.224938\n",
       "KPMG LLP                                           0.203353\n",
       "HEXAWARE TECHNOLOGIES, INC.                        0.198998\n",
       "SYNTEL INC                                         0.184987\n",
       "NTT DATA, INC.                                     0.178360\n",
       "UST GLOBAL INC.                                    0.175709\n",
       "                                                     ...   \n",
       "VNC LLC                                            0.000189\n",
       "EXULUS LLC                                         0.000189\n",
       "ACE HEALTH CONSULTANT LLC                          0.000189\n",
       "SIGNAL-WISE, LLC                                   0.000189\n",
       "ACMH, INC.                                         0.000189\n",
       "COLLINS PARTNERS LLC                               0.000189\n",
       "VOLUMETRIC, INC.                                   0.000189\n",
       "IMAGINE LEARNING, INC.                             0.000189\n",
       "SUSTAINABLE INVESTMENT GROUP, LLC                  0.000189\n",
       "PROSOCO INC.                                       0.000189\n",
       "GARZA/BOMBERGER & ASSOCIATES                       0.000189\n",
       "RINGLEAD, INC.                                     0.000189\n",
       "ALPHA ANIMAL HOSPITAL INC.                         0.000189\n",
       "SIGNAPAY LTD                                       0.000189\n",
       "SAN FRANCISCO WALDORF SCHOOL                       0.000189\n",
       "POPPINS AND FRIENDS, LLC                           0.000189\n",
       "TRANSWORLD SYSTEMS INC.                            0.000189\n",
       "MG-IP LAW, P.C.                                    0.000189\n",
       "GWYNNIE BEE                                        0.000189\n",
       "STRUCTUREPOINT LLC                                 0.000189\n",
       "50CAN, INC.                                        0.000189\n",
       "SHAPESHIFT MANAGEMENT AND PHOTOGRAPHY LLC          0.000189\n",
       "ASIAN MEDIA RIGHTS, LLC                            0.000189\n",
       "THE MCCLATCHY COMPANY                              0.000189\n",
       "HYPERSCIENCES, INC.                                0.000189\n",
       "VARIANT DISPLAYS, INC.                             0.000189\n",
       "WESTFORD ASSOCIATES, LP                            0.000189\n",
       "ALPHA ONE                                          0.000189\n",
       "FLOWROUTE INC.                                     0.000189\n",
       "AUTONOMY AMERICAS LLC                              0.000189\n",
       "Name: EMPLOYER_NAME, Length: 65130, dtype: float64"
      ]
     },
     "execution_count": 76,
     "metadata": {},
     "output_type": "execute_result"
    }
   ],
   "source": [
    "(df1.EMPLOYER_NAME.value_counts()/df1.shape[0])*100"
   ]
  },
  {
   "cell_type": "markdown",
   "metadata": {},
   "source": [
    "##### Observation : The highest applicants are for Employer Infosys, CapGemini, IBM, Tech Mahindra"
   ]
  },
  {
   "cell_type": "markdown",
   "metadata": {},
   "source": [
    "#### EMPLOYER_COUNTRY"
   ]
  },
  {
   "cell_type": "code",
   "execution_count": 77,
   "metadata": {},
   "outputs": [
    {
     "data": {
      "text/plain": [
       "<matplotlib.axes._subplots.AxesSubplot at 0x1dbccb88e80>"
      ]
     },
     "execution_count": 77,
     "metadata": {},
     "output_type": "execute_result"
    },
    {
     "data": {
      "image/png": "[encoded data removed]",
      "text/plain": [
       "<Figure size 720x360 with 1 Axes>"
      ]
     },
     "metadata": {
      "needs_background": "light"
     },
     "output_type": "display_data"
    }
   ],
   "source": [
    "plt.figure(figsize=(10,5))\n",
    "df1.EMPLOYER_COUNTRY.value_counts().plot(kind='bar')"
   ]
  },
  {
   "cell_type": "code",
   "execution_count": 78,
   "metadata": {},
   "outputs": [
    {
     "data": {
      "text/plain": [
       "UNITED STATES OF AMERICA    79.603557\n",
       "CANADA                       0.001325\n",
       "AUSTRALIA                    0.000379\n",
       "CAMBODIA                     0.000189\n",
       "CHINA                        0.000189\n",
       "Name: EMPLOYER_COUNTRY, dtype: float64"
      ]
     },
     "execution_count": 78,
     "metadata": {},
     "output_type": "execute_result"
    }
   ],
   "source": [
    "(df1.EMPLOYER_COUNTRY.value_counts()/df1.shape[0])*100"
   ]
  },
  {
   "cell_type": "markdown",
   "metadata": {},
   "source": [
    "#### Here if we add up the percentage of all the categories of EMPLOYER_COUNTRY it will not add up to 100% because the remaining percentage is of null values in EMPLOYER_COUNTRY."
   ]
  },
  {
   "cell_type": "markdown",
   "metadata": {},
   "source": [
    "##### Observation : Maximum Applicants are for Employer Country USA"
   ]
  },
  {
   "cell_type": "markdown",
   "metadata": {},
   "source": [
    "#### EMPLOYER_STATE"
   ]
  },
  {
   "cell_type": "code",
   "execution_count": 79,
   "metadata": {},
   "outputs": [
    {
     "data": {
      "text/plain": [
       "<matplotlib.axes._subplots.AxesSubplot at 0x1dbccc4bc50>"
      ]
     },
     "execution_count": 79,
     "metadata": {},
     "output_type": "execute_result"
    },
    {
     "data": {
      "image/png": "[encoded data removed]",
      "text/plain": [
       "<Figure size 1080x360 with 1 Axes>"
      ]
     },
     "metadata": {
      "needs_background": "light"
     },
     "output_type": "display_data"
    }
   ],
   "source": [
    "plt.figure(figsize=(15,5))\n",
    "df1.EMPLOYER_STATE.value_counts().plot(kind='bar')"
   ]
  },
  {
   "cell_type": "code",
   "execution_count": 80,
   "metadata": {},
   "outputs": [
    {
     "data": {
      "text/plain": [
       "CA    17.179719\n",
       "TX    14.238866\n",
       "NJ    12.190758\n",
       "NY     7.128521\n",
       "IL     6.567313\n",
       "MI     4.421505\n",
       "PA     3.968410\n",
       "MA     3.730976\n",
       "MD     3.296626\n",
       "FL     3.109557\n",
       "VA     3.102741\n",
       "NC     3.021134\n",
       "WA     3.004851\n",
       "GA     2.734282\n",
       "OH     1.477054\n",
       "CT     0.963559\n",
       "MO     0.856392\n",
       "MN     0.760017\n",
       "TN     0.724610\n",
       "AZ     0.678790\n",
       "CO     0.664021\n",
       "WI     0.559694\n",
       "IN     0.461047\n",
       "DE     0.387393\n",
       "KY     0.383985\n",
       "AR     0.359938\n",
       "UT     0.340436\n",
       "IA     0.337217\n",
       "DC     0.333999\n",
       "KS     0.302000\n",
       "NE     0.277575\n",
       "OR     0.271516\n",
       "SC     0.250499\n",
       "LA     0.204868\n",
       "AL     0.188395\n",
       "NH     0.167189\n",
       "RI     0.166431\n",
       "NV     0.155828\n",
       "OK     0.152988\n",
       "PR     0.107735\n",
       "ID     0.102812\n",
       "NM     0.093913\n",
       "MS     0.081796\n",
       "ME     0.074790\n",
       "VT     0.063997\n",
       "WV     0.058317\n",
       "HI     0.057370\n",
       "MP     0.051880\n",
       "ND     0.046578\n",
       "GU     0.042223\n",
       "SD     0.034839\n",
       "WY     0.018366\n",
       "MT     0.018366\n",
       "AK     0.013065\n",
       "VI     0.010035\n",
       "FM     0.000189\n",
       "AS     0.000189\n",
       "Name: EMPLOYER_STATE, dtype: float64"
      ]
     },
     "execution_count": 80,
     "metadata": {},
     "output_type": "execute_result"
    }
   ],
   "source": [
    "(df1.EMPLOYER_STATE.value_counts()/df1.shape[0])*100"
   ]
  },
  {
   "cell_type": "markdown",
   "metadata": {},
   "source": [
    "##### Observation :  California, New Jersey, Texas has highest applicants"
   ]
  },
  {
   "cell_type": "markdown",
   "metadata": {},
   "source": [
    "#### JOB_TITLE"
   ]
  },
  {
   "cell_type": "code",
   "execution_count": 81,
   "metadata": {},
   "outputs": [
    {
     "data": {
      "text/plain": [
       "<matplotlib.axes._subplots.AxesSubplot at 0x1dbcd05b0b8>"
      ]
     },
     "execution_count": 81,
     "metadata": {},
     "output_type": "execute_result"
    },
    {
     "data": {
      "image/png": "[encoded data removed]",
      "text/plain": [
       "<Figure size 1080x360 with 1 Axes>"
      ]
     },
     "metadata": {
      "needs_background": "light"
     },
     "output_type": "display_data"
    }
   ],
   "source": [
    "plt.figure(figsize=(15,5))\n",
    "df1.JOB_TITLE.value_counts().head(20).plot(kind='bar')"
   ]
  },
  {
   "cell_type": "code",
   "execution_count": 82,
   "metadata": {},
   "outputs": [
    {
     "data": {
      "text/plain": [
       "PROGRAMMER ANALYST                                              7.855972\n",
       "SOFTWARE ENGINEER                                               4.502164\n",
       "SOFTWARE DEVELOPER                                              2.558952\n",
       "SYSTEMS ANALYST                                                 1.693660\n",
       "COMPUTER PROGRAMMER                                             1.277109\n",
       "BUSINESS ANALYST                                                1.224283\n",
       "COMPUTER SYSTEMS ANALYST                                        1.066940\n",
       "SENIOR SOFTWARE ENGINEER                                        1.059366\n",
       "DEVELOPER                                                       0.904674\n",
       "ASSISTANT PROFESSOR                                             0.746006\n",
       "PROJECT MANAGER                                                 0.676707\n",
       "CONSULTANT                                                      0.603432\n",
       "ASSOCIATE                                                       0.567078\n",
       "DEVELOPER USER INTERFACE                                        0.558747\n",
       "ANALYST                                                         0.532997\n",
       "DATABASE ADMINISTRATOR                                          0.494560\n",
       "SENIOR CONSULTANT                                               0.472975\n",
       "PHYSICAL THERAPIST                                              0.426587\n",
       "APPLICATION DEVELOPER                                           0.415415\n",
       "ACCOUNTANT                                                      0.412954\n",
       "TECHNOLOGY LEAD - US                                            0.411818\n",
       "JAVA DEVELOPER                                                  0.388908\n",
       "TECHNOLOGY LEAD - US - PRACTITIONER                             0.380577\n",
       "SENIOR SOFTWARE DEVELOPER                                       0.374707\n",
       "COMPUTER PROGRAMMER ANALYST                                     0.369784\n",
       "NETWORK ENGINEER                                                0.333809\n",
       "BUSINESS SYSTEMS ANALYST                                        0.316579\n",
       "ADVISORY SENIOR                                                 0.298781\n",
       "SYSTEMS ENGINEER                                                0.298402\n",
       "RESEARCH ASSOCIATE                                              0.291018\n",
       "                                                                  ...   \n",
       "SENIOR SOFTWARE DEVELOPER .NET                                  0.000189\n",
       "SENIOR DESIGN ASSURANCE ENGINEER                                0.000189\n",
       "NODE.JS DEVELOPER                                               0.000189\n",
       "ASSOCIATE, FINANCE                                              0.000189\n",
       "SR. SOFTWARE TEST/SOFTWARE QA                                   0.000189\n",
       "RESIDENCE HALL COORDINATOR                                      0.000189\n",
       "FINANCIAL CONSULTANT, ACTUARIAL                                 0.000189\n",
       "GEOSCIENTIST II                                                 0.000189\n",
       "SOFTWARE ENGINEER 1615.28174                                    0.000189\n",
       "SENIOR ICM SPECIALIST                                           0.000189\n",
       "FOOD SAFETY, QUALITY PROGRAM & PRODUCT DEVELOPMENT MANAGER      0.000189\n",
       "PRINCIPAL ENGR-SW DEVLPMT (PRINCIPAL MEMBER TECHNICAL STAFF)    0.000189\n",
       "ODM/WEBSPHERE DEVELOPER/ADMINISTRATOR                           0.000189\n",
       "PROGRAMMER ANALYST  - TEAM LEAD                                 0.000189\n",
       "JUNIOR QA DEVELOPER                                             0.000189\n",
       "FPGA DESIGN ENGINEER - AUTONOMOUS VEHICLE - VDS                 0.000189\n",
       "FELLOW - NEONATAL/PERINATAL MEDICINE                            0.000189\n",
       "SOFTWARE ENGINEER - SITE RELIABILITY (1615.27746)               0.000189\n",
       "CFD AERODYNAMIC ENGINEER                                        0.000189\n",
       "AMBULATORY NETWORK PHYSICIAN                                    0.000189\n",
       "VICE PRESIDENT, PLACEMENT SPECIALIST                            0.000189\n",
       "GENERAL MANAGER, SPROUT                                         0.000189\n",
       "ASSOCIATE APPLICATION ARCHITECT                                 0.000189\n",
       "BI ANALYTICS CONSULANT                                          0.000189\n",
       "MICROSTRATEGY/DATA ANALYTICS DEVELOPER                          0.000189\n",
       "INVESTMENT FUND MANAGERS                                        0.000189\n",
       "LEAD TOOL AND DIE SPECIALIST                                    0.000189\n",
       "CARDIOLOGIST-EP                                                 0.000189\n",
       "CNC PROGRAMMER TEAM LEADER, MANUFACTURING ENG                   0.000189\n",
       "STAFF EDUCATOR/PERCEPTOR                                        0.000189\n",
       "Name: JOB_TITLE, Length: 81188, dtype: float64"
      ]
     },
     "execution_count": 82,
     "metadata": {},
     "output_type": "execute_result"
    }
   ],
   "source": [
    "(df1.JOB_TITLE.value_counts()/df1.shape[0])*100"
   ]
  },
  {
   "cell_type": "markdown",
   "metadata": {},
   "source": [
    "##### Observation : Applicants with Job title as PROGRAMMER ANALYST, SOFTWARE ENGINEER, SOFTWARE DEVELOPER are applying most"
   ]
  },
  {
   "cell_type": "markdown",
   "metadata": {},
   "source": [
    "#### SOC_NAME"
   ]
  },
  {
   "cell_type": "code",
   "execution_count": 83,
   "metadata": {},
   "outputs": [
    {
     "data": {
      "text/plain": [
       "<matplotlib.axes._subplots.AxesSubplot at 0x1dbcbb4fc50>"
      ]
     },
     "execution_count": 83,
     "metadata": {},
     "output_type": "execute_result"
    },
    {
     "data": {
      "image/png": "[encoded data removed]",
      "text/plain": [
       "<Figure size 1080x360 with 1 Axes>"
      ]
     },
     "metadata": {
      "needs_background": "light"
     },
     "output_type": "display_data"
    }
   ],
   "source": [
    "plt.figure(figsize=(15,5))\n",
    "df1.SOC_NAME.value_counts().head(20).plot(kind='bar')"
   ]
  },
  {
   "cell_type": "code",
   "execution_count": 84,
   "metadata": {},
   "outputs": [
    {
     "data": {
      "text/plain": [
       "SOFTWARE DEVELOPERS, APPLICATIONS                                 19.412625\n",
       "COMPUTER SYSTEMS ANALYSTS                                         14.594828\n",
       "COMPUTER PROGRAMMERS                                              11.421084\n",
       "COMPUTER OCCUPATIONS, ALL OTHER                                    8.287670\n",
       "SOFTWARE DEVELOPERS, SYSTEMS SOFTWARE                              2.914535\n",
       "COMPUTER SYSTEMS ANALYST                                           2.668580\n",
       "MANAGEMENT ANALYSTS                                                2.120815\n",
       "ACCOUNTANTS AND AUDITORS                                           1.984678\n",
       "NETWORK AND COMPUTER SYSTEMS ADMINISTRATORS                        1.767504\n",
       "MECHANICAL ENGINEERS                                               1.648597\n",
       "FINANCIAL ANALYSTS                                                 1.617545\n",
       "OPERATIONS RESEARCH ANALYSTS                                       1.556198\n",
       "MARKET RESEARCH ANALYSTS AND MARKETING SPECIALISTS                 1.301155\n",
       "DATABASE ADMINISTRATORS                                            1.233560\n",
       "ELECTRONICS ENGINEERS, EXCEPT COMPUTER                             1.069401\n",
       "COMPUTER AND INFORMATION SYSTEMS MANAGERS                          1.034184\n",
       "ELECTRICAL ENGINEERS                                               1.033616\n",
       "PHYSICIANS AND SURGEONS, ALL OTHER                                 0.954282\n",
       "STATISTICIANS                                                      0.832156\n",
       "WEB DEVELOPERS                                                     0.768159\n",
       "MEDICAL SCIENTISTS, EXCEPT EPIDEMIOLOGISTS                         0.721581\n",
       "CIVIL ENGINEERS                                                    0.585634\n",
       "INDUSTRIAL ENGINEERS                                               0.578249\n",
       "ENGINEERS, ALL OTHER                                               0.578060\n",
       "BIOLOGICAL SCIENTISTS, ALL OTHER                                   0.533565\n",
       "BIOCHEMISTS AND BIOPHYSICISTS                                      0.490963\n",
       "PHYSICAL THERAPISTS                                                0.461615\n",
       "SOFTWARE QUALITY ASSURANCE ENGINEERS AND TESTERS                   0.448172\n",
       "MARKETING MANAGERS                                                 0.446846\n",
       "FINANCIAL SPECIALISTS, ALL OTHER                                   0.395345\n",
       "                                                                    ...    \n",
       "TEAM ASSEMBLERS                                                    0.000189\n",
       "17-2071                                                            0.000189\n",
       "SHOE AND LEATHER WORKERS AND REPAIRERS                             0.000189\n",
       "SPECIAL EDUCATION TEACHERS, KINDERGARTEN AND ELEME                 0.000189\n",
       "NONFARM ANIMAL CARETAKERS                                          0.000189\n",
       "SALES REPRESENTATIVES, WHOLESALE AND MANUFACT                      0.000189\n",
       "HEALTH SPECIALITY TEACHERS, POSTSECONDARY                          0.000189\n",
       "SECURITIES,COMMODITIESFINANCIALSRVCES SALES AGENTS                 0.000189\n",
       "MEDICAL SCIENTIST, EXCEPT EPIDEMIOLOGIST                           0.000189\n",
       "GENETICISTS                                                        0.000189\n",
       "LICENSED PRACTICAL AND LICENSED VOCATIONAL NURSES                  0.000189\n",
       "SOFTWARE ENGINEERS                                                 0.000189\n",
       "MARKET RESEARCH ANALYSTS & MARKETING SPECIALISTS                   0.000189\n",
       "SOFTWARE DEVELOPERS,APPLICATONS                                    0.000189\n",
       "MARKET RESEARCH ANALYSTS AND MARKET SPECIALISTS                    0.000189\n",
       "ARCHITECTURAL & ENGINEERING MANGERS                                0.000189\n",
       "HEALTHCARE PRACTITIONERS & TECHNICAL WORKERS                       0.000189\n",
       "COMPUTER OCUPATIONS, ALL OTHER                                     0.000189\n",
       "FINE ARTISTS                                                       0.000189\n",
       "COMPUTER DEVELOPERS, APPLICATIONS                                  0.000189\n",
       "WEB ADMINISTRATORS                                                 0.000189\n",
       "BIOSTATISTICIAN                                                    0.000189\n",
       "ELECTRICAL ENGINEER                                                0.000189\n",
       "SOFTWARE DEVELOPERS, APPLCATIONS                                   0.000189\n",
       "BIOCHEMIST                                                         0.000189\n",
       "STATISCIANS                                                        0.000189\n",
       "NURSING AIDES, ORDERLIES, AND ATTENDANTS                           0.000189\n",
       "ELECTROMECHANICAL ENGINEERING TECHNOLOGISTS                        0.000189\n",
       "TRANSPORTATION PLANNERS                                            0.000189\n",
       "PURCHASING AGENTS, EXCEPT WHOLESALE, RETAIL, AND FARM PRODUCTS     0.000189\n",
       "Name: SOC_NAME, Length: 821, dtype: float64"
      ]
     },
     "execution_count": 84,
     "metadata": {},
     "output_type": "execute_result"
    }
   ],
   "source": [
    "(df1.SOC_NAME.value_counts()/df1.shape[0])*100"
   ]
  },
  {
   "cell_type": "markdown",
   "metadata": {},
   "source": [
    "##### Observation : Most Applications are from SOC_NAME SOFTWARE DEVELOPERS, APPLICATIONS, COMPUTER SYSTEMS ANALYSTS,COMPUTER PROGRAMMERS"
   ]
  },
  {
   "cell_type": "markdown",
   "metadata": {},
   "source": [
    "#### TOTAL_WORKERS"
   ]
  },
  {
   "cell_type": "code",
   "execution_count": 85,
   "metadata": {},
   "outputs": [
    {
     "data": {
      "text/plain": [
       "<matplotlib.axes._subplots.AxesSubplot at 0x1dbcc052908>"
      ]
     },
     "execution_count": 85,
     "metadata": {},
     "output_type": "execute_result"
    },
    {
     "data": {
      "image/png": "[encoded data removed]",
      "text/plain": [
       "<Figure size 1080x360 with 1 Axes>"
      ]
     },
     "metadata": {
      "needs_background": "light"
     },
     "output_type": "display_data"
    }
   ],
   "source": [
    "plt.figure(figsize=(15,5))\n",
    "df1.TOTAL_WORKERS.value_counts().plot(kind='bar')"
   ]
  },
  {
   "cell_type": "markdown",
   "metadata": {},
   "source": [
    "##### Observation : Total number of foreign workers request by the employer is mostly 1"
   ]
  },
  {
   "cell_type": "markdown",
   "metadata": {},
   "source": [
    "#### FULL_TIME_POSITION"
   ]
  },
  {
   "cell_type": "code",
   "execution_count": 86,
   "metadata": {},
   "outputs": [
    {
     "data": {
      "text/plain": [
       "<matplotlib.axes._subplots.AxesSubplot at 0x1dbcf33d748>"
      ]
     },
     "execution_count": 86,
     "metadata": {},
     "output_type": "execute_result"
    },
    {
     "data": {
      "image/png": "[encoded data removed]",
      "text/plain": [
       "<Figure size 432x288 with 1 Axes>"
      ]
     },
     "metadata": {
      "needs_background": "light"
     },
     "output_type": "display_data"
    }
   ],
   "source": [
    "df1.FULL_TIME_POSITION.value_counts().plot(kind='bar')"
   ]
  },
  {
   "cell_type": "code",
   "execution_count": 87,
   "metadata": {},
   "outputs": [
    {
     "data": {
      "text/plain": [
       "Y    97.689843\n",
       "N     2.309399\n",
       "Name: FULL_TIME_POSITION, dtype: float64"
      ]
     },
     "execution_count": 87,
     "metadata": {},
     "output_type": "execute_result"
    }
   ],
   "source": [
    "(df1.FULL_TIME_POSITION.value_counts()/df1.shape[0])*100"
   ]
  },
  {
   "cell_type": "markdown",
   "metadata": {},
   "source": [
    "##### Observation : 97% of applicants are full time applicants"
   ]
  },
  {
   "cell_type": "markdown",
   "metadata": {},
   "source": [
    "#### PREVAILING_WAGE"
   ]
  },
  {
   "cell_type": "code",
   "execution_count": 88,
   "metadata": {
    "scrolled": true
   },
   "outputs": [
    {
     "name": "stderr",
     "output_type": "stream",
     "text": [
      "D:\\Anaconda\\lib\\site-packages\\ipykernel_launcher.py:1: SettingWithCopyWarning: \n",
      "A value is trying to be set on a copy of a slice from a DataFrame.\n",
      "Try using .loc[row_indexer,col_indexer] = value instead\n",
      "\n",
      "See the caveats in the documentation: http://pandas.pydata.org/pandas-docs/stable/indexing.html#indexing-view-versus-copy\n",
      "  \"\"\"Entry point for launching an IPython kernel.\n"
     ]
    }
   ],
   "source": [
    "df1['PREVAILING_WAGE']=df1['PREVAILING_WAGE'].apply(lambda x:x.replace(\",\",\"\"))"
   ]
  },
  {
   "cell_type": "code",
   "execution_count": 89,
   "metadata": {},
   "outputs": [
    {
     "name": "stderr",
     "output_type": "stream",
     "text": [
      "D:\\Anaconda\\lib\\site-packages\\ipykernel_launcher.py:1: SettingWithCopyWarning: \n",
      "A value is trying to be set on a copy of a slice from a DataFrame.\n",
      "Try using .loc[row_indexer,col_indexer] = value instead\n",
      "\n",
      "See the caveats in the documentation: http://pandas.pydata.org/pandas-docs/stable/indexing.html#indexing-view-versus-copy\n",
      "  \"\"\"Entry point for launching an IPython kernel.\n"
     ]
    }
   ],
   "source": [
    "df1['PREVAILING_WAGE'] = df1['PREVAILING_WAGE'].astype('float')"
   ]
  },
  {
   "cell_type": "code",
   "execution_count": 90,
   "metadata": {},
   "outputs": [
    {
     "data": {
      "text/plain": [
       "<matplotlib.axes._subplots.AxesSubplot at 0x1dbceddcbe0>"
      ]
     },
     "execution_count": 90,
     "metadata": {},
     "output_type": "execute_result"
    },
    {
     "data": {
      "image/png": "[encoded data removed]",
      "text/plain": [
       "<Figure size 432x288 with 1 Axes>"
      ]
     },
     "metadata": {
      "needs_background": "light"
     },
     "output_type": "display_data"
    }
   ],
   "source": [
    "sns.kdeplot(df1.PREVAILING_WAGE)"
   ]
  },
  {
   "cell_type": "markdown",
   "metadata": {},
   "source": [
    "##### Observation : Prevailing Wage is not distributed normally and highly skewed with multiple peaks"
   ]
  },
  {
   "cell_type": "markdown",
   "metadata": {},
   "source": [
    "#### PW_UNIT_OF_PAY"
   ]
  },
  {
   "cell_type": "code",
   "execution_count": 91,
   "metadata": {},
   "outputs": [
    {
     "data": {
      "text/plain": [
       "<matplotlib.axes._subplots.AxesSubplot at 0x1dbcee3d208>"
      ]
     },
     "execution_count": 91,
     "metadata": {},
     "output_type": "execute_result"
    },
    {
     "data": {
      "image/png": "[encoded data removed]",
      "text/plain": [
       "<Figure size 432x288 with 1 Axes>"
      ]
     },
     "metadata": {
      "needs_background": "light"
     },
     "output_type": "display_data"
    }
   ],
   "source": [
    "df1.PW_UNIT_OF_PAY.value_counts().plot(kind='bar')"
   ]
  },
  {
   "cell_type": "code",
   "execution_count": 92,
   "metadata": {},
   "outputs": [
    {
     "data": {
      "text/plain": [
       "Year         93.642667\n",
       "Hour          6.268721\n",
       "Month         0.049797\n",
       "Week          0.023289\n",
       "Bi-Weekly     0.008899\n",
       "Name: PW_UNIT_OF_PAY, dtype: float64"
      ]
     },
     "execution_count": 92,
     "metadata": {},
     "output_type": "execute_result"
    }
   ],
   "source": [
    "(df1.PW_UNIT_OF_PAY.value_counts()/df1.shape[0])*100"
   ]
  },
  {
   "cell_type": "markdown",
   "metadata": {},
   "source": [
    "##### Observation : Most of the applications are paid Yearly"
   ]
  },
  {
   "cell_type": "markdown",
   "metadata": {},
   "source": [
    "#### PW_SOURCE_YEAR"
   ]
  },
  {
   "cell_type": "code",
   "execution_count": 93,
   "metadata": {},
   "outputs": [
    {
     "data": {
      "text/plain": [
       "<matplotlib.axes._subplots.AxesSubplot at 0x1dbcee9b710>"
      ]
     },
     "execution_count": 93,
     "metadata": {},
     "output_type": "execute_result"
    },
    {
     "data": {
      "image/png": "[encoded data removed]",
      "text/plain": [
       "<Figure size 432x288 with 1 Axes>"
      ]
     },
     "metadata": {
      "needs_background": "light"
     },
     "output_type": "display_data"
    }
   ],
   "source": [
    "df1.PW_SOURCE_YEAR.value_counts().plot(kind='bar')"
   ]
  },
  {
   "cell_type": "code",
   "execution_count": 94,
   "metadata": {},
   "outputs": [
    {
     "data": {
      "text/plain": [
       "2016.0    81.239468\n",
       "2017.0    14.275598\n",
       "2015.0     2.674639\n",
       "2014.0     1.225608\n",
       "2013.0     0.509518\n",
       "2011.0     0.038626\n",
       "2012.0     0.015715\n",
       "2009.0     0.004734\n",
       "2010.0     0.002651\n",
       "2007.0     0.002461\n",
       "2008.0     0.002461\n",
       "2001.0     0.000757\n",
       "0.0        0.000379\n",
       "2000.0     0.000189\n",
       "1999.0     0.000189\n",
       "1998.0     0.000189\n",
       "1993.0     0.000189\n",
       "1.0        0.000189\n",
       "15.0       0.000189\n",
       "Name: PW_SOURCE_YEAR, dtype: float64"
      ]
     },
     "execution_count": 94,
     "metadata": {},
     "output_type": "execute_result"
    }
   ],
   "source": [
    "(df1.PW_SOURCE_YEAR.value_counts()/df1.shape[0])*100"
   ]
  },
  {
   "cell_type": "markdown",
   "metadata": {},
   "source": [
    "##### Observation : PW information is taken mostly of the year 2016"
   ]
  },
  {
   "cell_type": "markdown",
   "metadata": {},
   "source": [
    "#### WAGE_RATE_OF_PAY_FROM"
   ]
  },
  {
   "cell_type": "code",
   "execution_count": 95,
   "metadata": {},
   "outputs": [
    {
     "name": "stderr",
     "output_type": "stream",
     "text": [
      "D:\\Anaconda\\lib\\site-packages\\ipykernel_launcher.py:1: SettingWithCopyWarning: \n",
      "A value is trying to be set on a copy of a slice from a DataFrame.\n",
      "Try using .loc[row_indexer,col_indexer] = value instead\n",
      "\n",
      "See the caveats in the documentation: http://pandas.pydata.org/pandas-docs/stable/indexing.html#indexing-view-versus-copy\n",
      "  \"\"\"Entry point for launching an IPython kernel.\n",
      "D:\\Anaconda\\lib\\site-packages\\ipykernel_launcher.py:2: SettingWithCopyWarning: \n",
      "A value is trying to be set on a copy of a slice from a DataFrame.\n",
      "Try using .loc[row_indexer,col_indexer] = value instead\n",
      "\n",
      "See the caveats in the documentation: http://pandas.pydata.org/pandas-docs/stable/indexing.html#indexing-view-versus-copy\n",
      "  \n"
     ]
    },
    {
     "data": {
      "text/plain": [
       "<matplotlib.axes._subplots.AxesSubplot at 0x1dbcf4dcbe0>"
      ]
     },
     "execution_count": 95,
     "metadata": {},
     "output_type": "execute_result"
    },
    {
     "data": {
      "image/png": "[encoded data removed]",
      "text/plain": [
       "<Figure size 432x288 with 1 Axes>"
      ]
     },
     "metadata": {
      "needs_background": "light"
     },
     "output_type": "display_data"
    }
   ],
   "source": [
    "df1['WAGE_RATE_OF_PAY_FROM']=df1['WAGE_RATE_OF_PAY_FROM'].apply(lambda x:x.replace(\",\",\"\"))\n",
    "df1['WAGE_RATE_OF_PAY_FROM'] = df1['WAGE_RATE_OF_PAY_FROM'].astype('float')\n",
    "sns.kdeplot(df1.WAGE_RATE_OF_PAY_FROM)"
   ]
  },
  {
   "cell_type": "markdown",
   "metadata": {},
   "source": [
    "##### Observation :  Highly right skewed "
   ]
  },
  {
   "cell_type": "markdown",
   "metadata": {},
   "source": [
    "#### H-1B_DEPENDENT"
   ]
  },
  {
   "cell_type": "code",
   "execution_count": 96,
   "metadata": {},
   "outputs": [
    {
     "data": {
      "text/plain": [
       "<matplotlib.axes._subplots.AxesSubplot at 0x1dbcf557128>"
      ]
     },
     "execution_count": 96,
     "metadata": {},
     "output_type": "execute_result"
    },
    {
     "data": {
      "image/png": "[encoded data removed]",
      "text/plain": [
       "<Figure size 432x288 with 1 Axes>"
      ]
     },
     "metadata": {
      "needs_background": "light"
     },
     "output_type": "display_data"
    }
   ],
   "source": [
    "df1['H-1B_DEPENDENT'].value_counts().plot(kind='bar')"
   ]
  },
  {
   "cell_type": "code",
   "execution_count": 97,
   "metadata": {},
   "outputs": [
    {
     "data": {
      "text/plain": [
       "N    61.132338\n",
       "Y    36.917254\n",
       "Name: H-1B_DEPENDENT, dtype: float64"
      ]
     },
     "execution_count": 97,
     "metadata": {},
     "output_type": "execute_result"
    }
   ],
   "source": [
    "(df1['H-1B_DEPENDENT'].value_counts()/df1.shape[0])*100"
   ]
  },
  {
   "cell_type": "markdown",
   "metadata": {},
   "source": [
    "##### Observation : Applicants with No H1B dependents have more count than applicants with H1B Applicants"
   ]
  },
  {
   "cell_type": "markdown",
   "metadata": {},
   "source": [
    "#### WILLFUL_VIOLATOR"
   ]
  },
  {
   "cell_type": "code",
   "execution_count": 98,
   "metadata": {},
   "outputs": [
    {
     "data": {
      "text/plain": [
       "<matplotlib.axes._subplots.AxesSubplot at 0x1dbcf5b8cf8>"
      ]
     },
     "execution_count": 98,
     "metadata": {},
     "output_type": "execute_result"
    },
    {
     "data": {
      "image/png": "[encoded data removed]",
      "text/plain": [
       "<Figure size 432x288 with 1 Axes>"
      ]
     },
     "metadata": {
      "needs_background": "light"
     },
     "output_type": "display_data"
    }
   ],
   "source": [
    "df1.WILLFUL_VIOLATOR.value_counts().plot(kind='bar')"
   ]
  },
  {
   "cell_type": "code",
   "execution_count": 99,
   "metadata": {},
   "outputs": [
    {
     "data": {
      "text/plain": [
       "N    97.969122\n",
       "Y     0.080281\n",
       "Name: WILLFUL_VIOLATOR, dtype: float64"
      ]
     },
     "execution_count": 99,
     "metadata": {},
     "output_type": "execute_result"
    }
   ],
   "source": [
    "(df1['WILLFUL_VIOLATOR'].value_counts()/df1.shape[0])*100"
   ]
  },
  {
   "cell_type": "markdown",
   "metadata": {},
   "source": [
    "##### Observation : Most of the applicants have not violated any norms"
   ]
  },
  {
   "cell_type": "markdown",
   "metadata": {},
   "source": [
    "# BI-VARIATE ANALYSIS"
   ]
  },
  {
   "cell_type": "code",
   "execution_count": 100,
   "metadata": {},
   "outputs": [
    {
     "data": {
      "text/plain": [
       "<matplotlib.axes._subplots.AxesSubplot at 0x1dbcf6010b8>"
      ]
     },
     "execution_count": 100,
     "metadata": {},
     "output_type": "execute_result"
    },
    {
     "data": {
      "image/png": "[encoded data removed]",
      "text/plain": [
       "<Figure size 432x288 with 1 Axes>"
      ]
     },
     "metadata": {
      "needs_background": "light"
     },
     "output_type": "display_data"
    }
   ],
   "source": [
    "sns.countplot(df1.VISA_CLASS,hue=df1.CASE_STATUS)"
   ]
  },
  {
   "cell_type": "markdown",
   "metadata": {},
   "source": [
    "##### Observation - Maximum number of applicants are for H1B Visa and are maximum of them are certified"
   ]
  },
  {
   "cell_type": "code",
   "execution_count": 101,
   "metadata": {},
   "outputs": [
    {
     "data": {
      "text/plain": [
       "<matplotlib.axes._subplots.AxesSubplot at 0x1dbcf4e2128>"
      ]
     },
     "execution_count": 101,
     "metadata": {},
     "output_type": "execute_result"
    },
    {
     "data": {
      "image/png": "[encoded data removed]",
      "text/plain": [
       "<Figure size 720x360 with 1 Axes>"
      ]
     },
     "metadata": {
      "needs_background": "light"
     },
     "output_type": "display_data"
    }
   ],
   "source": [
    "plt.figure(figsize=(10,5))\n",
    "sns.countplot(df1.EMPLOYER_COUNTRY,hue=df.CASE_STATUS)"
   ]
  },
  {
   "cell_type": "markdown",
   "metadata": {},
   "source": [
    "##### Observation - Employers_Country USA has maximum number of Applicants"
   ]
  },
  {
   "cell_type": "code",
   "execution_count": 102,
   "metadata": {},
   "outputs": [
    {
     "data": {
      "text/plain": [
       "<matplotlib.axes._subplots.AxesSubplot at 0x1dbcf759be0>"
      ]
     },
     "execution_count": 102,
     "metadata": {},
     "output_type": "execute_result"
    },
    {
     "data": {
      "image/png": "[encoded data removed]",
      "text/plain": [
       "<Figure size 1440x360 with 1 Axes>"
      ]
     },
     "metadata": {
      "needs_background": "light"
     },
     "output_type": "display_data"
    }
   ],
   "source": [
    "crosstab = pd.crosstab(index=df1.EMPLOYER_STATE,columns=df1.CASE_STATUS)\n",
    "crosstab.plot.bar(stacked=True,figsize=(20,5),legend=True)"
   ]
  },
  {
   "cell_type": "markdown",
   "metadata": {},
   "source": [
    "##### Observation : The applicatants are maximum for California,Texas and New Jersey"
   ]
  },
  {
   "cell_type": "code",
   "execution_count": 103,
   "metadata": {},
   "outputs": [
    {
     "data": {
      "text/plain": [
       "<matplotlib.axes._subplots.AxesSubplot at 0x1dbe3092780>"
      ]
     },
     "execution_count": 103,
     "metadata": {},
     "output_type": "execute_result"
    },
    {
     "data": {
      "image/png": "[encoded data removed]",
      "text/plain": [
       "<Figure size 432x288 with 1 Axes>"
      ]
     },
     "metadata": {
      "needs_background": "light"
     },
     "output_type": "display_data"
    }
   ],
   "source": [
    "sns.countplot(df1['H-1B_DEPENDENT'],hue=df1.CASE_STATUS)"
   ]
  },
  {
   "cell_type": "markdown",
   "metadata": {},
   "source": [
    "##### Observation - Here we can say that the applicants Certification and Denial is not dependent on H-1B_DEPENDENT"
   ]
  },
  {
   "cell_type": "code",
   "execution_count": 104,
   "metadata": {},
   "outputs": [
    {
     "data": {
      "text/plain": [
       "<matplotlib.axes._subplots.AxesSubplot at 0x1dbe31035c0>"
      ]
     },
     "execution_count": 104,
     "metadata": {},
     "output_type": "execute_result"
    },
    {
     "data": {
      "image/png": "[encoded data removed]",
      "text/plain": [
       "<Figure size 432x288 with 1 Axes>"
      ]
     },
     "metadata": {
      "needs_background": "light"
     },
     "output_type": "display_data"
    }
   ],
   "source": [
    "sns.countplot(df1['FULL_TIME_POSITION'],hue=df1.CASE_STATUS)"
   ]
  },
  {
   "cell_type": "markdown",
   "metadata": {},
   "source": [
    "##### Observation - Here we can say that the applicants Certification and Denial is not dependent on FULL_TIME_POSITION"
   ]
  },
  {
   "cell_type": "code",
   "execution_count": 105,
   "metadata": {},
   "outputs": [
    {
     "data": {
      "text/plain": [
       "<matplotlib.axes._subplots.AxesSubplot at 0x1dbe2e964a8>"
      ]
     },
     "execution_count": 105,
     "metadata": {},
     "output_type": "execute_result"
    },
    {
     "data": {
      "image/png": "[encoded data removed]",
      "text/plain": [
       "<Figure size 432x288 with 1 Axes>"
      ]
     },
     "metadata": {
      "needs_background": "light"
     },
     "output_type": "display_data"
    }
   ],
   "source": [
    "sns.barplot(x=df1['CASE_STATUS'],y=df1['WAGE_RATE_OF_PAY_FROM'])"
   ]
  },
  {
   "cell_type": "markdown",
   "metadata": {},
   "source": [
    "##### Observation : WAGE_RATE_OF_PAY_FROM has huge amount of outliers and Certified and Denied WAGE_RATE_OF_PAY_FROM is almost similar"
   ]
  },
  {
   "cell_type": "code",
   "execution_count": 106,
   "metadata": {},
   "outputs": [
    {
     "data": {
      "text/plain": [
       "<matplotlib.axes._subplots.AxesSubplot at 0x1dbe2f13358>"
      ]
     },
     "execution_count": 106,
     "metadata": {},
     "output_type": "execute_result"
    },
    {
     "data": {
      "image/png": "[encoded data removed]",
      "text/plain": [
       "<Figure size 432x288 with 2 Axes>"
      ]
     },
     "metadata": {
      "needs_background": "light"
     },
     "output_type": "display_data"
    }
   ],
   "source": [
    "dfnum = df1[['TOTAL_WORKERS','PREVAILING_WAGE','PW_SOURCE_YEAR','WAGE_RATE_OF_PAY_FROM']]\n",
    "sns.heatmap(dfnum.corr(),annot=True)"
   ]
  },
  {
   "cell_type": "markdown",
   "metadata": {},
   "source": [
    "##### No correlation can be seen between the continous variables of the dataset"
   ]
  },
  {
   "cell_type": "code",
   "execution_count": null,
   "metadata": {},
   "outputs": [],
   "source": []
  },
  {
   "cell_type": "markdown",
   "metadata": {},
   "source": [
    "# Problem Statement : Predicting the Status of H-1B Visa Applications"
   ]
  },
  {
   "cell_type": "markdown",
   "metadata": {},
   "source": [
    "- According to the problem statemnt we take only H1B Applications from the dataset\n",
    "- H1B visas are for US Based Companies hence we consider EMPLOYER_COUNTRY as USA\n",
    "- According to the business problem the Employer will be concerned whether the Employees visa is getting Certified or Denied hence we take dataset with CASE_STATUS as CERTIFIED and DENIED only\n",
    "- Taking dataset of the year 2017"
   ]
  },
  {
   "cell_type": "markdown",
   "metadata": {},
   "source": [
    "# Filtering Dataset"
   ]
  },
  {
   "cell_type": "markdown",
   "metadata": {},
   "source": [
    "##### 1. Filtering on CASE_STATUS"
   ]
  },
  {
   "cell_type": "code",
   "execution_count": 107,
   "metadata": {},
   "outputs": [],
   "source": [
    "casestatus = ['CERTIFIED', 'DENIED']\n",
    "df1 = df1[df1.CASE_STATUS.isin(casestatus)]"
   ]
  },
  {
   "cell_type": "markdown",
   "metadata": {},
   "source": [
    "##### 2. Filtering on VISA_CLASS"
   ]
  },
  {
   "cell_type": "code",
   "execution_count": 108,
   "metadata": {},
   "outputs": [],
   "source": [
    "df1 = df1[df1.VISA_CLASS == 'H-1B']"
   ]
  },
  {
   "cell_type": "markdown",
   "metadata": {},
   "source": [
    "##### 3. Filtering on EMPLOYER_COUNTRY"
   ]
  },
  {
   "cell_type": "code",
   "execution_count": 109,
   "metadata": {},
   "outputs": [
    {
     "data": {
      "text/plain": [
       "(466099, 25)"
      ]
     },
     "execution_count": 109,
     "metadata": {},
     "output_type": "execute_result"
    }
   ],
   "source": [
    "df1.shape"
   ]
  },
  {
   "cell_type": "code",
   "execution_count": 110,
   "metadata": {},
   "outputs": [],
   "source": [
    "df1 = df1.dropna(axis=0, subset=['EMPLOYER_STATE'])"
   ]
  },
  {
   "cell_type": "markdown",
   "metadata": {},
   "source": [
    "##### 4. Filtering for year 2017"
   ]
  },
  {
   "cell_type": "markdown",
   "metadata": {},
   "source": [
    "Extracting Year From CASE_SUBMITTED_YEAR Column"
   ]
  },
  {
   "cell_type": "code",
   "execution_count": 111,
   "metadata": {},
   "outputs": [],
   "source": [
    "df1['CASE_SUBMITTED'] = pd.to_datetime(df1['CASE_SUBMITTED'])"
   ]
  },
  {
   "cell_type": "code",
   "execution_count": 112,
   "metadata": {},
   "outputs": [],
   "source": [
    "df1[\"CASE_SUBMITTED_YEAR\"] = df1['CASE_SUBMITTED'].dt.year "
   ]
  },
  {
   "cell_type": "code",
   "execution_count": 113,
   "metadata": {},
   "outputs": [
    {
     "data": {
      "text/plain": [
       "2017    386391\n",
       "2016     79697\n",
       "Name: CASE_SUBMITTED_YEAR, dtype: int64"
      ]
     },
     "execution_count": 113,
     "metadata": {},
     "output_type": "execute_result"
    }
   ],
   "source": [
    "df1['CASE_SUBMITTED_YEAR'].value_counts()"
   ]
  },
  {
   "cell_type": "code",
   "execution_count": 114,
   "metadata": {},
   "outputs": [],
   "source": [
    "df1 = df1[df1.CASE_SUBMITTED_YEAR==2017]"
   ]
  },
  {
   "cell_type": "code",
   "execution_count": 115,
   "metadata": {},
   "outputs": [
    {
     "data": {
      "text/plain": [
       "(386391, 26)"
      ]
     },
     "execution_count": 115,
     "metadata": {},
     "output_type": "execute_result"
    }
   ],
   "source": [
    "df1.shape"
   ]
  },
  {
   "cell_type": "code",
   "execution_count": null,
   "metadata": {},
   "outputs": [],
   "source": []
  },
  {
   "cell_type": "markdown",
   "metadata": {},
   "source": [
    "# TREATING NULL VALUES and ANAMOLIES in DATASET"
   ]
  },
  {
   "cell_type": "code",
   "execution_count": 116,
   "metadata": {},
   "outputs": [
    {
     "data": {
      "text/plain": [
       "EMPLOYMENT_START_DATE       11\n",
       "EMPLOYMENT_END_DATE         13\n",
       "EMPLOYER_NAME               23\n",
       "EMPLOYER_ADDRESS             1\n",
       "EMPLOYER_COUNTRY         92255\n",
       "JOB_TITLE                    2\n",
       "NAICS_CODE                   2\n",
       "FULL_TIME_POSITION           2\n",
       "PW_UNIT_OF_PAY              18\n",
       "PW_SOURCE_YEAR              18\n",
       "WAGE_UNIT_OF_PAY             3\n",
       "H-1B_DEPENDENT               2\n",
       "WILLFUL_VIOLATOR             2\n",
       "dtype: int64"
      ]
     },
     "execution_count": 116,
     "metadata": {},
     "output_type": "execute_result"
    }
   ],
   "source": [
    "df1.isnull().sum()[df1.isnull().sum()!=0]"
   ]
  },
  {
   "cell_type": "code",
   "execution_count": 117,
   "metadata": {},
   "outputs": [
    {
     "data": {
      "text/plain": [
       "EMPLOYER_COUNTRY         23.876074\n",
       "EMPLOYER_NAME             0.005953\n",
       "PW_SOURCE_YEAR            0.004658\n",
       "PW_UNIT_OF_PAY            0.004658\n",
       "EMPLOYMENT_END_DATE       0.003364\n",
       "EMPLOYMENT_START_DATE     0.002847\n",
       "WAGE_UNIT_OF_PAY          0.000776\n",
       "WILLFUL_VIOLATOR          0.000518\n",
       "H-1B_DEPENDENT            0.000518\n",
       "FULL_TIME_POSITION        0.000518\n",
       "NAICS_CODE                0.000518\n",
       "JOB_TITLE                 0.000518\n",
       "EMPLOYER_ADDRESS          0.000259\n",
       "dtype: float64"
      ]
     },
     "execution_count": 117,
     "metadata": {},
     "output_type": "execute_result"
    }
   ],
   "source": [
    "((df1.isnull().sum()[df1.isnull().sum()!=0]/df1.shape[0])*100).sort_values(ascending=False)"
   ]
  },
  {
   "cell_type": "markdown",
   "metadata": {},
   "source": [
    "#### Column - EMPLOYER NAME"
   ]
  },
  {
   "cell_type": "code",
   "execution_count": 118,
   "metadata": {},
   "outputs": [
    {
     "data": {
      "text/plain": [
       "23"
      ]
     },
     "execution_count": 118,
     "metadata": {},
     "output_type": "execute_result"
    }
   ],
   "source": [
    "df1.EMPLOYER_NAME.isnull().sum()"
   ]
  },
  {
   "cell_type": "code",
   "execution_count": 119,
   "metadata": {},
   "outputs": [
    {
     "data": {
      "text/html": [
       "<div>\n",
       "<style scoped>\n",
       "    .dataframe tbody tr th:only-of-type {\n",
       "        vertical-align: middle;\n",
       "    }\n",
       "\n",
       "    .dataframe tbody tr th {\n",
       "        vertical-align: top;\n",
       "    }\n",
       "\n",
       "    .dataframe thead th {\n",
       "        text-align: right;\n",
       "    }\n",
       "</style>\n",
       "<table border=\"1\" class=\"dataframe\">\n",
       "  <thead>\n",
       "    <tr style=\"text-align: right;\">\n",
       "      <th></th>\n",
       "      <th>CASE_STATUS</th>\n",
       "      <th>CASE_SUBMITTED</th>\n",
       "      <th>DECISION_DATE</th>\n",
       "      <th>VISA_CLASS</th>\n",
       "      <th>EMPLOYMENT_START_DATE</th>\n",
       "      <th>EMPLOYMENT_END_DATE</th>\n",
       "      <th>EMPLOYER_NAME</th>\n",
       "      <th>EMPLOYER_ADDRESS</th>\n",
       "      <th>EMPLOYER_COUNTRY</th>\n",
       "      <th>EMPLOYER_STATE</th>\n",
       "      <th>...</th>\n",
       "      <th>FULL_TIME_POSITION</th>\n",
       "      <th>PREVAILING_WAGE</th>\n",
       "      <th>PW_UNIT_OF_PAY</th>\n",
       "      <th>PW_SOURCE_YEAR</th>\n",
       "      <th>WAGE_RATE_OF_PAY_FROM</th>\n",
       "      <th>WAGE_RATE_OF_PAY_TO</th>\n",
       "      <th>WAGE_UNIT_OF_PAY</th>\n",
       "      <th>H-1B_DEPENDENT</th>\n",
       "      <th>WILLFUL_VIOLATOR</th>\n",
       "      <th>CASE_SUBMITTED_YEAR</th>\n",
       "    </tr>\n",
       "  </thead>\n",
       "  <tbody>\n",
       "    <tr>\n",
       "      <th>110168</th>\n",
       "      <td>DENIED</td>\n",
       "      <td>2017-01-13</td>\n",
       "      <td>1/19/17</td>\n",
       "      <td>H-1B</td>\n",
       "      <td>2/1/17</td>\n",
       "      <td>6/21/18</td>\n",
       "      <td>NaN</td>\n",
       "      <td>18753 N. FREDERICK AVENUE</td>\n",
       "      <td>UNITED STATES OF AMERICA</td>\n",
       "      <td>MD</td>\n",
       "      <td>...</td>\n",
       "      <td>Y</td>\n",
       "      <td>60000.00</td>\n",
       "      <td>Year</td>\n",
       "      <td>2016.0</td>\n",
       "      <td>60000.00</td>\n",
       "      <td>0.00</td>\n",
       "      <td>Year</td>\n",
       "      <td>N</td>\n",
       "      <td>N</td>\n",
       "      <td>2017</td>\n",
       "    </tr>\n",
       "    <tr>\n",
       "      <th>110605</th>\n",
       "      <td>CERTIFIED</td>\n",
       "      <td>2017-01-12</td>\n",
       "      <td>1/19/17</td>\n",
       "      <td>H-1B</td>\n",
       "      <td>1/12/17</td>\n",
       "      <td>1/26/18</td>\n",
       "      <td>NaN</td>\n",
       "      <td>222 NO. SEPULVEDA BLVD.</td>\n",
       "      <td>UNITED STATES OF AMERICA</td>\n",
       "      <td>CA</td>\n",
       "      <td>...</td>\n",
       "      <td>Y</td>\n",
       "      <td>51293.00</td>\n",
       "      <td>Year</td>\n",
       "      <td>2017.0</td>\n",
       "      <td>71000.00</td>\n",
       "      <td>0.00</td>\n",
       "      <td>Year</td>\n",
       "      <td>Y</td>\n",
       "      <td>N</td>\n",
       "      <td>2017</td>\n",
       "    </tr>\n",
       "    <tr>\n",
       "      <th>111700</th>\n",
       "      <td>CERTIFIED</td>\n",
       "      <td>2017-01-13</td>\n",
       "      <td>1/20/17</td>\n",
       "      <td>H-1B</td>\n",
       "      <td>1/16/17</td>\n",
       "      <td>1/16/20</td>\n",
       "      <td>NaN</td>\n",
       "      <td>222 NO. SEPULVEDA BLVD.</td>\n",
       "      <td>UNITED STATES OF AMERICA</td>\n",
       "      <td>CA</td>\n",
       "      <td>...</td>\n",
       "      <td>Y</td>\n",
       "      <td>59779.00</td>\n",
       "      <td>Year</td>\n",
       "      <td>2017.0</td>\n",
       "      <td>65000.00</td>\n",
       "      <td>0.00</td>\n",
       "      <td>Year</td>\n",
       "      <td>Y</td>\n",
       "      <td>N</td>\n",
       "      <td>2017</td>\n",
       "    </tr>\n",
       "    <tr>\n",
       "      <th>112292</th>\n",
       "      <td>CERTIFIED</td>\n",
       "      <td>2017-01-13</td>\n",
       "      <td>1/20/17</td>\n",
       "      <td>H-1B</td>\n",
       "      <td>4/30/17</td>\n",
       "      <td>4/29/20</td>\n",
       "      <td>NaN</td>\n",
       "      <td>I-20 &amp; ALPINE ROAD</td>\n",
       "      <td>UNITED STATES OF AMERICA</td>\n",
       "      <td>SC</td>\n",
       "      <td>...</td>\n",
       "      <td>Y</td>\n",
       "      <td>93558.00</td>\n",
       "      <td>Year</td>\n",
       "      <td>2017.0</td>\n",
       "      <td>105000.00</td>\n",
       "      <td>0.00</td>\n",
       "      <td>Year</td>\n",
       "      <td>N</td>\n",
       "      <td>N</td>\n",
       "      <td>2017</td>\n",
       "    </tr>\n",
       "    <tr>\n",
       "      <th>115180</th>\n",
       "      <td>CERTIFIED</td>\n",
       "      <td>2017-01-17</td>\n",
       "      <td>1/23/17</td>\n",
       "      <td>H-1B</td>\n",
       "      <td>2/1/17</td>\n",
       "      <td>2/1/20</td>\n",
       "      <td>NaN</td>\n",
       "      <td>222 NO. SEPULVEDA BLVD.</td>\n",
       "      <td>UNITED STATES OF AMERICA</td>\n",
       "      <td>CA</td>\n",
       "      <td>...</td>\n",
       "      <td>Y</td>\n",
       "      <td>54226.00</td>\n",
       "      <td>Year</td>\n",
       "      <td>2017.0</td>\n",
       "      <td>65000.00</td>\n",
       "      <td>0.00</td>\n",
       "      <td>Year</td>\n",
       "      <td>Y</td>\n",
       "      <td>N</td>\n",
       "      <td>2017</td>\n",
       "    </tr>\n",
       "    <tr>\n",
       "      <th>119189</th>\n",
       "      <td>CERTIFIED</td>\n",
       "      <td>2017-01-19</td>\n",
       "      <td>1/25/17</td>\n",
       "      <td>H-1B</td>\n",
       "      <td>2/23/17</td>\n",
       "      <td>2/22/20</td>\n",
       "      <td>NaN</td>\n",
       "      <td>CONCOURSE CORPORATE CENTER</td>\n",
       "      <td>UNITED STATES OF AMERICA</td>\n",
       "      <td>GA</td>\n",
       "      <td>...</td>\n",
       "      <td>Y</td>\n",
       "      <td>76003.00</td>\n",
       "      <td>Year</td>\n",
       "      <td>2016.0</td>\n",
       "      <td>77000.00</td>\n",
       "      <td>95,000.00</td>\n",
       "      <td>Year</td>\n",
       "      <td>Y</td>\n",
       "      <td>N</td>\n",
       "      <td>2017</td>\n",
       "    </tr>\n",
       "    <tr>\n",
       "      <th>119190</th>\n",
       "      <td>CERTIFIED</td>\n",
       "      <td>2017-01-19</td>\n",
       "      <td>1/25/17</td>\n",
       "      <td>H-1B</td>\n",
       "      <td>1/30/17</td>\n",
       "      <td>1/30/20</td>\n",
       "      <td>NaN</td>\n",
       "      <td>222 NO. SEPULVEDA BLVD.</td>\n",
       "      <td>UNITED STATES OF AMERICA</td>\n",
       "      <td>CA</td>\n",
       "      <td>...</td>\n",
       "      <td>Y</td>\n",
       "      <td>62754.00</td>\n",
       "      <td>Year</td>\n",
       "      <td>2017.0</td>\n",
       "      <td>65000.00</td>\n",
       "      <td>0.00</td>\n",
       "      <td>Year</td>\n",
       "      <td>Y</td>\n",
       "      <td>N</td>\n",
       "      <td>2017</td>\n",
       "    </tr>\n",
       "    <tr>\n",
       "      <th>130352</th>\n",
       "      <td>CERTIFIED</td>\n",
       "      <td>2017-01-26</td>\n",
       "      <td>2/1/17</td>\n",
       "      <td>H-1B</td>\n",
       "      <td>1/26/17</td>\n",
       "      <td>1/26/20</td>\n",
       "      <td>NaN</td>\n",
       "      <td>222 NO. SEPULVEDA BLVD.</td>\n",
       "      <td>UNITED STATES OF AMERICA</td>\n",
       "      <td>CA</td>\n",
       "      <td>...</td>\n",
       "      <td>Y</td>\n",
       "      <td>74443.00</td>\n",
       "      <td>Year</td>\n",
       "      <td>2017.0</td>\n",
       "      <td>75000.00</td>\n",
       "      <td>0.00</td>\n",
       "      <td>Year</td>\n",
       "      <td>Y</td>\n",
       "      <td>N</td>\n",
       "      <td>2017</td>\n",
       "    </tr>\n",
       "    <tr>\n",
       "      <th>137158</th>\n",
       "      <td>CERTIFIED</td>\n",
       "      <td>2017-01-31</td>\n",
       "      <td>2/6/17</td>\n",
       "      <td>H-1B</td>\n",
       "      <td>2/13/17</td>\n",
       "      <td>2/12/20</td>\n",
       "      <td>NaN</td>\n",
       "      <td>343 THORNALL STREET</td>\n",
       "      <td>UNITED STATES OF AMERICA</td>\n",
       "      <td>NJ</td>\n",
       "      <td>...</td>\n",
       "      <td>Y</td>\n",
       "      <td>84864.00</td>\n",
       "      <td>Year</td>\n",
       "      <td>2017.0</td>\n",
       "      <td>85000.00</td>\n",
       "      <td>0.00</td>\n",
       "      <td>Year</td>\n",
       "      <td>Y</td>\n",
       "      <td>N</td>\n",
       "      <td>2017</td>\n",
       "    </tr>\n",
       "    <tr>\n",
       "      <th>152919</th>\n",
       "      <td>CERTIFIED</td>\n",
       "      <td>2017-02-07</td>\n",
       "      <td>2/13/17</td>\n",
       "      <td>H-1B</td>\n",
       "      <td>2/7/17</td>\n",
       "      <td>2/7/20</td>\n",
       "      <td>NaN</td>\n",
       "      <td>222 NO. SEPULVEDA BLVD.</td>\n",
       "      <td>UNITED STATES OF AMERICA</td>\n",
       "      <td>CA</td>\n",
       "      <td>...</td>\n",
       "      <td>Y</td>\n",
       "      <td>54434.00</td>\n",
       "      <td>Year</td>\n",
       "      <td>2017.0</td>\n",
       "      <td>65000.00</td>\n",
       "      <td>0.00</td>\n",
       "      <td>Year</td>\n",
       "      <td>Y</td>\n",
       "      <td>N</td>\n",
       "      <td>2017</td>\n",
       "    </tr>\n",
       "    <tr>\n",
       "      <th>172179</th>\n",
       "      <td>CERTIFIED</td>\n",
       "      <td>2017-02-15</td>\n",
       "      <td>2/22/17</td>\n",
       "      <td>H-1B</td>\n",
       "      <td>2/15/17</td>\n",
       "      <td>1/26/18</td>\n",
       "      <td>NaN</td>\n",
       "      <td>222 NO. SEPULVEDA BLVD.</td>\n",
       "      <td>UNITED STATES OF AMERICA</td>\n",
       "      <td>CA</td>\n",
       "      <td>...</td>\n",
       "      <td>Y</td>\n",
       "      <td>72654.00</td>\n",
       "      <td>Year</td>\n",
       "      <td>2017.0</td>\n",
       "      <td>73000.00</td>\n",
       "      <td>0.00</td>\n",
       "      <td>Year</td>\n",
       "      <td>Y</td>\n",
       "      <td>N</td>\n",
       "      <td>2017</td>\n",
       "    </tr>\n",
       "    <tr>\n",
       "      <th>186080</th>\n",
       "      <td>CERTIFIED</td>\n",
       "      <td>2017-02-17</td>\n",
       "      <td>2/24/17</td>\n",
       "      <td>H-1B</td>\n",
       "      <td>2/27/17</td>\n",
       "      <td>5/25/17</td>\n",
       "      <td>NaN</td>\n",
       "      <td>222 NO. SEPULVEDA BLVD.</td>\n",
       "      <td>UNITED STATES OF AMERICA</td>\n",
       "      <td>CA</td>\n",
       "      <td>...</td>\n",
       "      <td>Y</td>\n",
       "      <td>65208.00</td>\n",
       "      <td>Year</td>\n",
       "      <td>2017.0</td>\n",
       "      <td>66000.00</td>\n",
       "      <td>0.00</td>\n",
       "      <td>Year</td>\n",
       "      <td>Y</td>\n",
       "      <td>N</td>\n",
       "      <td>2017</td>\n",
       "    </tr>\n",
       "    <tr>\n",
       "      <th>211285</th>\n",
       "      <td>CERTIFIED</td>\n",
       "      <td>2017-02-27</td>\n",
       "      <td>3/3/17</td>\n",
       "      <td>H-1B</td>\n",
       "      <td>3/20/17</td>\n",
       "      <td>3/20/20</td>\n",
       "      <td>NaN</td>\n",
       "      <td>222 NO. SEPULVEDA BLVD.</td>\n",
       "      <td>UNITED STATES OF AMERICA</td>\n",
       "      <td>CA</td>\n",
       "      <td>...</td>\n",
       "      <td>Y</td>\n",
       "      <td>61838.00</td>\n",
       "      <td>Year</td>\n",
       "      <td>2017.0</td>\n",
       "      <td>65000.00</td>\n",
       "      <td>0.00</td>\n",
       "      <td>Year</td>\n",
       "      <td>Y</td>\n",
       "      <td>N</td>\n",
       "      <td>2017</td>\n",
       "    </tr>\n",
       "    <tr>\n",
       "      <th>218598</th>\n",
       "      <td>CERTIFIED</td>\n",
       "      <td>2017-02-28</td>\n",
       "      <td>3/6/17</td>\n",
       "      <td>H-1B</td>\n",
       "      <td>3/20/17</td>\n",
       "      <td>3/20/20</td>\n",
       "      <td>NaN</td>\n",
       "      <td>222 NO. SEPULVEDA BLVD.</td>\n",
       "      <td>UNITED STATES OF AMERICA</td>\n",
       "      <td>CA</td>\n",
       "      <td>...</td>\n",
       "      <td>Y</td>\n",
       "      <td>64501.00</td>\n",
       "      <td>Year</td>\n",
       "      <td>2017.0</td>\n",
       "      <td>65000.00</td>\n",
       "      <td>0.00</td>\n",
       "      <td>Year</td>\n",
       "      <td>Y</td>\n",
       "      <td>N</td>\n",
       "      <td>2017</td>\n",
       "    </tr>\n",
       "    <tr>\n",
       "      <th>224946</th>\n",
       "      <td>CERTIFIED</td>\n",
       "      <td>2017-03-01</td>\n",
       "      <td>3/7/17</td>\n",
       "      <td>H-1B</td>\n",
       "      <td>3/1/17</td>\n",
       "      <td>9/14/19</td>\n",
       "      <td>NaN</td>\n",
       "      <td>222 NO. SEPULVEDA BLVD.</td>\n",
       "      <td>UNITED STATES OF AMERICA</td>\n",
       "      <td>CA</td>\n",
       "      <td>...</td>\n",
       "      <td>Y</td>\n",
       "      <td>44886.00</td>\n",
       "      <td>Year</td>\n",
       "      <td>2017.0</td>\n",
       "      <td>60000.00</td>\n",
       "      <td>0.00</td>\n",
       "      <td>Year</td>\n",
       "      <td>Y</td>\n",
       "      <td>N</td>\n",
       "      <td>2017</td>\n",
       "    </tr>\n",
       "    <tr>\n",
       "      <th>231532</th>\n",
       "      <td>CERTIFIED</td>\n",
       "      <td>2017-03-02</td>\n",
       "      <td>3/8/17</td>\n",
       "      <td>H-1B</td>\n",
       "      <td>9/1/17</td>\n",
       "      <td>9/1/20</td>\n",
       "      <td>NaN</td>\n",
       "      <td>222 NO. SEPULVEDA BLVD.</td>\n",
       "      <td>UNITED STATES OF AMERICA</td>\n",
       "      <td>CA</td>\n",
       "      <td>...</td>\n",
       "      <td>Y</td>\n",
       "      <td>59779.00</td>\n",
       "      <td>Year</td>\n",
       "      <td>2017.0</td>\n",
       "      <td>60000.00</td>\n",
       "      <td>0.00</td>\n",
       "      <td>Year</td>\n",
       "      <td>Y</td>\n",
       "      <td>N</td>\n",
       "      <td>2017</td>\n",
       "    </tr>\n",
       "    <tr>\n",
       "      <th>233513</th>\n",
       "      <td>CERTIFIED</td>\n",
       "      <td>2017-03-02</td>\n",
       "      <td>3/8/17</td>\n",
       "      <td>H-1B</td>\n",
       "      <td>9/1/17</td>\n",
       "      <td>9/1/20</td>\n",
       "      <td>NaN</td>\n",
       "      <td>222 NO. SEPULVEDA BLVD.</td>\n",
       "      <td>UNITED STATES OF AMERICA</td>\n",
       "      <td>CA</td>\n",
       "      <td>...</td>\n",
       "      <td>Y</td>\n",
       "      <td>70470.00</td>\n",
       "      <td>Year</td>\n",
       "      <td>2017.0</td>\n",
       "      <td>72000.00</td>\n",
       "      <td>0.00</td>\n",
       "      <td>Year</td>\n",
       "      <td>Y</td>\n",
       "      <td>N</td>\n",
       "      <td>2017</td>\n",
       "    </tr>\n",
       "    <tr>\n",
       "      <th>256078</th>\n",
       "      <td>CERTIFIED</td>\n",
       "      <td>2017-03-07</td>\n",
       "      <td>3/13/17</td>\n",
       "      <td>H-1B</td>\n",
       "      <td>9/1/17</td>\n",
       "      <td>9/1/20</td>\n",
       "      <td>NaN</td>\n",
       "      <td>3467 NOTRE DAME DRIVE</td>\n",
       "      <td>UNITED STATES OF AMERICA</td>\n",
       "      <td>CA</td>\n",
       "      <td>...</td>\n",
       "      <td>Y</td>\n",
       "      <td>102107.00</td>\n",
       "      <td>Year</td>\n",
       "      <td>2016.0</td>\n",
       "      <td>120000.00</td>\n",
       "      <td>0.00</td>\n",
       "      <td>Year</td>\n",
       "      <td>Y</td>\n",
       "      <td>N</td>\n",
       "      <td>2017</td>\n",
       "    </tr>\n",
       "    <tr>\n",
       "      <th>333330</th>\n",
       "      <td>CERTIFIED</td>\n",
       "      <td>2017-03-16</td>\n",
       "      <td>3/22/17</td>\n",
       "      <td>H-1B</td>\n",
       "      <td>7/28/17</td>\n",
       "      <td>7/27/20</td>\n",
       "      <td>NaN</td>\n",
       "      <td>1600 AMPHITHEATRE PARKWAY</td>\n",
       "      <td>UNITED STATES OF AMERICA</td>\n",
       "      <td>CA</td>\n",
       "      <td>...</td>\n",
       "      <td>Y</td>\n",
       "      <td>58365.00</td>\n",
       "      <td>Year</td>\n",
       "      <td>2016.0</td>\n",
       "      <td>116250.00</td>\n",
       "      <td>0.00</td>\n",
       "      <td>Year</td>\n",
       "      <td>N</td>\n",
       "      <td>N</td>\n",
       "      <td>2017</td>\n",
       "    </tr>\n",
       "    <tr>\n",
       "      <th>404641</th>\n",
       "      <td>CERTIFIED</td>\n",
       "      <td>2017-03-24</td>\n",
       "      <td>3/30/17</td>\n",
       "      <td>H-1B</td>\n",
       "      <td>9/1/17</td>\n",
       "      <td>8/31/20</td>\n",
       "      <td>NaN</td>\n",
       "      <td>488 NORTH MAIN STREET SUITE 216</td>\n",
       "      <td>UNITED STATES OF AMERICA</td>\n",
       "      <td>GA</td>\n",
       "      <td>...</td>\n",
       "      <td>Y</td>\n",
       "      <td>77314.00</td>\n",
       "      <td>Year</td>\n",
       "      <td>2016.0</td>\n",
       "      <td>77500.00</td>\n",
       "      <td>0.00</td>\n",
       "      <td>Year</td>\n",
       "      <td>N</td>\n",
       "      <td>N</td>\n",
       "      <td>2017</td>\n",
       "    </tr>\n",
       "    <tr>\n",
       "      <th>406646</th>\n",
       "      <td>CERTIFIED</td>\n",
       "      <td>2017-03-24</td>\n",
       "      <td>3/30/17</td>\n",
       "      <td>H-1B</td>\n",
       "      <td>3/24/17</td>\n",
       "      <td>3/23/20</td>\n",
       "      <td>NaN</td>\n",
       "      <td>6 MOYSE PLACE</td>\n",
       "      <td>UNITED STATES OF AMERICA</td>\n",
       "      <td>NJ</td>\n",
       "      <td>...</td>\n",
       "      <td>Y</td>\n",
       "      <td>84864.00</td>\n",
       "      <td>Year</td>\n",
       "      <td>2016.0</td>\n",
       "      <td>90000.00</td>\n",
       "      <td>0.00</td>\n",
       "      <td>Year</td>\n",
       "      <td>Y</td>\n",
       "      <td>N</td>\n",
       "      <td>2017</td>\n",
       "    </tr>\n",
       "    <tr>\n",
       "      <th>420363</th>\n",
       "      <td>CERTIFIED</td>\n",
       "      <td>2017-03-30</td>\n",
       "      <td>4/5/17</td>\n",
       "      <td>H-1B</td>\n",
       "      <td>6/5/17</td>\n",
       "      <td>6/4/20</td>\n",
       "      <td>NaN</td>\n",
       "      <td>1 CYCLOTRON ROAD, MS 65A-108</td>\n",
       "      <td>NaN</td>\n",
       "      <td>CA</td>\n",
       "      <td>...</td>\n",
       "      <td>Y</td>\n",
       "      <td>73944.00</td>\n",
       "      <td>Year</td>\n",
       "      <td>2016.0</td>\n",
       "      <td>78828.00</td>\n",
       "      <td>0.00</td>\n",
       "      <td>Year</td>\n",
       "      <td>N</td>\n",
       "      <td>N</td>\n",
       "      <td>2017</td>\n",
       "    </tr>\n",
       "    <tr>\n",
       "      <th>508116</th>\n",
       "      <td>DENIED</td>\n",
       "      <td>2017-06-12</td>\n",
       "      <td>6/14/17</td>\n",
       "      <td>H-1B</td>\n",
       "      <td>10/2/17</td>\n",
       "      <td>10/2/20</td>\n",
       "      <td>NaN</td>\n",
       "      <td>ONE LIBERTY PLAZA</td>\n",
       "      <td>NaN</td>\n",
       "      <td>NY</td>\n",
       "      <td>...</td>\n",
       "      <td>N</td>\n",
       "      <td>101.16</td>\n",
       "      <td>Hour</td>\n",
       "      <td>2017.0</td>\n",
       "      <td>190.72</td>\n",
       "      <td>0.00</td>\n",
       "      <td>Hour</td>\n",
       "      <td>N</td>\n",
       "      <td>N</td>\n",
       "      <td>2017</td>\n",
       "    </tr>\n",
       "  </tbody>\n",
       "</table>\n",
       "<p>23 rows × 26 columns</p>\n",
       "</div>"
      ],
      "text/plain": [
       "       CASE_STATUS CASE_SUBMITTED DECISION_DATE VISA_CLASS  \\\n",
       "110168      DENIED     2017-01-13       1/19/17       H-1B   \n",
       "110605   CERTIFIED     2017-01-12       1/19/17       H-1B   \n",
       "111700   CERTIFIED     2017-01-13       1/20/17       H-1B   \n",
       "112292   CERTIFIED     2017-01-13       1/20/17       H-1B   \n",
       "115180   CERTIFIED     2017-01-17       1/23/17       H-1B   \n",
       "119189   CERTIFIED     2017-01-19       1/25/17       H-1B   \n",
       "119190   CERTIFIED     2017-01-19       1/25/17       H-1B   \n",
       "130352   CERTIFIED     2017-01-26        2/1/17       H-1B   \n",
       "137158   CERTIFIED     2017-01-31        2/6/17       H-1B   \n",
       "152919   CERTIFIED     2017-02-07       2/13/17       H-1B   \n",
       "172179   CERTIFIED     2017-02-15       2/22/17       H-1B   \n",
       "186080   CERTIFIED     2017-02-17       2/24/17       H-1B   \n",
       "211285   CERTIFIED     2017-02-27        3/3/17       H-1B   \n",
       "218598   CERTIFIED     2017-02-28        3/6/17       H-1B   \n",
       "224946   CERTIFIED     2017-03-01        3/7/17       H-1B   \n",
       "231532   CERTIFIED     2017-03-02        3/8/17       H-1B   \n",
       "233513   CERTIFIED     2017-03-02        3/8/17       H-1B   \n",
       "256078   CERTIFIED     2017-03-07       3/13/17       H-1B   \n",
       "333330   CERTIFIED     2017-03-16       3/22/17       H-1B   \n",
       "404641   CERTIFIED     2017-03-24       3/30/17       H-1B   \n",
       "406646   CERTIFIED     2017-03-24       3/30/17       H-1B   \n",
       "420363   CERTIFIED     2017-03-30        4/5/17       H-1B   \n",
       "508116      DENIED     2017-06-12       6/14/17       H-1B   \n",
       "\n",
       "       EMPLOYMENT_START_DATE EMPLOYMENT_END_DATE EMPLOYER_NAME  \\\n",
       "110168                2/1/17             6/21/18           NaN   \n",
       "110605               1/12/17             1/26/18           NaN   \n",
       "111700               1/16/17             1/16/20           NaN   \n",
       "112292               4/30/17             4/29/20           NaN   \n",
       "115180                2/1/17              2/1/20           NaN   \n",
       "119189               2/23/17             2/22/20           NaN   \n",
       "119190               1/30/17             1/30/20           NaN   \n",
       "130352               1/26/17             1/26/20           NaN   \n",
       "137158               2/13/17             2/12/20           NaN   \n",
       "152919                2/7/17              2/7/20           NaN   \n",
       "172179               2/15/17             1/26/18           NaN   \n",
       "186080               2/27/17             5/25/17           NaN   \n",
       "211285               3/20/17             3/20/20           NaN   \n",
       "218598               3/20/17             3/20/20           NaN   \n",
       "224946                3/1/17             9/14/19           NaN   \n",
       "231532                9/1/17              9/1/20           NaN   \n",
       "233513                9/1/17              9/1/20           NaN   \n",
       "256078                9/1/17              9/1/20           NaN   \n",
       "333330               7/28/17             7/27/20           NaN   \n",
       "404641                9/1/17             8/31/20           NaN   \n",
       "406646               3/24/17             3/23/20           NaN   \n",
       "420363                6/5/17              6/4/20           NaN   \n",
       "508116               10/2/17             10/2/20           NaN   \n",
       "\n",
       "                       EMPLOYER_ADDRESS          EMPLOYER_COUNTRY  \\\n",
       "110168        18753 N. FREDERICK AVENUE  UNITED STATES OF AMERICA   \n",
       "110605          222 NO. SEPULVEDA BLVD.  UNITED STATES OF AMERICA   \n",
       "111700          222 NO. SEPULVEDA BLVD.  UNITED STATES OF AMERICA   \n",
       "112292               I-20 & ALPINE ROAD  UNITED STATES OF AMERICA   \n",
       "115180          222 NO. SEPULVEDA BLVD.  UNITED STATES OF AMERICA   \n",
       "119189       CONCOURSE CORPORATE CENTER  UNITED STATES OF AMERICA   \n",
       "119190          222 NO. SEPULVEDA BLVD.  UNITED STATES OF AMERICA   \n",
       "130352          222 NO. SEPULVEDA BLVD.  UNITED STATES OF AMERICA   \n",
       "137158              343 THORNALL STREET  UNITED STATES OF AMERICA   \n",
       "152919          222 NO. SEPULVEDA BLVD.  UNITED STATES OF AMERICA   \n",
       "172179          222 NO. SEPULVEDA BLVD.  UNITED STATES OF AMERICA   \n",
       "186080          222 NO. SEPULVEDA BLVD.  UNITED STATES OF AMERICA   \n",
       "211285          222 NO. SEPULVEDA BLVD.  UNITED STATES OF AMERICA   \n",
       "218598          222 NO. SEPULVEDA BLVD.  UNITED STATES OF AMERICA   \n",
       "224946          222 NO. SEPULVEDA BLVD.  UNITED STATES OF AMERICA   \n",
       "231532          222 NO. SEPULVEDA BLVD.  UNITED STATES OF AMERICA   \n",
       "233513          222 NO. SEPULVEDA BLVD.  UNITED STATES OF AMERICA   \n",
       "256078            3467 NOTRE DAME DRIVE  UNITED STATES OF AMERICA   \n",
       "333330        1600 AMPHITHEATRE PARKWAY  UNITED STATES OF AMERICA   \n",
       "404641  488 NORTH MAIN STREET SUITE 216  UNITED STATES OF AMERICA   \n",
       "406646                    6 MOYSE PLACE  UNITED STATES OF AMERICA   \n",
       "420363     1 CYCLOTRON ROAD, MS 65A-108                       NaN   \n",
       "508116                ONE LIBERTY PLAZA                       NaN   \n",
       "\n",
       "       EMPLOYER_STATE  ... FULL_TIME_POSITION PREVAILING_WAGE PW_UNIT_OF_PAY  \\\n",
       "110168             MD  ...                  Y        60000.00           Year   \n",
       "110605             CA  ...                  Y        51293.00           Year   \n",
       "111700             CA  ...                  Y        59779.00           Year   \n",
       "112292             SC  ...                  Y        93558.00           Year   \n",
       "115180             CA  ...                  Y        54226.00           Year   \n",
       "119189             GA  ...                  Y        76003.00           Year   \n",
       "119190             CA  ...                  Y        62754.00           Year   \n",
       "130352             CA  ...                  Y        74443.00           Year   \n",
       "137158             NJ  ...                  Y        84864.00           Year   \n",
       "152919             CA  ...                  Y        54434.00           Year   \n",
       "172179             CA  ...                  Y        72654.00           Year   \n",
       "186080             CA  ...                  Y        65208.00           Year   \n",
       "211285             CA  ...                  Y        61838.00           Year   \n",
       "218598             CA  ...                  Y        64501.00           Year   \n",
       "224946             CA  ...                  Y        44886.00           Year   \n",
       "231532             CA  ...                  Y        59779.00           Year   \n",
       "233513             CA  ...                  Y        70470.00           Year   \n",
       "256078             CA  ...                  Y       102107.00           Year   \n",
       "333330             CA  ...                  Y        58365.00           Year   \n",
       "404641             GA  ...                  Y        77314.00           Year   \n",
       "406646             NJ  ...                  Y        84864.00           Year   \n",
       "420363             CA  ...                  Y        73944.00           Year   \n",
       "508116             NY  ...                  N          101.16           Hour   \n",
       "\n",
       "       PW_SOURCE_YEAR  WAGE_RATE_OF_PAY_FROM  WAGE_RATE_OF_PAY_TO  \\\n",
       "110168         2016.0               60000.00                 0.00   \n",
       "110605         2017.0               71000.00                 0.00   \n",
       "111700         2017.0               65000.00                 0.00   \n",
       "112292         2017.0              105000.00                 0.00   \n",
       "115180         2017.0               65000.00                 0.00   \n",
       "119189         2016.0               77000.00            95,000.00   \n",
       "119190         2017.0               65000.00                 0.00   \n",
       "130352         2017.0               75000.00                 0.00   \n",
       "137158         2017.0               85000.00                 0.00   \n",
       "152919         2017.0               65000.00                 0.00   \n",
       "172179         2017.0               73000.00                 0.00   \n",
       "186080         2017.0               66000.00                 0.00   \n",
       "211285         2017.0               65000.00                 0.00   \n",
       "218598         2017.0               65000.00                 0.00   \n",
       "224946         2017.0               60000.00                 0.00   \n",
       "231532         2017.0               60000.00                 0.00   \n",
       "233513         2017.0               72000.00                 0.00   \n",
       "256078         2016.0              120000.00                 0.00   \n",
       "333330         2016.0              116250.00                 0.00   \n",
       "404641         2016.0               77500.00                 0.00   \n",
       "406646         2016.0               90000.00                 0.00   \n",
       "420363         2016.0               78828.00                 0.00   \n",
       "508116         2017.0                 190.72                 0.00   \n",
       "\n",
       "       WAGE_UNIT_OF_PAY  H-1B_DEPENDENT WILLFUL_VIOLATOR  CASE_SUBMITTED_YEAR  \n",
       "110168             Year               N                N                 2017  \n",
       "110605             Year               Y                N                 2017  \n",
       "111700             Year               Y                N                 2017  \n",
       "112292             Year               N                N                 2017  \n",
       "115180             Year               Y                N                 2017  \n",
       "119189             Year               Y                N                 2017  \n",
       "119190             Year               Y                N                 2017  \n",
       "130352             Year               Y                N                 2017  \n",
       "137158             Year               Y                N                 2017  \n",
       "152919             Year               Y                N                 2017  \n",
       "172179             Year               Y                N                 2017  \n",
       "186080             Year               Y                N                 2017  \n",
       "211285             Year               Y                N                 2017  \n",
       "218598             Year               Y                N                 2017  \n",
       "224946             Year               Y                N                 2017  \n",
       "231532             Year               Y                N                 2017  \n",
       "233513             Year               Y                N                 2017  \n",
       "256078             Year               Y                N                 2017  \n",
       "333330             Year               N                N                 2017  \n",
       "404641             Year               N                N                 2017  \n",
       "406646             Year               Y                N                 2017  \n",
       "420363             Year               N                N                 2017  \n",
       "508116             Hour               N                N                 2017  \n",
       "\n",
       "[23 rows x 26 columns]"
      ]
     },
     "execution_count": 119,
     "metadata": {},
     "output_type": "execute_result"
    }
   ],
   "source": [
    "df1[df1.EMPLOYER_NAME.isnull()]"
   ]
  },
  {
   "cell_type": "code",
   "execution_count": 120,
   "metadata": {},
   "outputs": [
    {
     "data": {
      "text/plain": [
       "110168          18753 N. FREDERICK AVENUE\n",
       "110605            222 NO. SEPULVEDA BLVD.\n",
       "111700            222 NO. SEPULVEDA BLVD.\n",
       "112292                 I-20 & ALPINE ROAD\n",
       "115180            222 NO. SEPULVEDA BLVD.\n",
       "119189         CONCOURSE CORPORATE CENTER\n",
       "119190            222 NO. SEPULVEDA BLVD.\n",
       "130352            222 NO. SEPULVEDA BLVD.\n",
       "137158                343 THORNALL STREET\n",
       "152919            222 NO. SEPULVEDA BLVD.\n",
       "172179            222 NO. SEPULVEDA BLVD.\n",
       "186080            222 NO. SEPULVEDA BLVD.\n",
       "211285            222 NO. SEPULVEDA BLVD.\n",
       "218598            222 NO. SEPULVEDA BLVD.\n",
       "224946            222 NO. SEPULVEDA BLVD.\n",
       "231532            222 NO. SEPULVEDA BLVD.\n",
       "233513            222 NO. SEPULVEDA BLVD.\n",
       "256078              3467 NOTRE DAME DRIVE\n",
       "333330          1600 AMPHITHEATRE PARKWAY\n",
       "404641    488 NORTH MAIN STREET SUITE 216\n",
       "406646                      6 MOYSE PLACE\n",
       "420363       1 CYCLOTRON ROAD, MS 65A-108\n",
       "508116                  ONE LIBERTY PLAZA\n",
       "Name: EMPLOYER_ADDRESS, dtype: object"
      ]
     },
     "execution_count": 120,
     "metadata": {},
     "output_type": "execute_result"
    }
   ],
   "source": [
    "df1.EMPLOYER_ADDRESS[df1.EMPLOYER_NAME.isnull()]"
   ]
  },
  {
   "cell_type": "markdown",
   "metadata": {},
   "source": [
    "##### Imputing the null values in EMPLOYER_NAME based on the address of the EMPLOYER"
   ]
  },
  {
   "cell_type": "code",
   "execution_count": 121,
   "metadata": {},
   "outputs": [
    {
     "data": {
      "text/html": [
       "<div>\n",
       "<style scoped>\n",
       "    .dataframe tbody tr th:only-of-type {\n",
       "        vertical-align: middle;\n",
       "    }\n",
       "\n",
       "    .dataframe tbody tr th {\n",
       "        vertical-align: top;\n",
       "    }\n",
       "\n",
       "    .dataframe thead th {\n",
       "        text-align: right;\n",
       "    }\n",
       "</style>\n",
       "<table border=\"1\" class=\"dataframe\">\n",
       "  <thead>\n",
       "    <tr style=\"text-align: right;\">\n",
       "      <th></th>\n",
       "      <th>CASE_STATUS</th>\n",
       "      <th>CASE_SUBMITTED</th>\n",
       "      <th>DECISION_DATE</th>\n",
       "      <th>VISA_CLASS</th>\n",
       "      <th>EMPLOYMENT_START_DATE</th>\n",
       "      <th>EMPLOYMENT_END_DATE</th>\n",
       "      <th>EMPLOYER_NAME</th>\n",
       "      <th>EMPLOYER_ADDRESS</th>\n",
       "      <th>EMPLOYER_COUNTRY</th>\n",
       "      <th>EMPLOYER_STATE</th>\n",
       "      <th>...</th>\n",
       "      <th>FULL_TIME_POSITION</th>\n",
       "      <th>PREVAILING_WAGE</th>\n",
       "      <th>PW_UNIT_OF_PAY</th>\n",
       "      <th>PW_SOURCE_YEAR</th>\n",
       "      <th>WAGE_RATE_OF_PAY_FROM</th>\n",
       "      <th>WAGE_RATE_OF_PAY_TO</th>\n",
       "      <th>WAGE_UNIT_OF_PAY</th>\n",
       "      <th>H-1B_DEPENDENT</th>\n",
       "      <th>WILLFUL_VIOLATOR</th>\n",
       "      <th>CASE_SUBMITTED_YEAR</th>\n",
       "    </tr>\n",
       "  </thead>\n",
       "  <tbody>\n",
       "    <tr>\n",
       "      <th>105344</th>\n",
       "      <td>DENIED</td>\n",
       "      <td>2017-01-10</td>\n",
       "      <td>1/13/17</td>\n",
       "      <td>H-1B</td>\n",
       "      <td>2/1/17</td>\n",
       "      <td>2/7/18</td>\n",
       "      <td>MGS SERVICES, LLC</td>\n",
       "      <td>18753 N. FREDERICK AVENUE</td>\n",
       "      <td>UNITED STATES OF AMERICA</td>\n",
       "      <td>MD</td>\n",
       "      <td>...</td>\n",
       "      <td>Y</td>\n",
       "      <td>60000.0</td>\n",
       "      <td>Year</td>\n",
       "      <td>2016.0</td>\n",
       "      <td>60000.0</td>\n",
       "      <td>0.00</td>\n",
       "      <td>Year</td>\n",
       "      <td>N</td>\n",
       "      <td>N</td>\n",
       "      <td>2017</td>\n",
       "    </tr>\n",
       "    <tr>\n",
       "      <th>108803</th>\n",
       "      <td>DENIED</td>\n",
       "      <td>2017-01-13</td>\n",
       "      <td>1/18/17</td>\n",
       "      <td>H-1B</td>\n",
       "      <td>2/1/17</td>\n",
       "      <td>2/7/18</td>\n",
       "      <td>MGS SERVICES, LLC</td>\n",
       "      <td>18753 N. FREDERICK AVENUE</td>\n",
       "      <td>UNITED STATES OF AMERICA</td>\n",
       "      <td>MD</td>\n",
       "      <td>...</td>\n",
       "      <td>Y</td>\n",
       "      <td>60000.0</td>\n",
       "      <td>Year</td>\n",
       "      <td>2016.0</td>\n",
       "      <td>60000.0</td>\n",
       "      <td>0.00</td>\n",
       "      <td>Year</td>\n",
       "      <td>N</td>\n",
       "      <td>N</td>\n",
       "      <td>2017</td>\n",
       "    </tr>\n",
       "    <tr>\n",
       "      <th>110168</th>\n",
       "      <td>DENIED</td>\n",
       "      <td>2017-01-13</td>\n",
       "      <td>1/19/17</td>\n",
       "      <td>H-1B</td>\n",
       "      <td>2/1/17</td>\n",
       "      <td>6/21/18</td>\n",
       "      <td>NaN</td>\n",
       "      <td>18753 N. FREDERICK AVENUE</td>\n",
       "      <td>UNITED STATES OF AMERICA</td>\n",
       "      <td>MD</td>\n",
       "      <td>...</td>\n",
       "      <td>Y</td>\n",
       "      <td>60000.0</td>\n",
       "      <td>Year</td>\n",
       "      <td>2016.0</td>\n",
       "      <td>60000.0</td>\n",
       "      <td>0.00</td>\n",
       "      <td>Year</td>\n",
       "      <td>N</td>\n",
       "      <td>N</td>\n",
       "      <td>2017</td>\n",
       "    </tr>\n",
       "    <tr>\n",
       "      <th>111609</th>\n",
       "      <td>CERTIFIED</td>\n",
       "      <td>2017-01-13</td>\n",
       "      <td>1/20/17</td>\n",
       "      <td>H-1B</td>\n",
       "      <td>2/1/17</td>\n",
       "      <td>6/21/18</td>\n",
       "      <td>MGS SERVICES, LLC</td>\n",
       "      <td>18753 N. FREDERICK AVENUE</td>\n",
       "      <td>UNITED STATES OF AMERICA</td>\n",
       "      <td>MD</td>\n",
       "      <td>...</td>\n",
       "      <td>Y</td>\n",
       "      <td>60000.0</td>\n",
       "      <td>Year</td>\n",
       "      <td>2016.0</td>\n",
       "      <td>60000.0</td>\n",
       "      <td>0.00</td>\n",
       "      <td>Year</td>\n",
       "      <td>N</td>\n",
       "      <td>N</td>\n",
       "      <td>2017</td>\n",
       "    </tr>\n",
       "  </tbody>\n",
       "</table>\n",
       "<p>4 rows × 26 columns</p>\n",
       "</div>"
      ],
      "text/plain": [
       "       CASE_STATUS CASE_SUBMITTED DECISION_DATE VISA_CLASS  \\\n",
       "105344      DENIED     2017-01-10       1/13/17       H-1B   \n",
       "108803      DENIED     2017-01-13       1/18/17       H-1B   \n",
       "110168      DENIED     2017-01-13       1/19/17       H-1B   \n",
       "111609   CERTIFIED     2017-01-13       1/20/17       H-1B   \n",
       "\n",
       "       EMPLOYMENT_START_DATE EMPLOYMENT_END_DATE      EMPLOYER_NAME  \\\n",
       "105344                2/1/17              2/7/18  MGS SERVICES, LLC   \n",
       "108803                2/1/17              2/7/18  MGS SERVICES, LLC   \n",
       "110168                2/1/17             6/21/18                NaN   \n",
       "111609                2/1/17             6/21/18  MGS SERVICES, LLC   \n",
       "\n",
       "                 EMPLOYER_ADDRESS          EMPLOYER_COUNTRY EMPLOYER_STATE  \\\n",
       "105344  18753 N. FREDERICK AVENUE  UNITED STATES OF AMERICA             MD   \n",
       "108803  18753 N. FREDERICK AVENUE  UNITED STATES OF AMERICA             MD   \n",
       "110168  18753 N. FREDERICK AVENUE  UNITED STATES OF AMERICA             MD   \n",
       "111609  18753 N. FREDERICK AVENUE  UNITED STATES OF AMERICA             MD   \n",
       "\n",
       "        ... FULL_TIME_POSITION PREVAILING_WAGE PW_UNIT_OF_PAY PW_SOURCE_YEAR  \\\n",
       "105344  ...                  Y         60000.0           Year         2016.0   \n",
       "108803  ...                  Y         60000.0           Year         2016.0   \n",
       "110168  ...                  Y         60000.0           Year         2016.0   \n",
       "111609  ...                  Y         60000.0           Year         2016.0   \n",
       "\n",
       "        WAGE_RATE_OF_PAY_FROM  WAGE_RATE_OF_PAY_TO WAGE_UNIT_OF_PAY  \\\n",
       "105344                60000.0                 0.00             Year   \n",
       "108803                60000.0                 0.00             Year   \n",
       "110168                60000.0                 0.00             Year   \n",
       "111609                60000.0                 0.00             Year   \n",
       "\n",
       "        H-1B_DEPENDENT WILLFUL_VIOLATOR  CASE_SUBMITTED_YEAR  \n",
       "105344               N                N                 2017  \n",
       "108803               N                N                 2017  \n",
       "110168               N                N                 2017  \n",
       "111609               N                N                 2017  \n",
       "\n",
       "[4 rows x 26 columns]"
      ]
     },
     "execution_count": 121,
     "metadata": {},
     "output_type": "execute_result"
    }
   ],
   "source": [
    "df1[df1.EMPLOYER_ADDRESS=='18753 N. FREDERICK AVENUE']\n",
    "#Checking address of each null EMPLOYER_NAME and imputing in it"
   ]
  },
  {
   "cell_type": "code",
   "execution_count": 122,
   "metadata": {},
   "outputs": [],
   "source": [
    "df1.loc[df1.EMPLOYER_ADDRESS=='18753 N. FREDERICK AVENUE','EMPLOYER_NAME']='MGS SERVICES, LLC'\n",
    "df1.loc[df1.EMPLOYER_ADDRESS=='222 NO. SEPULVEDA BLVD.','EMPLOYER_NAME']='RJT COMPUQUEST, INC.'\n",
    "df1.loc[df1.EMPLOYER_ADDRESS=='I-20 & ALPINE ROAD','EMPLOYER_NAME']='BLUE CROSS BLUE SHIELD OF SOUTH CAROLINA'\n",
    "df1.loc[df1.EMPLOYER_ADDRESS=='CONCOURSE CORPORATE CENTER','EMPLOYER_NAME']='TECHPILLARS, INC.'\n",
    "df1.loc[df1.EMPLOYER_ADDRESS=='343 THORNALL STREET','EMPLOYER_NAME']='XORIANT CORPORATION'\n",
    "df1.loc[df1.EMPLOYER_ADDRESS=='3467 NOTRE DAME DRIVE','EMPLOYER_NAME']='ACCUPARA INC.'\n",
    "df1.loc[df1.EMPLOYER_ADDRESS=='1600 AMPHITHEATRE PARKWAY','EMPLOYER_NAME']='GOOGLE INC.'\n",
    "df1.loc[df1.EMPLOYER_ADDRESS=='488 NORTH MAIN STREET SUITE 216','EMPLOYER_NAME']='TALENTSPACE INC'\n",
    "df1.loc[df1.EMPLOYER_ADDRESS=='6 MOYSE PLACE','EMPLOYER_NAME']='MCKINSOL CONSULTING INC.'\n",
    "df1.loc[df1.EMPLOYER_ADDRESS=='1 CYCLOTRON ROAD, MS 65A-108','EMPLOYER_NAME']='LAWRENCE BERKELEY NATIONAL LABORATORY'\n",
    "df1.loc[df1.EMPLOYER_ADDRESS=='ONE LIBERTY PLAZA','EMPLOYER_NAME']='ITG SOFTWARE SOLUTIONS INC'\n"
   ]
  },
  {
   "cell_type": "code",
   "execution_count": 123,
   "metadata": {},
   "outputs": [
    {
     "data": {
      "text/html": [
       "<div>\n",
       "<style scoped>\n",
       "    .dataframe tbody tr th:only-of-type {\n",
       "        vertical-align: middle;\n",
       "    }\n",
       "\n",
       "    .dataframe tbody tr th {\n",
       "        vertical-align: top;\n",
       "    }\n",
       "\n",
       "    .dataframe thead th {\n",
       "        text-align: right;\n",
       "    }\n",
       "</style>\n",
       "<table border=\"1\" class=\"dataframe\">\n",
       "  <thead>\n",
       "    <tr style=\"text-align: right;\">\n",
       "      <th></th>\n",
       "      <th>CASE_STATUS</th>\n",
       "      <th>CASE_SUBMITTED</th>\n",
       "      <th>DECISION_DATE</th>\n",
       "      <th>VISA_CLASS</th>\n",
       "      <th>EMPLOYMENT_START_DATE</th>\n",
       "      <th>EMPLOYMENT_END_DATE</th>\n",
       "      <th>EMPLOYER_NAME</th>\n",
       "      <th>EMPLOYER_ADDRESS</th>\n",
       "      <th>EMPLOYER_COUNTRY</th>\n",
       "      <th>EMPLOYER_STATE</th>\n",
       "      <th>...</th>\n",
       "      <th>FULL_TIME_POSITION</th>\n",
       "      <th>PREVAILING_WAGE</th>\n",
       "      <th>PW_UNIT_OF_PAY</th>\n",
       "      <th>PW_SOURCE_YEAR</th>\n",
       "      <th>WAGE_RATE_OF_PAY_FROM</th>\n",
       "      <th>WAGE_RATE_OF_PAY_TO</th>\n",
       "      <th>WAGE_UNIT_OF_PAY</th>\n",
       "      <th>H-1B_DEPENDENT</th>\n",
       "      <th>WILLFUL_VIOLATOR</th>\n",
       "      <th>CASE_SUBMITTED_YEAR</th>\n",
       "    </tr>\n",
       "  </thead>\n",
       "  <tbody>\n",
       "  </tbody>\n",
       "</table>\n",
       "<p>0 rows × 26 columns</p>\n",
       "</div>"
      ],
      "text/plain": [
       "Empty DataFrame\n",
       "Columns: [CASE_STATUS, CASE_SUBMITTED, DECISION_DATE, VISA_CLASS, EMPLOYMENT_START_DATE, EMPLOYMENT_END_DATE, EMPLOYER_NAME, EMPLOYER_ADDRESS, EMPLOYER_COUNTRY, EMPLOYER_STATE, AGENT_ATTORNEY_NAME, JOB_TITLE, SOC_CODE, SOC_NAME, NAICS_CODE, TOTAL_WORKERS, FULL_TIME_POSITION, PREVAILING_WAGE, PW_UNIT_OF_PAY, PW_SOURCE_YEAR, WAGE_RATE_OF_PAY_FROM, WAGE_RATE_OF_PAY_TO, WAGE_UNIT_OF_PAY, H-1B_DEPENDENT, WILLFUL_VIOLATOR, CASE_SUBMITTED_YEAR]\n",
       "Index: []\n",
       "\n",
       "[0 rows x 26 columns]"
      ]
     },
     "execution_count": 123,
     "metadata": {},
     "output_type": "execute_result"
    }
   ],
   "source": [
    "df1[df1.EMPLOYER_NAME.isnull()]"
   ]
  },
  {
   "cell_type": "markdown",
   "metadata": {},
   "source": [
    "#### Column - FULL_TIME_POSITION"
   ]
  },
  {
   "cell_type": "code",
   "execution_count": 124,
   "metadata": {},
   "outputs": [
    {
     "data": {
      "text/plain": [
       "2"
      ]
     },
     "execution_count": 124,
     "metadata": {},
     "output_type": "execute_result"
    }
   ],
   "source": [
    "df1.FULL_TIME_POSITION.isnull().sum()"
   ]
  },
  {
   "cell_type": "code",
   "execution_count": 125,
   "metadata": {},
   "outputs": [
    {
     "data": {
      "text/html": [
       "<div>\n",
       "<style scoped>\n",
       "    .dataframe tbody tr th:only-of-type {\n",
       "        vertical-align: middle;\n",
       "    }\n",
       "\n",
       "    .dataframe tbody tr th {\n",
       "        vertical-align: top;\n",
       "    }\n",
       "\n",
       "    .dataframe thead th {\n",
       "        text-align: right;\n",
       "    }\n",
       "</style>\n",
       "<table border=\"1\" class=\"dataframe\">\n",
       "  <thead>\n",
       "    <tr style=\"text-align: right;\">\n",
       "      <th></th>\n",
       "      <th>CASE_STATUS</th>\n",
       "      <th>CASE_SUBMITTED</th>\n",
       "      <th>DECISION_DATE</th>\n",
       "      <th>VISA_CLASS</th>\n",
       "      <th>EMPLOYMENT_START_DATE</th>\n",
       "      <th>EMPLOYMENT_END_DATE</th>\n",
       "      <th>EMPLOYER_NAME</th>\n",
       "      <th>EMPLOYER_ADDRESS</th>\n",
       "      <th>EMPLOYER_COUNTRY</th>\n",
       "      <th>EMPLOYER_STATE</th>\n",
       "      <th>...</th>\n",
       "      <th>FULL_TIME_POSITION</th>\n",
       "      <th>PREVAILING_WAGE</th>\n",
       "      <th>PW_UNIT_OF_PAY</th>\n",
       "      <th>PW_SOURCE_YEAR</th>\n",
       "      <th>WAGE_RATE_OF_PAY_FROM</th>\n",
       "      <th>WAGE_RATE_OF_PAY_TO</th>\n",
       "      <th>WAGE_UNIT_OF_PAY</th>\n",
       "      <th>H-1B_DEPENDENT</th>\n",
       "      <th>WILLFUL_VIOLATOR</th>\n",
       "      <th>CASE_SUBMITTED_YEAR</th>\n",
       "    </tr>\n",
       "  </thead>\n",
       "  <tbody>\n",
       "    <tr>\n",
       "      <th>175373</th>\n",
       "      <td>DENIED</td>\n",
       "      <td>2017-02-21</td>\n",
       "      <td>2/22/17</td>\n",
       "      <td>H-1B</td>\n",
       "      <td>8/21/17</td>\n",
       "      <td>8/20/20</td>\n",
       "      <td>TATA CONSULTANCY SERVICES LIMITED</td>\n",
       "      <td>9201 CORPORATE BOULEVARD</td>\n",
       "      <td>UNITED STATES OF AMERICA</td>\n",
       "      <td>MD</td>\n",
       "      <td>...</td>\n",
       "      <td>NaN</td>\n",
       "      <td>51376.0</td>\n",
       "      <td>Year</td>\n",
       "      <td>2016.0</td>\n",
       "      <td>62500.0</td>\n",
       "      <td>94,000.00</td>\n",
       "      <td>Year</td>\n",
       "      <td>Y</td>\n",
       "      <td>N</td>\n",
       "      <td>2017</td>\n",
       "    </tr>\n",
       "    <tr>\n",
       "      <th>178701</th>\n",
       "      <td>DENIED</td>\n",
       "      <td>2017-02-21</td>\n",
       "      <td>2/23/17</td>\n",
       "      <td>H-1B</td>\n",
       "      <td>8/21/17</td>\n",
       "      <td>8/20/20</td>\n",
       "      <td>TATA CONSULTANCY SERVICES LIMITED</td>\n",
       "      <td>9201 CORPORATE BOULEVARD</td>\n",
       "      <td>UNITED STATES OF AMERICA</td>\n",
       "      <td>MD</td>\n",
       "      <td>...</td>\n",
       "      <td>NaN</td>\n",
       "      <td>50294.0</td>\n",
       "      <td>Year</td>\n",
       "      <td>2016.0</td>\n",
       "      <td>60700.0</td>\n",
       "      <td>85,500.00</td>\n",
       "      <td>Year</td>\n",
       "      <td>Y</td>\n",
       "      <td>N</td>\n",
       "      <td>2017</td>\n",
       "    </tr>\n",
       "  </tbody>\n",
       "</table>\n",
       "<p>2 rows × 26 columns</p>\n",
       "</div>"
      ],
      "text/plain": [
       "       CASE_STATUS CASE_SUBMITTED DECISION_DATE VISA_CLASS  \\\n",
       "175373      DENIED     2017-02-21       2/22/17       H-1B   \n",
       "178701      DENIED     2017-02-21       2/23/17       H-1B   \n",
       "\n",
       "       EMPLOYMENT_START_DATE EMPLOYMENT_END_DATE  \\\n",
       "175373               8/21/17             8/20/20   \n",
       "178701               8/21/17             8/20/20   \n",
       "\n",
       "                            EMPLOYER_NAME          EMPLOYER_ADDRESS  \\\n",
       "175373  TATA CONSULTANCY SERVICES LIMITED  9201 CORPORATE BOULEVARD   \n",
       "178701  TATA CONSULTANCY SERVICES LIMITED  9201 CORPORATE BOULEVARD   \n",
       "\n",
       "                EMPLOYER_COUNTRY EMPLOYER_STATE  ... FULL_TIME_POSITION  \\\n",
       "175373  UNITED STATES OF AMERICA             MD  ...                NaN   \n",
       "178701  UNITED STATES OF AMERICA             MD  ...                NaN   \n",
       "\n",
       "       PREVAILING_WAGE PW_UNIT_OF_PAY PW_SOURCE_YEAR  WAGE_RATE_OF_PAY_FROM  \\\n",
       "175373         51376.0           Year         2016.0                62500.0   \n",
       "178701         50294.0           Year         2016.0                60700.0   \n",
       "\n",
       "        WAGE_RATE_OF_PAY_TO WAGE_UNIT_OF_PAY  H-1B_DEPENDENT WILLFUL_VIOLATOR  \\\n",
       "175373            94,000.00             Year               Y                N   \n",
       "178701            85,500.00             Year               Y                N   \n",
       "\n",
       "        CASE_SUBMITTED_YEAR  \n",
       "175373                 2017  \n",
       "178701                 2017  \n",
       "\n",
       "[2 rows x 26 columns]"
      ]
     },
     "execution_count": 125,
     "metadata": {},
     "output_type": "execute_result"
    }
   ],
   "source": [
    "df1[df1.FULL_TIME_POSITION.isnull()]"
   ]
  },
  {
   "cell_type": "markdown",
   "metadata": {},
   "source": [
    "##### The 2 null values are of the employer TATA Consultancy Services who offers only full tym job..hence imputing null with Y"
   ]
  },
  {
   "cell_type": "code",
   "execution_count": 126,
   "metadata": {},
   "outputs": [
    {
     "data": {
      "text/plain": [
       "0"
      ]
     },
     "execution_count": 126,
     "metadata": {},
     "output_type": "execute_result"
    }
   ],
   "source": [
    "df1.FULL_TIME_POSITION.fillna('Y',inplace=True)\n",
    "df1.FULL_TIME_POSITION.isnull().sum()"
   ]
  },
  {
   "cell_type": "markdown",
   "metadata": {},
   "source": [
    "#### Column - PREVAILING_WAGE"
   ]
  },
  {
   "cell_type": "code",
   "execution_count": 127,
   "metadata": {},
   "outputs": [
    {
     "data": {
      "text/plain": [
       "0"
      ]
     },
     "execution_count": 127,
     "metadata": {},
     "output_type": "execute_result"
    }
   ],
   "source": [
    "df1.PREVAILING_WAGE.isnull().sum()"
   ]
  },
  {
   "cell_type": "code",
   "execution_count": 128,
   "metadata": {},
   "outputs": [
    {
     "data": {
      "text/plain": [
       "(20, 26)"
      ]
     },
     "execution_count": 128,
     "metadata": {},
     "output_type": "execute_result"
    }
   ],
   "source": [
    "df1[df1.PREVAILING_WAGE==0].shape #ANAMOLY because PREVAILING_WAGE cannot be 0"
   ]
  },
  {
   "cell_type": "code",
   "execution_count": 129,
   "metadata": {},
   "outputs": [
    {
     "data": {
      "text/html": [
       "<div>\n",
       "<style scoped>\n",
       "    .dataframe tbody tr th:only-of-type {\n",
       "        vertical-align: middle;\n",
       "    }\n",
       "\n",
       "    .dataframe tbody tr th {\n",
       "        vertical-align: top;\n",
       "    }\n",
       "\n",
       "    .dataframe thead th {\n",
       "        text-align: right;\n",
       "    }\n",
       "</style>\n",
       "<table border=\"1\" class=\"dataframe\">\n",
       "  <thead>\n",
       "    <tr style=\"text-align: right;\">\n",
       "      <th></th>\n",
       "      <th>CASE_STATUS</th>\n",
       "      <th>CASE_SUBMITTED</th>\n",
       "      <th>DECISION_DATE</th>\n",
       "      <th>VISA_CLASS</th>\n",
       "      <th>EMPLOYMENT_START_DATE</th>\n",
       "      <th>EMPLOYMENT_END_DATE</th>\n",
       "      <th>EMPLOYER_NAME</th>\n",
       "      <th>EMPLOYER_ADDRESS</th>\n",
       "      <th>EMPLOYER_COUNTRY</th>\n",
       "      <th>EMPLOYER_STATE</th>\n",
       "      <th>...</th>\n",
       "      <th>FULL_TIME_POSITION</th>\n",
       "      <th>PREVAILING_WAGE</th>\n",
       "      <th>PW_UNIT_OF_PAY</th>\n",
       "      <th>PW_SOURCE_YEAR</th>\n",
       "      <th>WAGE_RATE_OF_PAY_FROM</th>\n",
       "      <th>WAGE_RATE_OF_PAY_TO</th>\n",
       "      <th>WAGE_UNIT_OF_PAY</th>\n",
       "      <th>H-1B_DEPENDENT</th>\n",
       "      <th>WILLFUL_VIOLATOR</th>\n",
       "      <th>CASE_SUBMITTED_YEAR</th>\n",
       "    </tr>\n",
       "  </thead>\n",
       "  <tbody>\n",
       "    <tr>\n",
       "      <th>99325</th>\n",
       "      <td>DENIED</td>\n",
       "      <td>2017-01-04</td>\n",
       "      <td>1/10/17</td>\n",
       "      <td>H-1B</td>\n",
       "      <td>1/16/17</td>\n",
       "      <td>1/16/20</td>\n",
       "      <td>OPTIMUS CONSTRUCTION INC</td>\n",
       "      <td>440 WESTERN AVE # 202</td>\n",
       "      <td>UNITED STATES OF AMERICA</td>\n",
       "      <td>CA</td>\n",
       "      <td>...</td>\n",
       "      <td>Y</td>\n",
       "      <td>0.0</td>\n",
       "      <td>NaN</td>\n",
       "      <td>NaN</td>\n",
       "      <td>80000.00</td>\n",
       "      <td>0.00</td>\n",
       "      <td>Year</td>\n",
       "      <td>N</td>\n",
       "      <td>N</td>\n",
       "      <td>2017</td>\n",
       "    </tr>\n",
       "    <tr>\n",
       "      <th>120405</th>\n",
       "      <td>DENIED</td>\n",
       "      <td>2017-01-24</td>\n",
       "      <td>1/26/17</td>\n",
       "      <td>H-1B</td>\n",
       "      <td>5/20/17</td>\n",
       "      <td>5/2/20</td>\n",
       "      <td>BERG LLC</td>\n",
       "      <td>500 OLD CONNECTICUT PATH</td>\n",
       "      <td>UNITED STATES OF AMERICA</td>\n",
       "      <td>MA</td>\n",
       "      <td>...</td>\n",
       "      <td>Y</td>\n",
       "      <td>0.0</td>\n",
       "      <td>NaN</td>\n",
       "      <td>NaN</td>\n",
       "      <td>70000.00</td>\n",
       "      <td>0.00</td>\n",
       "      <td>Year</td>\n",
       "      <td>N</td>\n",
       "      <td>N</td>\n",
       "      <td>2017</td>\n",
       "    </tr>\n",
       "    <tr>\n",
       "      <th>134293</th>\n",
       "      <td>DENIED</td>\n",
       "      <td>2017-01-30</td>\n",
       "      <td>2/3/17</td>\n",
       "      <td>H-1B</td>\n",
       "      <td>1/30/17</td>\n",
       "      <td>1/30/20</td>\n",
       "      <td>INSPIRATION ANYWHERE, INC.</td>\n",
       "      <td>855 APPLE TREE LANE</td>\n",
       "      <td>UNITED STATES OF AMERICA</td>\n",
       "      <td>IL</td>\n",
       "      <td>...</td>\n",
       "      <td>Y</td>\n",
       "      <td>0.0</td>\n",
       "      <td>NaN</td>\n",
       "      <td>NaN</td>\n",
       "      <td>50000.00</td>\n",
       "      <td>0.00</td>\n",
       "      <td>Year</td>\n",
       "      <td>N</td>\n",
       "      <td>N</td>\n",
       "      <td>2017</td>\n",
       "    </tr>\n",
       "    <tr>\n",
       "      <th>198143</th>\n",
       "      <td>DENIED</td>\n",
       "      <td>2017-02-28</td>\n",
       "      <td>3/1/17</td>\n",
       "      <td>H-1B</td>\n",
       "      <td>3/1/17</td>\n",
       "      <td>3/1/20</td>\n",
       "      <td>AARC ENVIRONMENTAL, INC</td>\n",
       "      <td>TWO RIVERWAY</td>\n",
       "      <td>UNITED STATES OF AMERICA</td>\n",
       "      <td>TX</td>\n",
       "      <td>...</td>\n",
       "      <td>Y</td>\n",
       "      <td>0.0</td>\n",
       "      <td>NaN</td>\n",
       "      <td>NaN</td>\n",
       "      <td>38000.00</td>\n",
       "      <td>65,000.00</td>\n",
       "      <td>Year</td>\n",
       "      <td>N</td>\n",
       "      <td>N</td>\n",
       "      <td>2017</td>\n",
       "    </tr>\n",
       "    <tr>\n",
       "      <th>204818</th>\n",
       "      <td>DENIED</td>\n",
       "      <td>2017-02-28</td>\n",
       "      <td>3/2/17</td>\n",
       "      <td>H-1B</td>\n",
       "      <td>11/18/17</td>\n",
       "      <td>11/18/20</td>\n",
       "      <td>DOCUWRX CORPORATION</td>\n",
       "      <td>14010 ROOSEVELT BLVD SUITE 710</td>\n",
       "      <td>UNITED STATES OF AMERICA</td>\n",
       "      <td>FL</td>\n",
       "      <td>...</td>\n",
       "      <td>Y</td>\n",
       "      <td>0.0</td>\n",
       "      <td>NaN</td>\n",
       "      <td>NaN</td>\n",
       "      <td>1000.00</td>\n",
       "      <td>1,400.00</td>\n",
       "      <td>Week</td>\n",
       "      <td>N</td>\n",
       "      <td>N</td>\n",
       "      <td>2017</td>\n",
       "    </tr>\n",
       "    <tr>\n",
       "      <th>214732</th>\n",
       "      <td>DENIED</td>\n",
       "      <td>2017-03-02</td>\n",
       "      <td>3/6/17</td>\n",
       "      <td>H-1B</td>\n",
       "      <td>8/31/17</td>\n",
       "      <td>8/30/20</td>\n",
       "      <td>PETRA HEALTH CARE LLC</td>\n",
       "      <td>55 MIDDLESEX STRET</td>\n",
       "      <td>UNITED STATES OF AMERICA</td>\n",
       "      <td>MA</td>\n",
       "      <td>...</td>\n",
       "      <td>Y</td>\n",
       "      <td>0.0</td>\n",
       "      <td>NaN</td>\n",
       "      <td>NaN</td>\n",
       "      <td>95000.00</td>\n",
       "      <td>0.00</td>\n",
       "      <td>Year</td>\n",
       "      <td>N</td>\n",
       "      <td>N</td>\n",
       "      <td>2017</td>\n",
       "    </tr>\n",
       "    <tr>\n",
       "      <th>232431</th>\n",
       "      <td>DENIED</td>\n",
       "      <td>2017-03-06</td>\n",
       "      <td>3/8/17</td>\n",
       "      <td>H-1B</td>\n",
       "      <td>8/17/16</td>\n",
       "      <td>8/17/19</td>\n",
       "      <td>INDUSTRIAL AUTOMATION GROUP</td>\n",
       "      <td>1349 COLDWELL AVE.</td>\n",
       "      <td>UNITED STATES OF AMERICA</td>\n",
       "      <td>CA</td>\n",
       "      <td>...</td>\n",
       "      <td>Y</td>\n",
       "      <td>0.0</td>\n",
       "      <td>NaN</td>\n",
       "      <td>NaN</td>\n",
       "      <td>63000.00</td>\n",
       "      <td>0.00</td>\n",
       "      <td>Year</td>\n",
       "      <td>N</td>\n",
       "      <td>Y</td>\n",
       "      <td>2017</td>\n",
       "    </tr>\n",
       "    <tr>\n",
       "      <th>238741</th>\n",
       "      <td>DENIED</td>\n",
       "      <td>2017-03-03</td>\n",
       "      <td>3/9/17</td>\n",
       "      <td>H-1B</td>\n",
       "      <td>9/1/17</td>\n",
       "      <td>8/31/20</td>\n",
       "      <td>REDROCK SECURITY &amp; CABLING, INC.</td>\n",
       "      <td>6 MORGAN</td>\n",
       "      <td>UNITED STATES OF AMERICA</td>\n",
       "      <td>CA</td>\n",
       "      <td>...</td>\n",
       "      <td>Y</td>\n",
       "      <td>0.0</td>\n",
       "      <td>NaN</td>\n",
       "      <td>NaN</td>\n",
       "      <td>1153.85</td>\n",
       "      <td>1,500.00</td>\n",
       "      <td>Week</td>\n",
       "      <td>Y</td>\n",
       "      <td>N</td>\n",
       "      <td>2017</td>\n",
       "    </tr>\n",
       "    <tr>\n",
       "      <th>263118</th>\n",
       "      <td>DENIED</td>\n",
       "      <td>2017-03-09</td>\n",
       "      <td>3/13/17</td>\n",
       "      <td>H-1B</td>\n",
       "      <td>9/6/17</td>\n",
       "      <td>8/30/20</td>\n",
       "      <td>LAMBDANETS INC</td>\n",
       "      <td>2929 KENNY ROAD</td>\n",
       "      <td>UNITED STATES OF AMERICA</td>\n",
       "      <td>OH</td>\n",
       "      <td>...</td>\n",
       "      <td>Y</td>\n",
       "      <td>0.0</td>\n",
       "      <td>NaN</td>\n",
       "      <td>NaN</td>\n",
       "      <td>63814.00</td>\n",
       "      <td>0.00</td>\n",
       "      <td>Year</td>\n",
       "      <td>N</td>\n",
       "      <td>N</td>\n",
       "      <td>2017</td>\n",
       "    </tr>\n",
       "    <tr>\n",
       "      <th>288266</th>\n",
       "      <td>DENIED</td>\n",
       "      <td>2017-03-09</td>\n",
       "      <td>3/16/17</td>\n",
       "      <td>H-1B</td>\n",
       "      <td>8/1/17</td>\n",
       "      <td>8/1/20</td>\n",
       "      <td>ALTERNATIVES ABA, INC.</td>\n",
       "      <td>45R WASHINGTON STREET</td>\n",
       "      <td>UNITED STATES OF AMERICA</td>\n",
       "      <td>MA</td>\n",
       "      <td>...</td>\n",
       "      <td>N</td>\n",
       "      <td>0.0</td>\n",
       "      <td>NaN</td>\n",
       "      <td>NaN</td>\n",
       "      <td>28.00</td>\n",
       "      <td>0.00</td>\n",
       "      <td>Hour</td>\n",
       "      <td>N</td>\n",
       "      <td>N</td>\n",
       "      <td>2017</td>\n",
       "    </tr>\n",
       "    <tr>\n",
       "      <th>296383</th>\n",
       "      <td>DENIED</td>\n",
       "      <td>2017-03-14</td>\n",
       "      <td>3/16/17</td>\n",
       "      <td>H-1B</td>\n",
       "      <td>3/1/17</td>\n",
       "      <td>2/1/20</td>\n",
       "      <td>SUGEETA KURADA &amp; CO.</td>\n",
       "      <td>9808 CHERRY STREET</td>\n",
       "      <td>UNITED STATES OF AMERICA</td>\n",
       "      <td>MO</td>\n",
       "      <td>...</td>\n",
       "      <td>Y</td>\n",
       "      <td>0.0</td>\n",
       "      <td>NaN</td>\n",
       "      <td>NaN</td>\n",
       "      <td>0.00</td>\n",
       "      <td>0.00</td>\n",
       "      <td>NaN</td>\n",
       "      <td>NaN</td>\n",
       "      <td>NaN</td>\n",
       "      <td>2017</td>\n",
       "    </tr>\n",
       "    <tr>\n",
       "      <th>315296</th>\n",
       "      <td>DENIED</td>\n",
       "      <td>2017-03-13</td>\n",
       "      <td>3/20/17</td>\n",
       "      <td>H-1B</td>\n",
       "      <td>3/17/17</td>\n",
       "      <td>8/28/18</td>\n",
       "      <td>THE MADRONE SCHOOL</td>\n",
       "      <td>15703 223RD AVE NE</td>\n",
       "      <td>UNITED STATES OF AMERICA</td>\n",
       "      <td>WA</td>\n",
       "      <td>...</td>\n",
       "      <td>Y</td>\n",
       "      <td>0.0</td>\n",
       "      <td>NaN</td>\n",
       "      <td>NaN</td>\n",
       "      <td>16.00</td>\n",
       "      <td>0.00</td>\n",
       "      <td>Hour</td>\n",
       "      <td>N</td>\n",
       "      <td>N</td>\n",
       "      <td>2017</td>\n",
       "    </tr>\n",
       "    <tr>\n",
       "      <th>363337</th>\n",
       "      <td>DENIED</td>\n",
       "      <td>2017-03-17</td>\n",
       "      <td>3/24/17</td>\n",
       "      <td>H-1B</td>\n",
       "      <td>9/1/17</td>\n",
       "      <td>9/1/20</td>\n",
       "      <td>OPTOMEC, INC.</td>\n",
       "      <td>3911 SINGER BLVD. NE</td>\n",
       "      <td>UNITED STATES OF AMERICA</td>\n",
       "      <td>NM</td>\n",
       "      <td>...</td>\n",
       "      <td>Y</td>\n",
       "      <td>0.0</td>\n",
       "      <td>NaN</td>\n",
       "      <td>NaN</td>\n",
       "      <td>92000.00</td>\n",
       "      <td>0.00</td>\n",
       "      <td>Year</td>\n",
       "      <td>N</td>\n",
       "      <td>N</td>\n",
       "      <td>2017</td>\n",
       "    </tr>\n",
       "    <tr>\n",
       "      <th>418596</th>\n",
       "      <td>DENIED</td>\n",
       "      <td>2017-03-29</td>\n",
       "      <td>4/4/17</td>\n",
       "      <td>H-1B</td>\n",
       "      <td>4/3/17</td>\n",
       "      <td>4/3/19</td>\n",
       "      <td>TM BUSINESS SOLUTIONS INC.</td>\n",
       "      <td>400 WESTMINSTER STREET SUITE 204</td>\n",
       "      <td>NaN</td>\n",
       "      <td>RI</td>\n",
       "      <td>...</td>\n",
       "      <td>Y</td>\n",
       "      <td>0.0</td>\n",
       "      <td>Week</td>\n",
       "      <td>2016.0</td>\n",
       "      <td>500.00</td>\n",
       "      <td>0.00</td>\n",
       "      <td>Week</td>\n",
       "      <td>N</td>\n",
       "      <td>N</td>\n",
       "      <td>2017</td>\n",
       "    </tr>\n",
       "    <tr>\n",
       "      <th>423387</th>\n",
       "      <td>DENIED</td>\n",
       "      <td>2017-04-05</td>\n",
       "      <td>4/6/17</td>\n",
       "      <td>H-1B</td>\n",
       "      <td>4/10/17</td>\n",
       "      <td>4/10/20</td>\n",
       "      <td>BIG M CONSTRUCTORS, INC</td>\n",
       "      <td>10200 WINDFERN</td>\n",
       "      <td>NaN</td>\n",
       "      <td>TX</td>\n",
       "      <td>...</td>\n",
       "      <td>Y</td>\n",
       "      <td>0.0</td>\n",
       "      <td>NaN</td>\n",
       "      <td>NaN</td>\n",
       "      <td>22.00</td>\n",
       "      <td>0.00</td>\n",
       "      <td>Hour</td>\n",
       "      <td>N</td>\n",
       "      <td>N</td>\n",
       "      <td>2017</td>\n",
       "    </tr>\n",
       "    <tr>\n",
       "      <th>423556</th>\n",
       "      <td>DENIED</td>\n",
       "      <td>2017-04-04</td>\n",
       "      <td>4/6/17</td>\n",
       "      <td>H-1B</td>\n",
       "      <td>4/4/17</td>\n",
       "      <td>4/4/20</td>\n",
       "      <td>AWC SPECIALTY RX CONSULTING, LLC</td>\n",
       "      <td>2351 MERRITT DR</td>\n",
       "      <td>NaN</td>\n",
       "      <td>TX</td>\n",
       "      <td>...</td>\n",
       "      <td>Y</td>\n",
       "      <td>0.0</td>\n",
       "      <td>NaN</td>\n",
       "      <td>NaN</td>\n",
       "      <td>20.00</td>\n",
       "      <td>0.00</td>\n",
       "      <td>Hour</td>\n",
       "      <td>N</td>\n",
       "      <td>N</td>\n",
       "      <td>2017</td>\n",
       "    </tr>\n",
       "    <tr>\n",
       "      <th>446802</th>\n",
       "      <td>DENIED</td>\n",
       "      <td>2017-04-19</td>\n",
       "      <td>4/25/17</td>\n",
       "      <td>H-1B</td>\n",
       "      <td>5/1/17</td>\n",
       "      <td>12/31/17</td>\n",
       "      <td>EDWARD AND JUNE KELLOGG FOUNDATION</td>\n",
       "      <td>1250 BYRON ROAD</td>\n",
       "      <td>NaN</td>\n",
       "      <td>MI</td>\n",
       "      <td>...</td>\n",
       "      <td>N</td>\n",
       "      <td>0.0</td>\n",
       "      <td>NaN</td>\n",
       "      <td>NaN</td>\n",
       "      <td>15.00</td>\n",
       "      <td>0.00</td>\n",
       "      <td>Hour</td>\n",
       "      <td>N</td>\n",
       "      <td>N</td>\n",
       "      <td>2017</td>\n",
       "    </tr>\n",
       "    <tr>\n",
       "      <th>475671</th>\n",
       "      <td>DENIED</td>\n",
       "      <td>2017-05-11</td>\n",
       "      <td>5/17/17</td>\n",
       "      <td>H-1B</td>\n",
       "      <td>5/24/17</td>\n",
       "      <td>5/23/20</td>\n",
       "      <td>VALIDATION TRANSCRIPTION SERVICES INC</td>\n",
       "      <td>12 ROSZEL RD.</td>\n",
       "      <td>NaN</td>\n",
       "      <td>NJ</td>\n",
       "      <td>...</td>\n",
       "      <td>Y</td>\n",
       "      <td>0.0</td>\n",
       "      <td>Year</td>\n",
       "      <td>2016.0</td>\n",
       "      <td>70000.00</td>\n",
       "      <td>0.00</td>\n",
       "      <td>Year</td>\n",
       "      <td>Y</td>\n",
       "      <td>N</td>\n",
       "      <td>2017</td>\n",
       "    </tr>\n",
       "    <tr>\n",
       "      <th>479671</th>\n",
       "      <td>DENIED</td>\n",
       "      <td>2017-05-15</td>\n",
       "      <td>5/19/17</td>\n",
       "      <td>H-1B</td>\n",
       "      <td>6/1/17</td>\n",
       "      <td>5/31/19</td>\n",
       "      <td>ZAT REALTY, LLC</td>\n",
       "      <td>2005 W HAPPY VALLEY RD #150</td>\n",
       "      <td>NaN</td>\n",
       "      <td>AZ</td>\n",
       "      <td>...</td>\n",
       "      <td>Y</td>\n",
       "      <td>0.0</td>\n",
       "      <td>Year</td>\n",
       "      <td>2016.0</td>\n",
       "      <td>70000.00</td>\n",
       "      <td>80,000.00</td>\n",
       "      <td>Year</td>\n",
       "      <td>N</td>\n",
       "      <td>N</td>\n",
       "      <td>2017</td>\n",
       "    </tr>\n",
       "    <tr>\n",
       "      <th>523421</th>\n",
       "      <td>DENIED</td>\n",
       "      <td>2017-06-27</td>\n",
       "      <td>6/28/17</td>\n",
       "      <td>H-1B</td>\n",
       "      <td>8/1/17</td>\n",
       "      <td>8/1/19</td>\n",
       "      <td>1HQ USA LLC</td>\n",
       "      <td>1140 BROADWAY</td>\n",
       "      <td>NaN</td>\n",
       "      <td>NY</td>\n",
       "      <td>...</td>\n",
       "      <td>Y</td>\n",
       "      <td>0.0</td>\n",
       "      <td>NaN</td>\n",
       "      <td>2017.0</td>\n",
       "      <td>70000.00</td>\n",
       "      <td>70,000.00</td>\n",
       "      <td>Year</td>\n",
       "      <td>N</td>\n",
       "      <td>N</td>\n",
       "      <td>2017</td>\n",
       "    </tr>\n",
       "  </tbody>\n",
       "</table>\n",
       "<p>20 rows × 26 columns</p>\n",
       "</div>"
      ],
      "text/plain": [
       "       CASE_STATUS CASE_SUBMITTED DECISION_DATE VISA_CLASS  \\\n",
       "99325       DENIED     2017-01-04       1/10/17       H-1B   \n",
       "120405      DENIED     2017-01-24       1/26/17       H-1B   \n",
       "134293      DENIED     2017-01-30        2/3/17       H-1B   \n",
       "198143      DENIED     2017-02-28        3/1/17       H-1B   \n",
       "204818      DENIED     2017-02-28        3/2/17       H-1B   \n",
       "214732      DENIED     2017-03-02        3/6/17       H-1B   \n",
       "232431      DENIED     2017-03-06        3/8/17       H-1B   \n",
       "238741      DENIED     2017-03-03        3/9/17       H-1B   \n",
       "263118      DENIED     2017-03-09       3/13/17       H-1B   \n",
       "288266      DENIED     2017-03-09       3/16/17       H-1B   \n",
       "296383      DENIED     2017-03-14       3/16/17       H-1B   \n",
       "315296      DENIED     2017-03-13       3/20/17       H-1B   \n",
       "363337      DENIED     2017-03-17       3/24/17       H-1B   \n",
       "418596      DENIED     2017-03-29        4/4/17       H-1B   \n",
       "423387      DENIED     2017-04-05        4/6/17       H-1B   \n",
       "423556      DENIED     2017-04-04        4/6/17       H-1B   \n",
       "446802      DENIED     2017-04-19       4/25/17       H-1B   \n",
       "475671      DENIED     2017-05-11       5/17/17       H-1B   \n",
       "479671      DENIED     2017-05-15       5/19/17       H-1B   \n",
       "523421      DENIED     2017-06-27       6/28/17       H-1B   \n",
       "\n",
       "       EMPLOYMENT_START_DATE EMPLOYMENT_END_DATE  \\\n",
       "99325                1/16/17             1/16/20   \n",
       "120405               5/20/17              5/2/20   \n",
       "134293               1/30/17             1/30/20   \n",
       "198143                3/1/17              3/1/20   \n",
       "204818              11/18/17            11/18/20   \n",
       "214732               8/31/17             8/30/20   \n",
       "232431               8/17/16             8/17/19   \n",
       "238741                9/1/17             8/31/20   \n",
       "263118                9/6/17             8/30/20   \n",
       "288266                8/1/17              8/1/20   \n",
       "296383                3/1/17              2/1/20   \n",
       "315296               3/17/17             8/28/18   \n",
       "363337                9/1/17              9/1/20   \n",
       "418596                4/3/17              4/3/19   \n",
       "423387               4/10/17             4/10/20   \n",
       "423556                4/4/17              4/4/20   \n",
       "446802                5/1/17            12/31/17   \n",
       "475671               5/24/17             5/23/20   \n",
       "479671                6/1/17             5/31/19   \n",
       "523421                8/1/17              8/1/19   \n",
       "\n",
       "                                EMPLOYER_NAME  \\\n",
       "99325                OPTIMUS CONSTRUCTION INC   \n",
       "120405                               BERG LLC   \n",
       "134293             INSPIRATION ANYWHERE, INC.   \n",
       "198143                AARC ENVIRONMENTAL, INC   \n",
       "204818                    DOCUWRX CORPORATION   \n",
       "214732                  PETRA HEALTH CARE LLC   \n",
       "232431            INDUSTRIAL AUTOMATION GROUP   \n",
       "238741       REDROCK SECURITY & CABLING, INC.   \n",
       "263118                         LAMBDANETS INC   \n",
       "288266                 ALTERNATIVES ABA, INC.   \n",
       "296383                   SUGEETA KURADA & CO.   \n",
       "315296                     THE MADRONE SCHOOL   \n",
       "363337                          OPTOMEC, INC.   \n",
       "418596             TM BUSINESS SOLUTIONS INC.   \n",
       "423387                BIG M CONSTRUCTORS, INC   \n",
       "423556       AWC SPECIALTY RX CONSULTING, LLC   \n",
       "446802     EDWARD AND JUNE KELLOGG FOUNDATION   \n",
       "475671  VALIDATION TRANSCRIPTION SERVICES INC   \n",
       "479671                        ZAT REALTY, LLC   \n",
       "523421                            1HQ USA LLC   \n",
       "\n",
       "                        EMPLOYER_ADDRESS          EMPLOYER_COUNTRY  \\\n",
       "99325              440 WESTERN AVE # 202  UNITED STATES OF AMERICA   \n",
       "120405          500 OLD CONNECTICUT PATH  UNITED STATES OF AMERICA   \n",
       "134293               855 APPLE TREE LANE  UNITED STATES OF AMERICA   \n",
       "198143                      TWO RIVERWAY  UNITED STATES OF AMERICA   \n",
       "204818    14010 ROOSEVELT BLVD SUITE 710  UNITED STATES OF AMERICA   \n",
       "214732                55 MIDDLESEX STRET  UNITED STATES OF AMERICA   \n",
       "232431                1349 COLDWELL AVE.  UNITED STATES OF AMERICA   \n",
       "238741                          6 MORGAN  UNITED STATES OF AMERICA   \n",
       "263118                   2929 KENNY ROAD  UNITED STATES OF AMERICA   \n",
       "288266             45R WASHINGTON STREET  UNITED STATES OF AMERICA   \n",
       "296383                9808 CHERRY STREET  UNITED STATES OF AMERICA   \n",
       "315296                15703 223RD AVE NE  UNITED STATES OF AMERICA   \n",
       "363337              3911 SINGER BLVD. NE  UNITED STATES OF AMERICA   \n",
       "418596  400 WESTMINSTER STREET SUITE 204                       NaN   \n",
       "423387                    10200 WINDFERN                       NaN   \n",
       "423556                   2351 MERRITT DR                       NaN   \n",
       "446802                   1250 BYRON ROAD                       NaN   \n",
       "475671                     12 ROSZEL RD.                       NaN   \n",
       "479671       2005 W HAPPY VALLEY RD #150                       NaN   \n",
       "523421                     1140 BROADWAY                       NaN   \n",
       "\n",
       "       EMPLOYER_STATE  ... FULL_TIME_POSITION PREVAILING_WAGE PW_UNIT_OF_PAY  \\\n",
       "99325              CA  ...                  Y             0.0            NaN   \n",
       "120405             MA  ...                  Y             0.0            NaN   \n",
       "134293             IL  ...                  Y             0.0            NaN   \n",
       "198143             TX  ...                  Y             0.0            NaN   \n",
       "204818             FL  ...                  Y             0.0            NaN   \n",
       "214732             MA  ...                  Y             0.0            NaN   \n",
       "232431             CA  ...                  Y             0.0            NaN   \n",
       "238741             CA  ...                  Y             0.0            NaN   \n",
       "263118             OH  ...                  Y             0.0            NaN   \n",
       "288266             MA  ...                  N             0.0            NaN   \n",
       "296383             MO  ...                  Y             0.0            NaN   \n",
       "315296             WA  ...                  Y             0.0            NaN   \n",
       "363337             NM  ...                  Y             0.0            NaN   \n",
       "418596             RI  ...                  Y             0.0           Week   \n",
       "423387             TX  ...                  Y             0.0            NaN   \n",
       "423556             TX  ...                  Y             0.0            NaN   \n",
       "446802             MI  ...                  N             0.0            NaN   \n",
       "475671             NJ  ...                  Y             0.0           Year   \n",
       "479671             AZ  ...                  Y             0.0           Year   \n",
       "523421             NY  ...                  Y             0.0            NaN   \n",
       "\n",
       "       PW_SOURCE_YEAR  WAGE_RATE_OF_PAY_FROM  WAGE_RATE_OF_PAY_TO  \\\n",
       "99325             NaN               80000.00                 0.00   \n",
       "120405            NaN               70000.00                 0.00   \n",
       "134293            NaN               50000.00                 0.00   \n",
       "198143            NaN               38000.00            65,000.00   \n",
       "204818            NaN                1000.00             1,400.00   \n",
       "214732            NaN               95000.00                 0.00   \n",
       "232431            NaN               63000.00                 0.00   \n",
       "238741            NaN                1153.85             1,500.00   \n",
       "263118            NaN               63814.00                 0.00   \n",
       "288266            NaN                  28.00                 0.00   \n",
       "296383            NaN                   0.00                 0.00   \n",
       "315296            NaN                  16.00                 0.00   \n",
       "363337            NaN               92000.00                 0.00   \n",
       "418596         2016.0                 500.00                 0.00   \n",
       "423387            NaN                  22.00                 0.00   \n",
       "423556            NaN                  20.00                 0.00   \n",
       "446802            NaN                  15.00                 0.00   \n",
       "475671         2016.0               70000.00                 0.00   \n",
       "479671         2016.0               70000.00            80,000.00   \n",
       "523421         2017.0               70000.00            70,000.00   \n",
       "\n",
       "       WAGE_UNIT_OF_PAY  H-1B_DEPENDENT WILLFUL_VIOLATOR  CASE_SUBMITTED_YEAR  \n",
       "99325              Year               N                N                 2017  \n",
       "120405             Year               N                N                 2017  \n",
       "134293             Year               N                N                 2017  \n",
       "198143             Year               N                N                 2017  \n",
       "204818             Week               N                N                 2017  \n",
       "214732             Year               N                N                 2017  \n",
       "232431             Year               N                Y                 2017  \n",
       "238741             Week               Y                N                 2017  \n",
       "263118             Year               N                N                 2017  \n",
       "288266             Hour               N                N                 2017  \n",
       "296383              NaN             NaN              NaN                 2017  \n",
       "315296             Hour               N                N                 2017  \n",
       "363337             Year               N                N                 2017  \n",
       "418596             Week               N                N                 2017  \n",
       "423387             Hour               N                N                 2017  \n",
       "423556             Hour               N                N                 2017  \n",
       "446802             Hour               N                N                 2017  \n",
       "475671             Year               Y                N                 2017  \n",
       "479671             Year               N                N                 2017  \n",
       "523421             Year               N                N                 2017  \n",
       "\n",
       "[20 rows x 26 columns]"
      ]
     },
     "execution_count": 129,
     "metadata": {},
     "output_type": "execute_result"
    }
   ],
   "source": [
    "df1[df1.PREVAILING_WAGE==0]"
   ]
  },
  {
   "cell_type": "code",
   "execution_count": 130,
   "metadata": {},
   "outputs": [
    {
     "data": {
      "text/plain": [
       "count    3.863910e+05\n",
       "mean     7.139588e+04\n",
       "std      3.262117e+05\n",
       "min      0.000000e+00\n",
       "25%      5.591000e+04\n",
       "50%      6.839000e+04\n",
       "75%      8.565400e+04\n",
       "max      2.016227e+08\n",
       "Name: PREVAILING_WAGE, dtype: float64"
      ]
     },
     "execution_count": 130,
     "metadata": {},
     "output_type": "execute_result"
    }
   ],
   "source": [
    "df1.PREVAILING_WAGE.describe()"
   ]
  },
  {
   "cell_type": "markdown",
   "metadata": {},
   "source": [
    "##### Imputing null values with median value of PREVALING_WAGE for the respective EMPLOYER_NAME.\n",
    "##### If the EMPLOYER_NAME is a single observation then imputing with the median of PREVALING_WAGE for the respective JOB_TITLE.\n",
    "##### If the JOB_TITLE and EMPLOYER_NAME is also unique then imputing with the median of PREVALING_WAGE with respect to the WAGE_UNIT_OF_PAy."
   ]
  },
  {
   "cell_type": "code",
   "execution_count": 131,
   "metadata": {},
   "outputs": [],
   "source": [
    "df1.loc[(df1.EMPLOYER_NAME=='OPTIMUS CONSTRUCTION INC')  & (df1.PREVAILING_WAGE==0) \n",
    "        ,'PREVAILING_WAGE']=df1.PREVAILING_WAGE[df1.EMPLOYER_NAME=='OPTIMUS CONSTRUCTION INC'].median()"
   ]
  },
  {
   "cell_type": "code",
   "execution_count": 132,
   "metadata": {},
   "outputs": [],
   "source": [
    "df1.loc[(df1.EMPLOYER_NAME=='BERG LLC')  & (df1.PREVAILING_WAGE==0) \n",
    "        ,'PREVAILING_WAGE']=df1.PREVAILING_WAGE[df1.EMPLOYER_NAME=='BERG LLC'].median()"
   ]
  },
  {
   "cell_type": "code",
   "execution_count": 133,
   "metadata": {},
   "outputs": [],
   "source": [
    "df1.loc[(df1.EMPLOYER_NAME=='INSPIRATION ANYWHERE, INC.')  & (df1.PREVAILING_WAGE==0) \n",
    "        ,'PREVAILING_WAGE']=df1.PREVAILING_WAGE[df1.EMPLOYER_NAME=='INSPIRATION ANYWHERE, INC.'].median()"
   ]
  },
  {
   "cell_type": "code",
   "execution_count": 134,
   "metadata": {},
   "outputs": [],
   "source": [
    "df1.loc[(df1.EMPLOYER_NAME=='PETRA HEALTH CARE LLC')  & (df1.PREVAILING_WAGE==0) \n",
    "        ,'PREVAILING_WAGE']=df1.PREVAILING_WAGE[df1.EMPLOYER_NAME=='PETRA HEALTH CARE LLC'].median()"
   ]
  },
  {
   "cell_type": "code",
   "execution_count": 135,
   "metadata": {},
   "outputs": [
    {
     "data": {
      "text/plain": [
       "0.0"
      ]
     },
     "execution_count": 135,
     "metadata": {},
     "output_type": "execute_result"
    }
   ],
   "source": [
    "df1.PREVAILING_WAGE[df1.EMPLOYER_NAME=='AARC ENVIRONMENTAL, INC'].median()"
   ]
  },
  {
   "cell_type": "code",
   "execution_count": 136,
   "metadata": {},
   "outputs": [
    {
     "data": {
      "text/plain": [
       "198143    ENVIRONMENTAL SPECIALIST\n",
       "Name: JOB_TITLE, dtype: object"
      ]
     },
     "execution_count": 136,
     "metadata": {},
     "output_type": "execute_result"
    }
   ],
   "source": [
    "df1.JOB_TITLE[df1.EMPLOYER_NAME=='AARC ENVIRONMENTAL, INC']"
   ]
  },
  {
   "cell_type": "code",
   "execution_count": 137,
   "metadata": {},
   "outputs": [],
   "source": [
    "df1.loc[(df1.EMPLOYER_NAME=='AARC ENVIRONMENTAL, INC')  & (df1.PREVAILING_WAGE==0) \n",
    "        ,'PREVAILING_WAGE']=df1.PREVAILING_WAGE[df1.JOB_TITLE=='ENVIRONMENTAL SPECIALIST'].median()"
   ]
  },
  {
   "cell_type": "code",
   "execution_count": 138,
   "metadata": {},
   "outputs": [],
   "source": [
    "df1.loc[(df1.EMPLOYER_NAME=='DOCUWRX CORPORATION')  & (df1.PREVAILING_WAGE==0),'PREVAILING_WAGE']=df1.PREVAILING_WAGE[df1.EMPLOYER_NAME=='DOCUWRX CORPORATION'].median()"
   ]
  },
  {
   "cell_type": "code",
   "execution_count": 139,
   "metadata": {},
   "outputs": [],
   "source": [
    "df1.loc[(df1.EMPLOYER_NAME=='INDUSTRIAL AUTOMATION GROUP')  & (df1.PREVAILING_WAGE==0),'PREVAILING_WAGE']=df1.PREVAILING_WAGE[df1.EMPLOYER_NAME=='INDUSTRIAL AUTOMATION GROUP'].median()"
   ]
  },
  {
   "cell_type": "code",
   "execution_count": 140,
   "metadata": {},
   "outputs": [],
   "source": [
    "df1.loc[(df1.EMPLOYER_NAME=='REDROCK SECURITY & CABLING, INC.')  & (df1.PREVAILING_WAGE==0) ,'PREVAILING_WAGE']=df1.PREVAILING_WAGE[df1.EMPLOYER_NAME=='REDROCK SECURITY & CABLING, INC.'].median()"
   ]
  },
  {
   "cell_type": "code",
   "execution_count": 141,
   "metadata": {},
   "outputs": [],
   "source": [
    "df1.loc[(df1.EMPLOYER_NAME=='LAMBDANETS INC')  & (df1.PREVAILING_WAGE==0),'PREVAILING_WAGE']=df1.PREVAILING_WAGE[df1.EMPLOYER_NAME=='LAMBDANETS INC'].median()"
   ]
  },
  {
   "cell_type": "code",
   "execution_count": 142,
   "metadata": {},
   "outputs": [
    {
     "data": {
      "text/plain": [
       "0.0"
      ]
     },
     "execution_count": 142,
     "metadata": {},
     "output_type": "execute_result"
    }
   ],
   "source": [
    "df1.PREVAILING_WAGE[df1.EMPLOYER_NAME=='ALTERNATIVES ABA, INC.'].median()"
   ]
  },
  {
   "cell_type": "code",
   "execution_count": 143,
   "metadata": {},
   "outputs": [
    {
     "data": {
      "text/plain": [
       "288266    28.0\n",
       "Name: WAGE_RATE_OF_PAY_FROM, dtype: float64"
      ]
     },
     "execution_count": 143,
     "metadata": {},
     "output_type": "execute_result"
    }
   ],
   "source": [
    "df1.WAGE_RATE_OF_PAY_FROM[df1.EMPLOYER_NAME=='ALTERNATIVES ABA, INC.']"
   ]
  },
  {
   "cell_type": "code",
   "execution_count": 144,
   "metadata": {},
   "outputs": [],
   "source": [
    "df1.loc[(df1.EMPLOYER_NAME=='ALTERNATIVES ABA, INC.')  & (df1.PREVAILING_WAGE==0),'PREVAILING_WAGE']=df1.WAGE_RATE_OF_PAY_FROM[df1.EMPLOYER_NAME=='ALTERNATIVES ABA, INC.']"
   ]
  },
  {
   "cell_type": "code",
   "execution_count": 145,
   "metadata": {},
   "outputs": [
    {
     "data": {
      "text/plain": [
       "0.0"
      ]
     },
     "execution_count": 145,
     "metadata": {},
     "output_type": "execute_result"
    }
   ],
   "source": [
    "df1.PREVAILING_WAGE[df1.EMPLOYER_NAME=='SUGEETA KURADA & CO.'].median()"
   ]
  },
  {
   "cell_type": "code",
   "execution_count": 146,
   "metadata": {},
   "outputs": [
    {
     "data": {
      "text/plain": [
       "296383    SENIOR FINANCIAL ANALYST\n",
       "Name: JOB_TITLE, dtype: object"
      ]
     },
     "execution_count": 146,
     "metadata": {},
     "output_type": "execute_result"
    }
   ],
   "source": [
    "df1.JOB_TITLE[df1.EMPLOYER_NAME=='SUGEETA KURADA & CO.']"
   ]
  },
  {
   "cell_type": "code",
   "execution_count": 147,
   "metadata": {},
   "outputs": [
    {
     "data": {
      "text/plain": [
       "82731.0"
      ]
     },
     "execution_count": 147,
     "metadata": {},
     "output_type": "execute_result"
    }
   ],
   "source": [
    "df1.PREVAILING_WAGE[df1.JOB_TITLE=='SENIOR FINANCIAL ANALYST'].median()"
   ]
  },
  {
   "cell_type": "code",
   "execution_count": 148,
   "metadata": {},
   "outputs": [],
   "source": [
    "df1.loc[(df1.EMPLOYER_NAME=='SUGEETA KURADA & CO.')  & (df1.PREVAILING_WAGE==0),'PREVAILING_WAGE']=df1.PREVAILING_WAGE[df1.JOB_TITLE=='SENIOR FINANCIAL ANALYST'].median()"
   ]
  },
  {
   "cell_type": "code",
   "execution_count": 149,
   "metadata": {},
   "outputs": [
    {
     "data": {
      "text/plain": [
       "0.0"
      ]
     },
     "execution_count": 149,
     "metadata": {},
     "output_type": "execute_result"
    }
   ],
   "source": [
    "df1.PREVAILING_WAGE[df1.EMPLOYER_NAME=='THE MADRONE SCHOOL'].median()"
   ]
  },
  {
   "cell_type": "code",
   "execution_count": 150,
   "metadata": {},
   "outputs": [
    {
     "data": {
      "text/plain": [
       "315296    BEHAVIOR TECHNICIAN\n",
       "Name: JOB_TITLE, dtype: object"
      ]
     },
     "execution_count": 150,
     "metadata": {},
     "output_type": "execute_result"
    }
   ],
   "source": [
    "df1.JOB_TITLE[df1.EMPLOYER_NAME=='THE MADRONE SCHOOL']"
   ]
  },
  {
   "cell_type": "code",
   "execution_count": 151,
   "metadata": {},
   "outputs": [
    {
     "data": {
      "text/plain": [
       "8.0"
      ]
     },
     "execution_count": 151,
     "metadata": {},
     "output_type": "execute_result"
    }
   ],
   "source": [
    "df1.PREVAILING_WAGE[df1.JOB_TITLE=='BEHAVIOR TECHNICIAN'].median()"
   ]
  },
  {
   "cell_type": "code",
   "execution_count": 152,
   "metadata": {},
   "outputs": [],
   "source": [
    "df1.loc[(df1.EMPLOYER_NAME=='THE MADRONE SCHOOL')  & (df1.PREVAILING_WAGE==0),'PREVAILING_WAGE']=df1.PREVAILING_WAGE[df1.JOB_TITLE=='BEHAVIOR TECHNICIAN'].median()"
   ]
  },
  {
   "cell_type": "code",
   "execution_count": 153,
   "metadata": {},
   "outputs": [],
   "source": [
    "df1.loc[(df1.EMPLOYER_NAME=='OPTOMEC, INC.')  & (df1.PREVAILING_WAGE==0),'PREVAILING_WAGE']=df1.PREVAILING_WAGE[df1.EMPLOYER_NAME=='OPTOMEC, INC.'].median()"
   ]
  },
  {
   "cell_type": "code",
   "execution_count": 154,
   "metadata": {},
   "outputs": [],
   "source": [
    "df1.loc[(df1.EMPLOYER_NAME=='TM BUSINESS SOLUTIONS INC.')  & (df1.PREVAILING_WAGE==0),'PREVAILING_WAGE']=df1.PREVAILING_WAGE[df1.EMPLOYER_NAME=='TM BUSINESS SOLUTIONS INC.'].median()"
   ]
  },
  {
   "cell_type": "code",
   "execution_count": 155,
   "metadata": {},
   "outputs": [],
   "source": [
    "df1.loc[(df1.EMPLOYER_NAME=='BIG M CONSTRUCTORS, INC')  & (df1.PREVAILING_WAGE==0),'PREVAILING_WAGE']=df1.PREVAILING_WAGE[df1.EMPLOYER_NAME=='BIG M CONSTRUCTORS, INC'].median()"
   ]
  },
  {
   "cell_type": "code",
   "execution_count": 156,
   "metadata": {},
   "outputs": [],
   "source": [
    "df1.loc[(df1.EMPLOYER_NAME=='AWC SPECIALTY RX CONSULTING, LLC')  & (df1.PREVAILING_WAGE==0),'PREVAILING_WAGE']=df1.PREVAILING_WAGE[df1.EMPLOYER_NAME=='AWC SPECIALTY RX CONSULTING, LLC'].median()"
   ]
  },
  {
   "cell_type": "code",
   "execution_count": 157,
   "metadata": {},
   "outputs": [
    {
     "data": {
      "text/plain": [
       "0.0"
      ]
     },
     "execution_count": 157,
     "metadata": {},
     "output_type": "execute_result"
    }
   ],
   "source": [
    "df1.PREVAILING_WAGE[df1.EMPLOYER_NAME=='EDWARD AND JUNE KELLOGG FOUNDATION'].median()"
   ]
  },
  {
   "cell_type": "code",
   "execution_count": 158,
   "metadata": {},
   "outputs": [
    {
     "data": {
      "text/html": [
       "<div>\n",
       "<style scoped>\n",
       "    .dataframe tbody tr th:only-of-type {\n",
       "        vertical-align: middle;\n",
       "    }\n",
       "\n",
       "    .dataframe tbody tr th {\n",
       "        vertical-align: top;\n",
       "    }\n",
       "\n",
       "    .dataframe thead th {\n",
       "        text-align: right;\n",
       "    }\n",
       "</style>\n",
       "<table border=\"1\" class=\"dataframe\">\n",
       "  <thead>\n",
       "    <tr style=\"text-align: right;\">\n",
       "      <th></th>\n",
       "      <th>CASE_STATUS</th>\n",
       "      <th>CASE_SUBMITTED</th>\n",
       "      <th>DECISION_DATE</th>\n",
       "      <th>VISA_CLASS</th>\n",
       "      <th>EMPLOYMENT_START_DATE</th>\n",
       "      <th>EMPLOYMENT_END_DATE</th>\n",
       "      <th>EMPLOYER_NAME</th>\n",
       "      <th>EMPLOYER_ADDRESS</th>\n",
       "      <th>EMPLOYER_COUNTRY</th>\n",
       "      <th>EMPLOYER_STATE</th>\n",
       "      <th>...</th>\n",
       "      <th>FULL_TIME_POSITION</th>\n",
       "      <th>PREVAILING_WAGE</th>\n",
       "      <th>PW_UNIT_OF_PAY</th>\n",
       "      <th>PW_SOURCE_YEAR</th>\n",
       "      <th>WAGE_RATE_OF_PAY_FROM</th>\n",
       "      <th>WAGE_RATE_OF_PAY_TO</th>\n",
       "      <th>WAGE_UNIT_OF_PAY</th>\n",
       "      <th>H-1B_DEPENDENT</th>\n",
       "      <th>WILLFUL_VIOLATOR</th>\n",
       "      <th>CASE_SUBMITTED_YEAR</th>\n",
       "    </tr>\n",
       "  </thead>\n",
       "  <tbody>\n",
       "    <tr>\n",
       "      <th>446802</th>\n",
       "      <td>DENIED</td>\n",
       "      <td>2017-04-19</td>\n",
       "      <td>4/25/17</td>\n",
       "      <td>H-1B</td>\n",
       "      <td>5/1/17</td>\n",
       "      <td>12/31/17</td>\n",
       "      <td>EDWARD AND JUNE KELLOGG FOUNDATION</td>\n",
       "      <td>1250 BYRON ROAD</td>\n",
       "      <td>NaN</td>\n",
       "      <td>MI</td>\n",
       "      <td>...</td>\n",
       "      <td>N</td>\n",
       "      <td>0.0</td>\n",
       "      <td>NaN</td>\n",
       "      <td>NaN</td>\n",
       "      <td>15.0</td>\n",
       "      <td>0.00</td>\n",
       "      <td>Hour</td>\n",
       "      <td>N</td>\n",
       "      <td>N</td>\n",
       "      <td>2017</td>\n",
       "    </tr>\n",
       "  </tbody>\n",
       "</table>\n",
       "<p>1 rows × 26 columns</p>\n",
       "</div>"
      ],
      "text/plain": [
       "       CASE_STATUS CASE_SUBMITTED DECISION_DATE VISA_CLASS  \\\n",
       "446802      DENIED     2017-04-19       4/25/17       H-1B   \n",
       "\n",
       "       EMPLOYMENT_START_DATE EMPLOYMENT_END_DATE  \\\n",
       "446802                5/1/17            12/31/17   \n",
       "\n",
       "                             EMPLOYER_NAME EMPLOYER_ADDRESS EMPLOYER_COUNTRY  \\\n",
       "446802  EDWARD AND JUNE KELLOGG FOUNDATION  1250 BYRON ROAD              NaN   \n",
       "\n",
       "       EMPLOYER_STATE  ... FULL_TIME_POSITION PREVAILING_WAGE PW_UNIT_OF_PAY  \\\n",
       "446802             MI  ...                  N             0.0            NaN   \n",
       "\n",
       "       PW_SOURCE_YEAR  WAGE_RATE_OF_PAY_FROM  WAGE_RATE_OF_PAY_TO  \\\n",
       "446802            NaN                   15.0                 0.00   \n",
       "\n",
       "       WAGE_UNIT_OF_PAY  H-1B_DEPENDENT WILLFUL_VIOLATOR  CASE_SUBMITTED_YEAR  \n",
       "446802             Hour               N                N                 2017  \n",
       "\n",
       "[1 rows x 26 columns]"
      ]
     },
     "execution_count": 158,
     "metadata": {},
     "output_type": "execute_result"
    }
   ],
   "source": [
    "df1[df1.EMPLOYER_NAME=='EDWARD AND JUNE KELLOGG FOUNDATION']"
   ]
  },
  {
   "cell_type": "code",
   "execution_count": 159,
   "metadata": {},
   "outputs": [],
   "source": [
    "df1.loc[(df1.EMPLOYER_NAME=='EDWARD AND JUNE KELLOGG FOUNDATION')  & (df1.PREVAILING_WAGE==0),'PREVAILING_WAGE']=df1.WAGE_RATE_OF_PAY_FROM[df1.EMPLOYER_NAME=='EDWARD AND JUNE KELLOGG FOUNDATION']"
   ]
  },
  {
   "cell_type": "code",
   "execution_count": 160,
   "metadata": {},
   "outputs": [],
   "source": [
    "df1.loc[(df1.EMPLOYER_NAME=='VALIDATION TRANSCRIPTION SERVICES INC')  & (df1.PREVAILING_WAGE==0),'PREVAILING_WAGE']=df1.PREVAILING_WAGE[df1.EMPLOYER_NAME=='VALIDATION TRANSCRIPTION SERVICES INC'].median()"
   ]
  },
  {
   "cell_type": "code",
   "execution_count": 161,
   "metadata": {},
   "outputs": [
    {
     "data": {
      "text/plain": [
       "0.0"
      ]
     },
     "execution_count": 161,
     "metadata": {},
     "output_type": "execute_result"
    }
   ],
   "source": [
    "df1.PREVAILING_WAGE[df1.EMPLOYER_NAME=='ZAT REALTY, LLC'].median()"
   ]
  },
  {
   "cell_type": "code",
   "execution_count": 162,
   "metadata": {},
   "outputs": [
    {
     "data": {
      "text/html": [
       "<div>\n",
       "<style scoped>\n",
       "    .dataframe tbody tr th:only-of-type {\n",
       "        vertical-align: middle;\n",
       "    }\n",
       "\n",
       "    .dataframe tbody tr th {\n",
       "        vertical-align: top;\n",
       "    }\n",
       "\n",
       "    .dataframe thead th {\n",
       "        text-align: right;\n",
       "    }\n",
       "</style>\n",
       "<table border=\"1\" class=\"dataframe\">\n",
       "  <thead>\n",
       "    <tr style=\"text-align: right;\">\n",
       "      <th></th>\n",
       "      <th>CASE_STATUS</th>\n",
       "      <th>CASE_SUBMITTED</th>\n",
       "      <th>DECISION_DATE</th>\n",
       "      <th>VISA_CLASS</th>\n",
       "      <th>EMPLOYMENT_START_DATE</th>\n",
       "      <th>EMPLOYMENT_END_DATE</th>\n",
       "      <th>EMPLOYER_NAME</th>\n",
       "      <th>EMPLOYER_ADDRESS</th>\n",
       "      <th>EMPLOYER_COUNTRY</th>\n",
       "      <th>EMPLOYER_STATE</th>\n",
       "      <th>...</th>\n",
       "      <th>FULL_TIME_POSITION</th>\n",
       "      <th>PREVAILING_WAGE</th>\n",
       "      <th>PW_UNIT_OF_PAY</th>\n",
       "      <th>PW_SOURCE_YEAR</th>\n",
       "      <th>WAGE_RATE_OF_PAY_FROM</th>\n",
       "      <th>WAGE_RATE_OF_PAY_TO</th>\n",
       "      <th>WAGE_UNIT_OF_PAY</th>\n",
       "      <th>H-1B_DEPENDENT</th>\n",
       "      <th>WILLFUL_VIOLATOR</th>\n",
       "      <th>CASE_SUBMITTED_YEAR</th>\n",
       "    </tr>\n",
       "  </thead>\n",
       "  <tbody>\n",
       "    <tr>\n",
       "      <th>479671</th>\n",
       "      <td>DENIED</td>\n",
       "      <td>2017-05-15</td>\n",
       "      <td>5/19/17</td>\n",
       "      <td>H-1B</td>\n",
       "      <td>6/1/17</td>\n",
       "      <td>5/31/19</td>\n",
       "      <td>ZAT REALTY, LLC</td>\n",
       "      <td>2005 W HAPPY VALLEY RD #150</td>\n",
       "      <td>NaN</td>\n",
       "      <td>AZ</td>\n",
       "      <td>...</td>\n",
       "      <td>Y</td>\n",
       "      <td>0.0</td>\n",
       "      <td>Year</td>\n",
       "      <td>2016.0</td>\n",
       "      <td>70000.0</td>\n",
       "      <td>80,000.00</td>\n",
       "      <td>Year</td>\n",
       "      <td>N</td>\n",
       "      <td>N</td>\n",
       "      <td>2017</td>\n",
       "    </tr>\n",
       "  </tbody>\n",
       "</table>\n",
       "<p>1 rows × 26 columns</p>\n",
       "</div>"
      ],
      "text/plain": [
       "       CASE_STATUS CASE_SUBMITTED DECISION_DATE VISA_CLASS  \\\n",
       "479671      DENIED     2017-05-15       5/19/17       H-1B   \n",
       "\n",
       "       EMPLOYMENT_START_DATE EMPLOYMENT_END_DATE    EMPLOYER_NAME  \\\n",
       "479671                6/1/17             5/31/19  ZAT REALTY, LLC   \n",
       "\n",
       "                   EMPLOYER_ADDRESS EMPLOYER_COUNTRY EMPLOYER_STATE  ...  \\\n",
       "479671  2005 W HAPPY VALLEY RD #150              NaN             AZ  ...   \n",
       "\n",
       "       FULL_TIME_POSITION PREVAILING_WAGE PW_UNIT_OF_PAY PW_SOURCE_YEAR  \\\n",
       "479671                  Y             0.0           Year         2016.0   \n",
       "\n",
       "        WAGE_RATE_OF_PAY_FROM  WAGE_RATE_OF_PAY_TO WAGE_UNIT_OF_PAY  \\\n",
       "479671                70000.0            80,000.00             Year   \n",
       "\n",
       "        H-1B_DEPENDENT WILLFUL_VIOLATOR  CASE_SUBMITTED_YEAR  \n",
       "479671               N                N                 2017  \n",
       "\n",
       "[1 rows x 26 columns]"
      ]
     },
     "execution_count": 162,
     "metadata": {},
     "output_type": "execute_result"
    }
   ],
   "source": [
    "df1[df1.EMPLOYER_NAME=='ZAT REALTY, LLC']"
   ]
  },
  {
   "cell_type": "code",
   "execution_count": 163,
   "metadata": {},
   "outputs": [],
   "source": [
    "df1.loc[(df1.EMPLOYER_NAME=='ZAT REALTY, LLC')  & (df1.PREVAILING_WAGE==0),'PREVAILING_WAGE']=df1.WAGE_RATE_OF_PAY_FROM[df1.EMPLOYER_NAME=='ZAT REALTY, LLC']"
   ]
  },
  {
   "cell_type": "code",
   "execution_count": 164,
   "metadata": {},
   "outputs": [
    {
     "data": {
      "text/html": [
       "<div>\n",
       "<style scoped>\n",
       "    .dataframe tbody tr th:only-of-type {\n",
       "        vertical-align: middle;\n",
       "    }\n",
       "\n",
       "    .dataframe tbody tr th {\n",
       "        vertical-align: top;\n",
       "    }\n",
       "\n",
       "    .dataframe thead th {\n",
       "        text-align: right;\n",
       "    }\n",
       "</style>\n",
       "<table border=\"1\" class=\"dataframe\">\n",
       "  <thead>\n",
       "    <tr style=\"text-align: right;\">\n",
       "      <th></th>\n",
       "      <th>CASE_STATUS</th>\n",
       "      <th>CASE_SUBMITTED</th>\n",
       "      <th>DECISION_DATE</th>\n",
       "      <th>VISA_CLASS</th>\n",
       "      <th>EMPLOYMENT_START_DATE</th>\n",
       "      <th>EMPLOYMENT_END_DATE</th>\n",
       "      <th>EMPLOYER_NAME</th>\n",
       "      <th>EMPLOYER_ADDRESS</th>\n",
       "      <th>EMPLOYER_COUNTRY</th>\n",
       "      <th>EMPLOYER_STATE</th>\n",
       "      <th>...</th>\n",
       "      <th>FULL_TIME_POSITION</th>\n",
       "      <th>PREVAILING_WAGE</th>\n",
       "      <th>PW_UNIT_OF_PAY</th>\n",
       "      <th>PW_SOURCE_YEAR</th>\n",
       "      <th>WAGE_RATE_OF_PAY_FROM</th>\n",
       "      <th>WAGE_RATE_OF_PAY_TO</th>\n",
       "      <th>WAGE_UNIT_OF_PAY</th>\n",
       "      <th>H-1B_DEPENDENT</th>\n",
       "      <th>WILLFUL_VIOLATOR</th>\n",
       "      <th>CASE_SUBMITTED_YEAR</th>\n",
       "    </tr>\n",
       "  </thead>\n",
       "  <tbody>\n",
       "    <tr>\n",
       "      <th>523421</th>\n",
       "      <td>DENIED</td>\n",
       "      <td>2017-06-27</td>\n",
       "      <td>6/28/17</td>\n",
       "      <td>H-1B</td>\n",
       "      <td>8/1/17</td>\n",
       "      <td>8/1/19</td>\n",
       "      <td>1HQ USA LLC</td>\n",
       "      <td>1140 BROADWAY</td>\n",
       "      <td>NaN</td>\n",
       "      <td>NY</td>\n",
       "      <td>...</td>\n",
       "      <td>Y</td>\n",
       "      <td>0.0</td>\n",
       "      <td>NaN</td>\n",
       "      <td>2017.0</td>\n",
       "      <td>70000.0</td>\n",
       "      <td>70,000.00</td>\n",
       "      <td>Year</td>\n",
       "      <td>N</td>\n",
       "      <td>N</td>\n",
       "      <td>2017</td>\n",
       "    </tr>\n",
       "  </tbody>\n",
       "</table>\n",
       "<p>1 rows × 26 columns</p>\n",
       "</div>"
      ],
      "text/plain": [
       "       CASE_STATUS CASE_SUBMITTED DECISION_DATE VISA_CLASS  \\\n",
       "523421      DENIED     2017-06-27       6/28/17       H-1B   \n",
       "\n",
       "       EMPLOYMENT_START_DATE EMPLOYMENT_END_DATE EMPLOYER_NAME  \\\n",
       "523421                8/1/17              8/1/19   1HQ USA LLC   \n",
       "\n",
       "       EMPLOYER_ADDRESS EMPLOYER_COUNTRY EMPLOYER_STATE  ...  \\\n",
       "523421    1140 BROADWAY              NaN             NY  ...   \n",
       "\n",
       "       FULL_TIME_POSITION PREVAILING_WAGE PW_UNIT_OF_PAY PW_SOURCE_YEAR  \\\n",
       "523421                  Y             0.0            NaN         2017.0   \n",
       "\n",
       "        WAGE_RATE_OF_PAY_FROM  WAGE_RATE_OF_PAY_TO WAGE_UNIT_OF_PAY  \\\n",
       "523421                70000.0            70,000.00             Year   \n",
       "\n",
       "        H-1B_DEPENDENT WILLFUL_VIOLATOR  CASE_SUBMITTED_YEAR  \n",
       "523421               N                N                 2017  \n",
       "\n",
       "[1 rows x 26 columns]"
      ]
     },
     "execution_count": 164,
     "metadata": {},
     "output_type": "execute_result"
    }
   ],
   "source": [
    "df1[df1.EMPLOYER_NAME=='1HQ USA LLC']"
   ]
  },
  {
   "cell_type": "code",
   "execution_count": 165,
   "metadata": {},
   "outputs": [],
   "source": [
    "df1.loc[(df1.EMPLOYER_NAME=='1HQ USA LLC')  & (df1.PREVAILING_WAGE==0),'PREVAILING_WAGE']=df1.WAGE_RATE_OF_PAY_FROM[df1.EMPLOYER_NAME=='1HQ USA LLC']"
   ]
  },
  {
   "cell_type": "code",
   "execution_count": 166,
   "metadata": {},
   "outputs": [
    {
     "data": {
      "text/html": [
       "<div>\n",
       "<style scoped>\n",
       "    .dataframe tbody tr th:only-of-type {\n",
       "        vertical-align: middle;\n",
       "    }\n",
       "\n",
       "    .dataframe tbody tr th {\n",
       "        vertical-align: top;\n",
       "    }\n",
       "\n",
       "    .dataframe thead th {\n",
       "        text-align: right;\n",
       "    }\n",
       "</style>\n",
       "<table border=\"1\" class=\"dataframe\">\n",
       "  <thead>\n",
       "    <tr style=\"text-align: right;\">\n",
       "      <th></th>\n",
       "      <th>CASE_STATUS</th>\n",
       "      <th>CASE_SUBMITTED</th>\n",
       "      <th>DECISION_DATE</th>\n",
       "      <th>VISA_CLASS</th>\n",
       "      <th>EMPLOYMENT_START_DATE</th>\n",
       "      <th>EMPLOYMENT_END_DATE</th>\n",
       "      <th>EMPLOYER_NAME</th>\n",
       "      <th>EMPLOYER_ADDRESS</th>\n",
       "      <th>EMPLOYER_COUNTRY</th>\n",
       "      <th>EMPLOYER_STATE</th>\n",
       "      <th>...</th>\n",
       "      <th>FULL_TIME_POSITION</th>\n",
       "      <th>PREVAILING_WAGE</th>\n",
       "      <th>PW_UNIT_OF_PAY</th>\n",
       "      <th>PW_SOURCE_YEAR</th>\n",
       "      <th>WAGE_RATE_OF_PAY_FROM</th>\n",
       "      <th>WAGE_RATE_OF_PAY_TO</th>\n",
       "      <th>WAGE_UNIT_OF_PAY</th>\n",
       "      <th>H-1B_DEPENDENT</th>\n",
       "      <th>WILLFUL_VIOLATOR</th>\n",
       "      <th>CASE_SUBMITTED_YEAR</th>\n",
       "    </tr>\n",
       "  </thead>\n",
       "  <tbody>\n",
       "  </tbody>\n",
       "</table>\n",
       "<p>0 rows × 26 columns</p>\n",
       "</div>"
      ],
      "text/plain": [
       "Empty DataFrame\n",
       "Columns: [CASE_STATUS, CASE_SUBMITTED, DECISION_DATE, VISA_CLASS, EMPLOYMENT_START_DATE, EMPLOYMENT_END_DATE, EMPLOYER_NAME, EMPLOYER_ADDRESS, EMPLOYER_COUNTRY, EMPLOYER_STATE, AGENT_ATTORNEY_NAME, JOB_TITLE, SOC_CODE, SOC_NAME, NAICS_CODE, TOTAL_WORKERS, FULL_TIME_POSITION, PREVAILING_WAGE, PW_UNIT_OF_PAY, PW_SOURCE_YEAR, WAGE_RATE_OF_PAY_FROM, WAGE_RATE_OF_PAY_TO, WAGE_UNIT_OF_PAY, H-1B_DEPENDENT, WILLFUL_VIOLATOR, CASE_SUBMITTED_YEAR]\n",
       "Index: []\n",
       "\n",
       "[0 rows x 26 columns]"
      ]
     },
     "execution_count": 166,
     "metadata": {},
     "output_type": "execute_result"
    }
   ],
   "source": [
    "df1[df1.PREVAILING_WAGE==0]"
   ]
  },
  {
   "cell_type": "markdown",
   "metadata": {},
   "source": [
    "#### Column - PW_UNIT_OF_PAY\n"
   ]
  },
  {
   "cell_type": "code",
   "execution_count": 167,
   "metadata": {},
   "outputs": [
    {
     "data": {
      "text/plain": [
       "18"
      ]
     },
     "execution_count": 167,
     "metadata": {},
     "output_type": "execute_result"
    }
   ],
   "source": [
    "df1.PW_UNIT_OF_PAY.isnull().sum()"
   ]
  },
  {
   "cell_type": "code",
   "execution_count": 168,
   "metadata": {},
   "outputs": [
    {
     "data": {
      "text/plain": [
       "Year         361087\n",
       "Hour          25022\n",
       "Month           174\n",
       "Week             60\n",
       "Bi-Weekly        30\n",
       "Name: PW_UNIT_OF_PAY, dtype: int64"
      ]
     },
     "execution_count": 168,
     "metadata": {},
     "output_type": "execute_result"
    }
   ],
   "source": [
    "df1.PW_UNIT_OF_PAY.value_counts()"
   ]
  },
  {
   "cell_type": "code",
   "execution_count": 169,
   "metadata": {},
   "outputs": [
    {
     "data": {
      "text/html": [
       "<div>\n",
       "<style scoped>\n",
       "    .dataframe tbody tr th:only-of-type {\n",
       "        vertical-align: middle;\n",
       "    }\n",
       "\n",
       "    .dataframe tbody tr th {\n",
       "        vertical-align: top;\n",
       "    }\n",
       "\n",
       "    .dataframe thead th {\n",
       "        text-align: right;\n",
       "    }\n",
       "</style>\n",
       "<table border=\"1\" class=\"dataframe\">\n",
       "  <thead>\n",
       "    <tr style=\"text-align: right;\">\n",
       "      <th></th>\n",
       "      <th>count</th>\n",
       "      <th>mean</th>\n",
       "      <th>std</th>\n",
       "      <th>min</th>\n",
       "      <th>25%</th>\n",
       "      <th>50%</th>\n",
       "      <th>75%</th>\n",
       "      <th>max</th>\n",
       "    </tr>\n",
       "    <tr>\n",
       "      <th>PW_UNIT_OF_PAY</th>\n",
       "      <th></th>\n",
       "      <th></th>\n",
       "      <th></th>\n",
       "      <th></th>\n",
       "      <th></th>\n",
       "      <th></th>\n",
       "      <th></th>\n",
       "      <th></th>\n",
       "    </tr>\n",
       "  </thead>\n",
       "  <tbody>\n",
       "    <tr>\n",
       "      <th>Bi-Weekly</th>\n",
       "      <td>30.0</td>\n",
       "      <td>7702.543667</td>\n",
       "      <td>26072.034214</td>\n",
       "      <td>900.00</td>\n",
       "      <td>2097.58</td>\n",
       "      <td>2397.380</td>\n",
       "      <td>3175.3925</td>\n",
       "      <td>145000.0</td>\n",
       "    </tr>\n",
       "    <tr>\n",
       "      <th>Hour</th>\n",
       "      <td>25022.0</td>\n",
       "      <td>140.910711</td>\n",
       "      <td>2610.883413</td>\n",
       "      <td>7.25</td>\n",
       "      <td>24.08</td>\n",
       "      <td>29.970</td>\n",
       "      <td>36.4400</td>\n",
       "      <td>143166.0</td>\n",
       "    </tr>\n",
       "    <tr>\n",
       "      <th>Month</th>\n",
       "      <td>174.0</td>\n",
       "      <td>8139.408333</td>\n",
       "      <td>16636.184785</td>\n",
       "      <td>2302.00</td>\n",
       "      <td>3149.75</td>\n",
       "      <td>4084.585</td>\n",
       "      <td>5850.0000</td>\n",
       "      <td>148283.0</td>\n",
       "    </tr>\n",
       "    <tr>\n",
       "      <th>Week</th>\n",
       "      <td>60.0</td>\n",
       "      <td>2795.773000</td>\n",
       "      <td>8519.668433</td>\n",
       "      <td>13.25</td>\n",
       "      <td>900.00</td>\n",
       "      <td>1216.675</td>\n",
       "      <td>1531.8900</td>\n",
       "      <td>48859.0</td>\n",
       "    </tr>\n",
       "    <tr>\n",
       "      <th>Year</th>\n",
       "      <td>361087.0</td>\n",
       "      <td>76384.532511</td>\n",
       "      <td>336883.609171</td>\n",
       "      <td>25.58</td>\n",
       "      <td>58510.00</td>\n",
       "      <td>69909.000</td>\n",
       "      <td>87693.0000</td>\n",
       "      <td>201622735.0</td>\n",
       "    </tr>\n",
       "  </tbody>\n",
       "</table>\n",
       "</div>"
      ],
      "text/plain": [
       "                   count          mean            std      min       25%  \\\n",
       "PW_UNIT_OF_PAY                                                             \n",
       "Bi-Weekly           30.0   7702.543667   26072.034214   900.00   2097.58   \n",
       "Hour             25022.0    140.910711    2610.883413     7.25     24.08   \n",
       "Month              174.0   8139.408333   16636.184785  2302.00   3149.75   \n",
       "Week                60.0   2795.773000    8519.668433    13.25    900.00   \n",
       "Year            361087.0  76384.532511  336883.609171    25.58  58510.00   \n",
       "\n",
       "                      50%         75%          max  \n",
       "PW_UNIT_OF_PAY                                      \n",
       "Bi-Weekly        2397.380   3175.3925     145000.0  \n",
       "Hour               29.970     36.4400     143166.0  \n",
       "Month            4084.585   5850.0000     148283.0  \n",
       "Week             1216.675   1531.8900      48859.0  \n",
       "Year            69909.000  87693.0000  201622735.0  "
      ]
     },
     "execution_count": 169,
     "metadata": {},
     "output_type": "execute_result"
    }
   ],
   "source": [
    "df1.groupby('PW_UNIT_OF_PAY')['PREVAILING_WAGE'].describe()"
   ]
  },
  {
   "cell_type": "code",
   "execution_count": 170,
   "metadata": {},
   "outputs": [],
   "source": [
    "df1.loc[(df1.PREVAILING_WAGE>=7.25)  & (df1.PREVAILING_WAGE<=55) & (df1.PW_UNIT_OF_PAY.isnull()),'PW_UNIT_OF_PAY']='Hour'\n",
    "df1.loc[(df1.PREVAILING_WAGE>=13.25)  & (df1.PREVAILING_WAGE<=1531.8900) & (df1.PW_UNIT_OF_PAY.isnull()),'PW_UNIT_OF_PAY']='Week'\n",
    "df1.loc[(df1.PREVAILING_WAGE>=25000) & (df1.PW_UNIT_OF_PAY.isnull()),'PW_UNIT_OF_PAY']='Year'"
   ]
  },
  {
   "cell_type": "code",
   "execution_count": 171,
   "metadata": {},
   "outputs": [
    {
     "data": {
      "text/html": [
       "<div>\n",
       "<style scoped>\n",
       "    .dataframe tbody tr th:only-of-type {\n",
       "        vertical-align: middle;\n",
       "    }\n",
       "\n",
       "    .dataframe tbody tr th {\n",
       "        vertical-align: top;\n",
       "    }\n",
       "\n",
       "    .dataframe thead th {\n",
       "        text-align: right;\n",
       "    }\n",
       "</style>\n",
       "<table border=\"1\" class=\"dataframe\">\n",
       "  <thead>\n",
       "    <tr style=\"text-align: right;\">\n",
       "      <th></th>\n",
       "      <th>CASE_STATUS</th>\n",
       "      <th>CASE_SUBMITTED</th>\n",
       "      <th>DECISION_DATE</th>\n",
       "      <th>VISA_CLASS</th>\n",
       "      <th>EMPLOYMENT_START_DATE</th>\n",
       "      <th>EMPLOYMENT_END_DATE</th>\n",
       "      <th>EMPLOYER_NAME</th>\n",
       "      <th>EMPLOYER_ADDRESS</th>\n",
       "      <th>EMPLOYER_COUNTRY</th>\n",
       "      <th>EMPLOYER_STATE</th>\n",
       "      <th>...</th>\n",
       "      <th>FULL_TIME_POSITION</th>\n",
       "      <th>PREVAILING_WAGE</th>\n",
       "      <th>PW_UNIT_OF_PAY</th>\n",
       "      <th>PW_SOURCE_YEAR</th>\n",
       "      <th>WAGE_RATE_OF_PAY_FROM</th>\n",
       "      <th>WAGE_RATE_OF_PAY_TO</th>\n",
       "      <th>WAGE_UNIT_OF_PAY</th>\n",
       "      <th>H-1B_DEPENDENT</th>\n",
       "      <th>WILLFUL_VIOLATOR</th>\n",
       "      <th>CASE_SUBMITTED_YEAR</th>\n",
       "    </tr>\n",
       "  </thead>\n",
       "  <tbody>\n",
       "  </tbody>\n",
       "</table>\n",
       "<p>0 rows × 26 columns</p>\n",
       "</div>"
      ],
      "text/plain": [
       "Empty DataFrame\n",
       "Columns: [CASE_STATUS, CASE_SUBMITTED, DECISION_DATE, VISA_CLASS, EMPLOYMENT_START_DATE, EMPLOYMENT_END_DATE, EMPLOYER_NAME, EMPLOYER_ADDRESS, EMPLOYER_COUNTRY, EMPLOYER_STATE, AGENT_ATTORNEY_NAME, JOB_TITLE, SOC_CODE, SOC_NAME, NAICS_CODE, TOTAL_WORKERS, FULL_TIME_POSITION, PREVAILING_WAGE, PW_UNIT_OF_PAY, PW_SOURCE_YEAR, WAGE_RATE_OF_PAY_FROM, WAGE_RATE_OF_PAY_TO, WAGE_UNIT_OF_PAY, H-1B_DEPENDENT, WILLFUL_VIOLATOR, CASE_SUBMITTED_YEAR]\n",
       "Index: []\n",
       "\n",
       "[0 rows x 26 columns]"
      ]
     },
     "execution_count": 171,
     "metadata": {},
     "output_type": "execute_result"
    }
   ],
   "source": [
    "df1[df1.PW_UNIT_OF_PAY.isnull()]"
   ]
  },
  {
   "cell_type": "markdown",
   "metadata": {},
   "source": [
    "#### Column - PW_SOURCE_YEAR\n"
   ]
  },
  {
   "cell_type": "code",
   "execution_count": 172,
   "metadata": {},
   "outputs": [
    {
     "data": {
      "text/plain": [
       "(18, 26)"
      ]
     },
     "execution_count": 172,
     "metadata": {},
     "output_type": "execute_result"
    }
   ],
   "source": [
    "df1[df1.PW_SOURCE_YEAR.isnull()].shape"
   ]
  },
  {
   "cell_type": "code",
   "execution_count": 173,
   "metadata": {},
   "outputs": [
    {
     "data": {
      "text/plain": [
       "2016.0    315188\n",
       "2017.0     69339\n",
       "2015.0      1315\n",
       "2014.0       165\n",
       "2011.0       159\n",
       "2013.0       138\n",
       "2012.0        32\n",
       "2008.0        10\n",
       "2010.0         7\n",
       "2009.0         7\n",
       "2007.0         7\n",
       "2001.0         2\n",
       "2000.0         1\n",
       "1998.0         1\n",
       "15.0           1\n",
       "0.0            1\n",
       "Name: PW_SOURCE_YEAR, dtype: int64"
      ]
     },
     "execution_count": 173,
     "metadata": {},
     "output_type": "execute_result"
    }
   ],
   "source": [
    "df1.PW_SOURCE_YEAR.value_counts()"
   ]
  },
  {
   "cell_type": "code",
   "execution_count": 174,
   "metadata": {},
   "outputs": [
    {
     "data": {
      "text/html": [
       "<div>\n",
       "<style scoped>\n",
       "    .dataframe tbody tr th:only-of-type {\n",
       "        vertical-align: middle;\n",
       "    }\n",
       "\n",
       "    .dataframe tbody tr th {\n",
       "        vertical-align: top;\n",
       "    }\n",
       "\n",
       "    .dataframe thead th {\n",
       "        text-align: right;\n",
       "    }\n",
       "</style>\n",
       "<table border=\"1\" class=\"dataframe\">\n",
       "  <thead>\n",
       "    <tr style=\"text-align: right;\">\n",
       "      <th></th>\n",
       "      <th>CASE_STATUS</th>\n",
       "      <th>CASE_SUBMITTED</th>\n",
       "      <th>DECISION_DATE</th>\n",
       "      <th>VISA_CLASS</th>\n",
       "      <th>EMPLOYMENT_START_DATE</th>\n",
       "      <th>EMPLOYMENT_END_DATE</th>\n",
       "      <th>EMPLOYER_NAME</th>\n",
       "      <th>EMPLOYER_ADDRESS</th>\n",
       "      <th>EMPLOYER_COUNTRY</th>\n",
       "      <th>EMPLOYER_STATE</th>\n",
       "      <th>...</th>\n",
       "      <th>FULL_TIME_POSITION</th>\n",
       "      <th>PREVAILING_WAGE</th>\n",
       "      <th>PW_UNIT_OF_PAY</th>\n",
       "      <th>PW_SOURCE_YEAR</th>\n",
       "      <th>WAGE_RATE_OF_PAY_FROM</th>\n",
       "      <th>WAGE_RATE_OF_PAY_TO</th>\n",
       "      <th>WAGE_UNIT_OF_PAY</th>\n",
       "      <th>H-1B_DEPENDENT</th>\n",
       "      <th>WILLFUL_VIOLATOR</th>\n",
       "      <th>CASE_SUBMITTED_YEAR</th>\n",
       "    </tr>\n",
       "  </thead>\n",
       "  <tbody>\n",
       "    <tr>\n",
       "      <th>375210</th>\n",
       "      <td>DENIED</td>\n",
       "      <td>2017-03-22</td>\n",
       "      <td>3/27/17</td>\n",
       "      <td>H-1B</td>\n",
       "      <td>9/10/17</td>\n",
       "      <td>9/10/20</td>\n",
       "      <td>SCHAIDE LLC</td>\n",
       "      <td>3058 WHITE HERON TRAIL, ORANGE PARK</td>\n",
       "      <td>UNITED STATES OF AMERICA</td>\n",
       "      <td>FL</td>\n",
       "      <td>...</td>\n",
       "      <td>Y</td>\n",
       "      <td>155000.0</td>\n",
       "      <td>Year</td>\n",
       "      <td>0.0</td>\n",
       "      <td>155000.0</td>\n",
       "      <td>0.00</td>\n",
       "      <td>Year</td>\n",
       "      <td>Y</td>\n",
       "      <td>N</td>\n",
       "      <td>2017</td>\n",
       "    </tr>\n",
       "    <tr>\n",
       "      <th>399304</th>\n",
       "      <td>DENIED</td>\n",
       "      <td>2017-03-24</td>\n",
       "      <td>3/29/17</td>\n",
       "      <td>H-1B</td>\n",
       "      <td>9/7/17</td>\n",
       "      <td>9/6/20</td>\n",
       "      <td>NEW YORK UNIVERSITY HOSPITALS CENTER</td>\n",
       "      <td>550 FIRST AVENUE</td>\n",
       "      <td>UNITED STATES OF AMERICA</td>\n",
       "      <td>NY</td>\n",
       "      <td>...</td>\n",
       "      <td>Y</td>\n",
       "      <td>57782.0</td>\n",
       "      <td>Year</td>\n",
       "      <td>15.0</td>\n",
       "      <td>57746.0</td>\n",
       "      <td>0.00</td>\n",
       "      <td>Year</td>\n",
       "      <td>N</td>\n",
       "      <td>N</td>\n",
       "      <td>2017</td>\n",
       "    </tr>\n",
       "  </tbody>\n",
       "</table>\n",
       "<p>2 rows × 26 columns</p>\n",
       "</div>"
      ],
      "text/plain": [
       "       CASE_STATUS CASE_SUBMITTED DECISION_DATE VISA_CLASS  \\\n",
       "375210      DENIED     2017-03-22       3/27/17       H-1B   \n",
       "399304      DENIED     2017-03-24       3/29/17       H-1B   \n",
       "\n",
       "       EMPLOYMENT_START_DATE EMPLOYMENT_END_DATE  \\\n",
       "375210               9/10/17             9/10/20   \n",
       "399304                9/7/17              9/6/20   \n",
       "\n",
       "                               EMPLOYER_NAME  \\\n",
       "375210                           SCHAIDE LLC   \n",
       "399304  NEW YORK UNIVERSITY HOSPITALS CENTER   \n",
       "\n",
       "                           EMPLOYER_ADDRESS          EMPLOYER_COUNTRY  \\\n",
       "375210  3058 WHITE HERON TRAIL, ORANGE PARK  UNITED STATES OF AMERICA   \n",
       "399304                     550 FIRST AVENUE  UNITED STATES OF AMERICA   \n",
       "\n",
       "       EMPLOYER_STATE  ... FULL_TIME_POSITION PREVAILING_WAGE PW_UNIT_OF_PAY  \\\n",
       "375210             FL  ...                  Y        155000.0           Year   \n",
       "399304             NY  ...                  Y         57782.0           Year   \n",
       "\n",
       "       PW_SOURCE_YEAR  WAGE_RATE_OF_PAY_FROM  WAGE_RATE_OF_PAY_TO  \\\n",
       "375210            0.0               155000.0                 0.00   \n",
       "399304           15.0                57746.0                 0.00   \n",
       "\n",
       "       WAGE_UNIT_OF_PAY  H-1B_DEPENDENT WILLFUL_VIOLATOR  CASE_SUBMITTED_YEAR  \n",
       "375210             Year               Y                N                 2017  \n",
       "399304             Year               N                N                 2017  \n",
       "\n",
       "[2 rows x 26 columns]"
      ]
     },
     "execution_count": 174,
     "metadata": {},
     "output_type": "execute_result"
    }
   ],
   "source": [
    "df1[(df1.PW_SOURCE_YEAR==15.0) | (df1.PW_SOURCE_YEAR==0.0)]"
   ]
  },
  {
   "cell_type": "code",
   "execution_count": 175,
   "metadata": {},
   "outputs": [],
   "source": [
    "df1.PW_SOURCE_YEAR.fillna(2016,inplace=True)"
   ]
  },
  {
   "cell_type": "code",
   "execution_count": 176,
   "metadata": {},
   "outputs": [
    {
     "data": {
      "text/plain": [
       "0"
      ]
     },
     "execution_count": 176,
     "metadata": {},
     "output_type": "execute_result"
    }
   ],
   "source": [
    "df1.PW_SOURCE_YEAR.isnull().sum()"
   ]
  },
  {
   "cell_type": "code",
   "execution_count": 177,
   "metadata": {},
   "outputs": [],
   "source": [
    "df1.loc[(df1.PW_SOURCE_YEAR==15.0) | (df1.PW_SOURCE_YEAR==0.0),'PW_SOURCE_YEAR']=2016"
   ]
  },
  {
   "cell_type": "code",
   "execution_count": 178,
   "metadata": {},
   "outputs": [
    {
     "data": {
      "text/plain": [
       "2016.0    315208\n",
       "2017.0     69339\n",
       "2015.0      1315\n",
       "2014.0       165\n",
       "2011.0       159\n",
       "2013.0       138\n",
       "2012.0        32\n",
       "2008.0        10\n",
       "2010.0         7\n",
       "2009.0         7\n",
       "2007.0         7\n",
       "2001.0         2\n",
       "2000.0         1\n",
       "1998.0         1\n",
       "Name: PW_SOURCE_YEAR, dtype: int64"
      ]
     },
     "execution_count": 178,
     "metadata": {},
     "output_type": "execute_result"
    }
   ],
   "source": [
    "df1.PW_SOURCE_YEAR.value_counts()"
   ]
  },
  {
   "cell_type": "markdown",
   "metadata": {},
   "source": [
    "#### Column - H-1B_DEPENDENT"
   ]
  },
  {
   "cell_type": "code",
   "execution_count": 179,
   "metadata": {},
   "outputs": [
    {
     "data": {
      "text/plain": [
       "2"
      ]
     },
     "execution_count": 179,
     "metadata": {},
     "output_type": "execute_result"
    }
   ],
   "source": [
    "df1['H-1B_DEPENDENT'].isnull().sum()"
   ]
  },
  {
   "cell_type": "code",
   "execution_count": 180,
   "metadata": {},
   "outputs": [
    {
     "data": {
      "text/plain": [
       "N    242052\n",
       "Y    144337\n",
       "Name: H-1B_DEPENDENT, dtype: int64"
      ]
     },
     "execution_count": 180,
     "metadata": {},
     "output_type": "execute_result"
    }
   ],
   "source": [
    "df1['H-1B_DEPENDENT'].value_counts()"
   ]
  },
  {
   "cell_type": "code",
   "execution_count": 181,
   "metadata": {},
   "outputs": [
    {
     "data": {
      "text/html": [
       "<div>\n",
       "<style scoped>\n",
       "    .dataframe tbody tr th:only-of-type {\n",
       "        vertical-align: middle;\n",
       "    }\n",
       "\n",
       "    .dataframe tbody tr th {\n",
       "        vertical-align: top;\n",
       "    }\n",
       "\n",
       "    .dataframe thead th {\n",
       "        text-align: right;\n",
       "    }\n",
       "</style>\n",
       "<table border=\"1\" class=\"dataframe\">\n",
       "  <thead>\n",
       "    <tr style=\"text-align: right;\">\n",
       "      <th></th>\n",
       "      <th>CASE_STATUS</th>\n",
       "      <th>CASE_SUBMITTED</th>\n",
       "      <th>DECISION_DATE</th>\n",
       "      <th>VISA_CLASS</th>\n",
       "      <th>EMPLOYMENT_START_DATE</th>\n",
       "      <th>EMPLOYMENT_END_DATE</th>\n",
       "      <th>EMPLOYER_NAME</th>\n",
       "      <th>EMPLOYER_ADDRESS</th>\n",
       "      <th>EMPLOYER_COUNTRY</th>\n",
       "      <th>EMPLOYER_STATE</th>\n",
       "      <th>...</th>\n",
       "      <th>FULL_TIME_POSITION</th>\n",
       "      <th>PREVAILING_WAGE</th>\n",
       "      <th>PW_UNIT_OF_PAY</th>\n",
       "      <th>PW_SOURCE_YEAR</th>\n",
       "      <th>WAGE_RATE_OF_PAY_FROM</th>\n",
       "      <th>WAGE_RATE_OF_PAY_TO</th>\n",
       "      <th>WAGE_UNIT_OF_PAY</th>\n",
       "      <th>H-1B_DEPENDENT</th>\n",
       "      <th>WILLFUL_VIOLATOR</th>\n",
       "      <th>CASE_SUBMITTED_YEAR</th>\n",
       "    </tr>\n",
       "  </thead>\n",
       "  <tbody>\n",
       "    <tr>\n",
       "      <th>296383</th>\n",
       "      <td>DENIED</td>\n",
       "      <td>2017-03-14</td>\n",
       "      <td>3/16/17</td>\n",
       "      <td>H-1B</td>\n",
       "      <td>3/1/17</td>\n",
       "      <td>2/1/20</td>\n",
       "      <td>SUGEETA KURADA &amp; CO.</td>\n",
       "      <td>9808 CHERRY STREET</td>\n",
       "      <td>UNITED STATES OF AMERICA</td>\n",
       "      <td>MO</td>\n",
       "      <td>...</td>\n",
       "      <td>Y</td>\n",
       "      <td>82731.0</td>\n",
       "      <td>Year</td>\n",
       "      <td>2016.0</td>\n",
       "      <td>0.0</td>\n",
       "      <td>0.00</td>\n",
       "      <td>NaN</td>\n",
       "      <td>NaN</td>\n",
       "      <td>NaN</td>\n",
       "      <td>2017</td>\n",
       "    </tr>\n",
       "    <tr>\n",
       "      <th>454782</th>\n",
       "      <td>DENIED</td>\n",
       "      <td>2017-04-25</td>\n",
       "      <td>5/1/17</td>\n",
       "      <td>H-1B</td>\n",
       "      <td>5/6/17</td>\n",
       "      <td>5/3/20</td>\n",
       "      <td>INFOSYS LIMITED</td>\n",
       "      <td>6100 TENNYSON PARKWAY</td>\n",
       "      <td>NaN</td>\n",
       "      <td>TX</td>\n",
       "      <td>...</td>\n",
       "      <td>Y</td>\n",
       "      <td>82000.0</td>\n",
       "      <td>Year</td>\n",
       "      <td>2014.0</td>\n",
       "      <td>82000.0</td>\n",
       "      <td>0.00</td>\n",
       "      <td>Year</td>\n",
       "      <td>NaN</td>\n",
       "      <td>NaN</td>\n",
       "      <td>2017</td>\n",
       "    </tr>\n",
       "  </tbody>\n",
       "</table>\n",
       "<p>2 rows × 26 columns</p>\n",
       "</div>"
      ],
      "text/plain": [
       "       CASE_STATUS CASE_SUBMITTED DECISION_DATE VISA_CLASS  \\\n",
       "296383      DENIED     2017-03-14       3/16/17       H-1B   \n",
       "454782      DENIED     2017-04-25        5/1/17       H-1B   \n",
       "\n",
       "       EMPLOYMENT_START_DATE EMPLOYMENT_END_DATE         EMPLOYER_NAME  \\\n",
       "296383                3/1/17              2/1/20  SUGEETA KURADA & CO.   \n",
       "454782                5/6/17              5/3/20       INFOSYS LIMITED   \n",
       "\n",
       "             EMPLOYER_ADDRESS          EMPLOYER_COUNTRY EMPLOYER_STATE  ...  \\\n",
       "296383     9808 CHERRY STREET  UNITED STATES OF AMERICA             MO  ...   \n",
       "454782  6100 TENNYSON PARKWAY                       NaN             TX  ...   \n",
       "\n",
       "       FULL_TIME_POSITION PREVAILING_WAGE PW_UNIT_OF_PAY PW_SOURCE_YEAR  \\\n",
       "296383                  Y         82731.0           Year         2016.0   \n",
       "454782                  Y         82000.0           Year         2014.0   \n",
       "\n",
       "        WAGE_RATE_OF_PAY_FROM  WAGE_RATE_OF_PAY_TO WAGE_UNIT_OF_PAY  \\\n",
       "296383                    0.0                 0.00              NaN   \n",
       "454782                82000.0                 0.00             Year   \n",
       "\n",
       "        H-1B_DEPENDENT WILLFUL_VIOLATOR  CASE_SUBMITTED_YEAR  \n",
       "296383             NaN              NaN                 2017  \n",
       "454782             NaN              NaN                 2017  \n",
       "\n",
       "[2 rows x 26 columns]"
      ]
     },
     "execution_count": 181,
     "metadata": {},
     "output_type": "execute_result"
    }
   ],
   "source": [
    "df1[df1['H-1B_DEPENDENT'].isnull()]"
   ]
  },
  {
   "cell_type": "code",
   "execution_count": 182,
   "metadata": {},
   "outputs": [],
   "source": [
    "df1['H-1B_DEPENDENT'].fillna('N',inplace=True)"
   ]
  },
  {
   "cell_type": "code",
   "execution_count": 183,
   "metadata": {},
   "outputs": [
    {
     "data": {
      "text/plain": [
       "0"
      ]
     },
     "execution_count": 183,
     "metadata": {},
     "output_type": "execute_result"
    }
   ],
   "source": [
    "df1['H-1B_DEPENDENT'].isnull().sum()"
   ]
  },
  {
   "cell_type": "markdown",
   "metadata": {},
   "source": [
    "#### Column - WILLFUL_VIOLATOR"
   ]
  },
  {
   "cell_type": "code",
   "execution_count": 184,
   "metadata": {},
   "outputs": [
    {
     "data": {
      "text/plain": [
       "2"
      ]
     },
     "execution_count": 184,
     "metadata": {},
     "output_type": "execute_result"
    }
   ],
   "source": [
    "df1['WILLFUL_VIOLATOR'].isnull().sum()"
   ]
  },
  {
   "cell_type": "code",
   "execution_count": 185,
   "metadata": {},
   "outputs": [
    {
     "data": {
      "text/plain": [
       "N    386148\n",
       "Y       241\n",
       "Name: WILLFUL_VIOLATOR, dtype: int64"
      ]
     },
     "execution_count": 185,
     "metadata": {},
     "output_type": "execute_result"
    }
   ],
   "source": [
    "df1['WILLFUL_VIOLATOR'].value_counts()"
   ]
  },
  {
   "cell_type": "code",
   "execution_count": 186,
   "metadata": {},
   "outputs": [],
   "source": [
    "df1['WILLFUL_VIOLATOR'].fillna('N',inplace=True)"
   ]
  },
  {
   "cell_type": "code",
   "execution_count": 187,
   "metadata": {},
   "outputs": [
    {
     "data": {
      "text/plain": [
       "0"
      ]
     },
     "execution_count": 187,
     "metadata": {},
     "output_type": "execute_result"
    }
   ],
   "source": [
    "df1['WILLFUL_VIOLATOR'].isnull().sum()"
   ]
  },
  {
   "cell_type": "markdown",
   "metadata": {},
   "source": [
    "# NEW FEATURES"
   ]
  },
  {
   "cell_type": "markdown",
   "metadata": {},
   "source": [
    "#### Duration between case submmission and decision date"
   ]
  },
  {
   "cell_type": "code",
   "execution_count": 188,
   "metadata": {},
   "outputs": [
    {
     "data": {
      "text/plain": [
       "Index(['CASE_STATUS', 'CASE_SUBMITTED', 'DECISION_DATE', 'VISA_CLASS',\n",
       "       'EMPLOYMENT_START_DATE', 'EMPLOYMENT_END_DATE', 'EMPLOYER_NAME',\n",
       "       'EMPLOYER_ADDRESS', 'EMPLOYER_COUNTRY', 'EMPLOYER_STATE',\n",
       "       'AGENT_ATTORNEY_NAME', 'JOB_TITLE', 'SOC_CODE', 'SOC_NAME',\n",
       "       'NAICS_CODE', 'TOTAL_WORKERS', 'FULL_TIME_POSITION', 'PREVAILING_WAGE',\n",
       "       'PW_UNIT_OF_PAY', 'PW_SOURCE_YEAR', 'WAGE_RATE_OF_PAY_FROM',\n",
       "       'WAGE_RATE_OF_PAY_TO', 'WAGE_UNIT_OF_PAY', 'H-1B_DEPENDENT',\n",
       "       'WILLFUL_VIOLATOR', 'CASE_SUBMITTED_YEAR'],\n",
       "      dtype='object')"
      ]
     },
     "execution_count": 188,
     "metadata": {},
     "output_type": "execute_result"
    }
   ],
   "source": [
    "df1.columns"
   ]
  },
  {
   "cell_type": "code",
   "execution_count": 189,
   "metadata": {},
   "outputs": [],
   "source": [
    "df1['DECISION_DATE'] = pd.to_datetime(df1['DECISION_DATE'])\n",
    "df1['EMPLOYMENT_START_DATE'] = pd.to_datetime(df1['EMPLOYMENT_START_DATE'])\n",
    "df1['EMPLOYMENT_END_DATE'] = pd.to_datetime(df1['EMPLOYMENT_END_DATE'])"
   ]
  },
  {
   "cell_type": "code",
   "execution_count": 190,
   "metadata": {},
   "outputs": [],
   "source": [
    "df1['CS_DD_Duration'] = df1['DECISION_DATE'] - df1['CASE_SUBMITTED']"
   ]
  },
  {
   "cell_type": "code",
   "execution_count": 191,
   "metadata": {},
   "outputs": [
    {
     "data": {
      "text/plain": [
       "6 days     269283\n",
       "4 days      71171\n",
       "7 days      29409\n",
       "5 days      13969\n",
       "2 days        828\n",
       "3 days        664\n",
       "8 days        464\n",
       "1 days        431\n",
       "10 days       128\n",
       "9 days         43\n",
       "0 days          1\n",
       "Name: CS_DD_Duration, dtype: int64"
      ]
     },
     "execution_count": 191,
     "metadata": {},
     "output_type": "execute_result"
    }
   ],
   "source": [
    "df1['CS_DD_Duration'].value_counts()"
   ]
  },
  {
   "cell_type": "markdown",
   "metadata": {},
   "source": [
    "#### Duration between employment starting and ending date"
   ]
  },
  {
   "cell_type": "code",
   "execution_count": 192,
   "metadata": {},
   "outputs": [],
   "source": [
    "df1['Emp_Stay_Duration_Yr'] = np.round(((df1['EMPLOYMENT_END_DATE'] - df1['EMPLOYMENT_START_DATE'])/np.timedelta64(1, 'Y')))"
   ]
  },
  {
   "cell_type": "code",
   "execution_count": 193,
   "metadata": {},
   "outputs": [
    {
     "data": {
      "text/plain": [
       " 3.0    366092\n",
       " 2.0      9648\n",
       " 1.0      9457\n",
       " 0.0      1180\n",
       "-7.0         1\n",
       "Name: Emp_Stay_Duration_Yr, dtype: int64"
      ]
     },
     "execution_count": 193,
     "metadata": {},
     "output_type": "execute_result"
    }
   ],
   "source": [
    "df1['Emp_Stay_Duration_Yr'].value_counts()"
   ]
  },
  {
   "cell_type": "code",
   "execution_count": 194,
   "metadata": {},
   "outputs": [
    {
     "data": {
      "text/html": [
       "<div>\n",
       "<style scoped>\n",
       "    .dataframe tbody tr th:only-of-type {\n",
       "        vertical-align: middle;\n",
       "    }\n",
       "\n",
       "    .dataframe tbody tr th {\n",
       "        vertical-align: top;\n",
       "    }\n",
       "\n",
       "    .dataframe thead th {\n",
       "        text-align: right;\n",
       "    }\n",
       "</style>\n",
       "<table border=\"1\" class=\"dataframe\">\n",
       "  <thead>\n",
       "    <tr style=\"text-align: right;\">\n",
       "      <th></th>\n",
       "      <th>CASE_STATUS</th>\n",
       "      <th>CASE_SUBMITTED</th>\n",
       "      <th>DECISION_DATE</th>\n",
       "      <th>VISA_CLASS</th>\n",
       "      <th>EMPLOYMENT_START_DATE</th>\n",
       "      <th>EMPLOYMENT_END_DATE</th>\n",
       "      <th>EMPLOYER_NAME</th>\n",
       "      <th>EMPLOYER_ADDRESS</th>\n",
       "      <th>EMPLOYER_COUNTRY</th>\n",
       "      <th>EMPLOYER_STATE</th>\n",
       "      <th>...</th>\n",
       "      <th>PW_UNIT_OF_PAY</th>\n",
       "      <th>PW_SOURCE_YEAR</th>\n",
       "      <th>WAGE_RATE_OF_PAY_FROM</th>\n",
       "      <th>WAGE_RATE_OF_PAY_TO</th>\n",
       "      <th>WAGE_UNIT_OF_PAY</th>\n",
       "      <th>H-1B_DEPENDENT</th>\n",
       "      <th>WILLFUL_VIOLATOR</th>\n",
       "      <th>CASE_SUBMITTED_YEAR</th>\n",
       "      <th>CS_DD_Duration</th>\n",
       "      <th>Emp_Stay_Duration_Yr</th>\n",
       "    </tr>\n",
       "  </thead>\n",
       "  <tbody>\n",
       "    <tr>\n",
       "      <th>367763</th>\n",
       "      <td>DENIED</td>\n",
       "      <td>2017-03-20</td>\n",
       "      <td>2017-03-24</td>\n",
       "      <td>H-1B</td>\n",
       "      <td>2017-09-18</td>\n",
       "      <td>2010-09-17</td>\n",
       "      <td>LUCID TECHNOLOGIES, INC</td>\n",
       "      <td>8600 FREEPORT PKWY</td>\n",
       "      <td>UNITED STATES OF AMERICA</td>\n",
       "      <td>TX</td>\n",
       "      <td>...</td>\n",
       "      <td>Year</td>\n",
       "      <td>2017.0</td>\n",
       "      <td>60000.0</td>\n",
       "      <td>0.00</td>\n",
       "      <td>Year</td>\n",
       "      <td>Y</td>\n",
       "      <td>N</td>\n",
       "      <td>2017</td>\n",
       "      <td>4 days</td>\n",
       "      <td>-7.0</td>\n",
       "    </tr>\n",
       "  </tbody>\n",
       "</table>\n",
       "<p>1 rows × 28 columns</p>\n",
       "</div>"
      ],
      "text/plain": [
       "       CASE_STATUS CASE_SUBMITTED DECISION_DATE VISA_CLASS  \\\n",
       "367763      DENIED     2017-03-20    2017-03-24       H-1B   \n",
       "\n",
       "       EMPLOYMENT_START_DATE EMPLOYMENT_END_DATE            EMPLOYER_NAME  \\\n",
       "367763            2017-09-18          2010-09-17  LUCID TECHNOLOGIES, INC   \n",
       "\n",
       "          EMPLOYER_ADDRESS          EMPLOYER_COUNTRY EMPLOYER_STATE  ...  \\\n",
       "367763  8600 FREEPORT PKWY  UNITED STATES OF AMERICA             TX  ...   \n",
       "\n",
       "       PW_UNIT_OF_PAY PW_SOURCE_YEAR WAGE_RATE_OF_PAY_FROM  \\\n",
       "367763           Year         2017.0               60000.0   \n",
       "\n",
       "       WAGE_RATE_OF_PAY_TO  WAGE_UNIT_OF_PAY  H-1B_DEPENDENT WILLFUL_VIOLATOR  \\\n",
       "367763                0.00              Year               Y                N   \n",
       "\n",
       "        CASE_SUBMITTED_YEAR CS_DD_Duration  Emp_Stay_Duration_Yr  \n",
       "367763                 2017         4 days                  -7.0  \n",
       "\n",
       "[1 rows x 28 columns]"
      ]
     },
     "execution_count": 194,
     "metadata": {},
     "output_type": "execute_result"
    }
   ],
   "source": [
    "df1[df1.Emp_Stay_Duration_Yr==-7.0]"
   ]
  },
  {
   "cell_type": "code",
   "execution_count": 195,
   "metadata": {},
   "outputs": [],
   "source": [
    "df1.loc[(df1.Emp_Stay_Duration_Yr==-7.0),'Emp_Stay_Duration_Yr']=1"
   ]
  },
  {
   "cell_type": "code",
   "execution_count": 196,
   "metadata": {},
   "outputs": [
    {
     "data": {
      "text/plain": [
       "3.0    366092\n",
       "2.0      9648\n",
       "1.0      9458\n",
       "0.0      1180\n",
       "Name: Emp_Stay_Duration_Yr, dtype: int64"
      ]
     },
     "execution_count": 196,
     "metadata": {},
     "output_type": "execute_result"
    }
   ],
   "source": [
    "df1['Emp_Stay_Duration_Yr'].value_counts()"
   ]
  },
  {
   "cell_type": "markdown",
   "metadata": {},
   "source": [
    "#### Employer Frequency"
   ]
  },
  {
   "cell_type": "code",
   "execution_count": 197,
   "metadata": {},
   "outputs": [],
   "source": [
    "df1['EMPLOYER_FREQUENCY'] = df1.groupby('EMPLOYER_NAME')['EMPLOYER_NAME'].transform('count')"
   ]
  },
  {
   "cell_type": "markdown",
   "metadata": {},
   "source": [
    "#### AGENT_ATTORNEY"
   ]
  },
  {
   "cell_type": "code",
   "execution_count": 198,
   "metadata": {},
   "outputs": [
    {
     "data": {
      "text/plain": [
       "(183171, 29)"
      ]
     },
     "execution_count": 198,
     "metadata": {},
     "output_type": "execute_result"
    }
   ],
   "source": [
    "df1[df1.AGENT_ATTORNEY_NAME==','].shape"
   ]
  },
  {
   "cell_type": "code",
   "execution_count": 199,
   "metadata": {},
   "outputs": [],
   "source": [
    "df1['AGENT_ATTORNEY'] = df1.AGENT_ATTORNEY_NAME.apply(lambda x : 0 if (x == ',') else 1)"
   ]
  },
  {
   "cell_type": "markdown",
   "metadata": {},
   "source": [
    "#### OCCUPATION"
   ]
  },
  {
   "cell_type": "code",
   "execution_count": 200,
   "metadata": {},
   "outputs": [],
   "source": [
    "df1['OCCUPATION'] = np.nan"
   ]
  },
  {
   "cell_type": "code",
   "execution_count": 201,
   "metadata": {},
   "outputs": [],
   "source": [
    "df1['SOC_NAME'] = df1['SOC_NAME'].str.lower()"
   ]
  },
  {
   "cell_type": "code",
   "execution_count": 202,
   "metadata": {},
   "outputs": [
    {
     "name": "stderr",
     "output_type": "stream",
     "text": [
      "D:\\Anaconda\\lib\\site-packages\\ipykernel_launcher.py:1: SettingWithCopyWarning: \n",
      "A value is trying to be set on a copy of a slice from a DataFrame\n",
      "\n",
      "See the caveats in the documentation: http://pandas.pydata.org/pandas-docs/stable/indexing.html#indexing-view-versus-copy\n",
      "  \"\"\"Entry point for launching an IPython kernel.\n",
      "D:\\Anaconda\\lib\\site-packages\\ipykernel_launcher.py:2: SettingWithCopyWarning: \n",
      "A value is trying to be set on a copy of a slice from a DataFrame\n",
      "\n",
      "See the caveats in the documentation: http://pandas.pydata.org/pandas-docs/stable/indexing.html#indexing-view-versus-copy\n",
      "  \n",
      "D:\\Anaconda\\lib\\site-packages\\ipykernel_launcher.py:3: SettingWithCopyWarning: \n",
      "A value is trying to be set on a copy of a slice from a DataFrame\n",
      "\n",
      "See the caveats in the documentation: http://pandas.pydata.org/pandas-docs/stable/indexing.html#indexing-view-versus-copy\n",
      "  This is separate from the ipykernel package so we can avoid doing imports until\n",
      "D:\\Anaconda\\lib\\site-packages\\ipykernel_launcher.py:4: SettingWithCopyWarning: \n",
      "A value is trying to be set on a copy of a slice from a DataFrame\n",
      "\n",
      "See the caveats in the documentation: http://pandas.pydata.org/pandas-docs/stable/indexing.html#indexing-view-versus-copy\n",
      "  after removing the cwd from sys.path.\n",
      "D:\\Anaconda\\lib\\site-packages\\ipykernel_launcher.py:5: SettingWithCopyWarning: \n",
      "A value is trying to be set on a copy of a slice from a DataFrame\n",
      "\n",
      "See the caveats in the documentation: http://pandas.pydata.org/pandas-docs/stable/indexing.html#indexing-view-versus-copy\n",
      "  \"\"\"\n",
      "D:\\Anaconda\\lib\\site-packages\\ipykernel_launcher.py:6: SettingWithCopyWarning: \n",
      "A value is trying to be set on a copy of a slice from a DataFrame\n",
      "\n",
      "See the caveats in the documentation: http://pandas.pydata.org/pandas-docs/stable/indexing.html#indexing-view-versus-copy\n",
      "  \n",
      "D:\\Anaconda\\lib\\site-packages\\ipykernel_launcher.py:7: SettingWithCopyWarning: \n",
      "A value is trying to be set on a copy of a slice from a DataFrame\n",
      "\n",
      "See the caveats in the documentation: http://pandas.pydata.org/pandas-docs/stable/indexing.html#indexing-view-versus-copy\n",
      "  import sys\n",
      "D:\\Anaconda\\lib\\site-packages\\ipykernel_launcher.py:8: SettingWithCopyWarning: \n",
      "A value is trying to be set on a copy of a slice from a DataFrame\n",
      "\n",
      "See the caveats in the documentation: http://pandas.pydata.org/pandas-docs/stable/indexing.html#indexing-view-versus-copy\n",
      "  \n",
      "D:\\Anaconda\\lib\\site-packages\\ipykernel_launcher.py:9: SettingWithCopyWarning: \n",
      "A value is trying to be set on a copy of a slice from a DataFrame\n",
      "\n",
      "See the caveats in the documentation: http://pandas.pydata.org/pandas-docs/stable/indexing.html#indexing-view-versus-copy\n",
      "  if __name__ == '__main__':\n",
      "D:\\Anaconda\\lib\\site-packages\\ipykernel_launcher.py:10: SettingWithCopyWarning: \n",
      "A value is trying to be set on a copy of a slice from a DataFrame\n",
      "\n",
      "See the caveats in the documentation: http://pandas.pydata.org/pandas-docs/stable/indexing.html#indexing-view-versus-copy\n",
      "  # Remove the CWD from sys.path while we load stuff.\n",
      "D:\\Anaconda\\lib\\site-packages\\ipykernel_launcher.py:11: SettingWithCopyWarning: \n",
      "A value is trying to be set on a copy of a slice from a DataFrame\n",
      "\n",
      "See the caveats in the documentation: http://pandas.pydata.org/pandas-docs/stable/indexing.html#indexing-view-versus-copy\n",
      "  # This is added back by InteractiveShellApp.init_path()\n",
      "D:\\Anaconda\\lib\\site-packages\\ipykernel_launcher.py:12: SettingWithCopyWarning: \n",
      "A value is trying to be set on a copy of a slice from a DataFrame\n",
      "\n",
      "See the caveats in the documentation: http://pandas.pydata.org/pandas-docs/stable/indexing.html#indexing-view-versus-copy\n",
      "  if sys.path[0] == '':\n",
      "D:\\Anaconda\\lib\\site-packages\\ipykernel_launcher.py:13: SettingWithCopyWarning: \n",
      "A value is trying to be set on a copy of a slice from a DataFrame\n",
      "\n",
      "See the caveats in the documentation: http://pandas.pydata.org/pandas-docs/stable/indexing.html#indexing-view-versus-copy\n",
      "  del sys.path[0]\n",
      "D:\\Anaconda\\lib\\site-packages\\ipykernel_launcher.py:14: SettingWithCopyWarning: \n",
      "A value is trying to be set on a copy of a slice from a DataFrame\n",
      "\n",
      "See the caveats in the documentation: http://pandas.pydata.org/pandas-docs/stable/indexing.html#indexing-view-versus-copy\n",
      "  \n",
      "D:\\Anaconda\\lib\\site-packages\\ipykernel_launcher.py:15: SettingWithCopyWarning: \n",
      "A value is trying to be set on a copy of a slice from a DataFrame\n",
      "\n",
      "See the caveats in the documentation: http://pandas.pydata.org/pandas-docs/stable/indexing.html#indexing-view-versus-copy\n",
      "  from ipykernel import kernelapp as app\n",
      "D:\\Anaconda\\lib\\site-packages\\ipykernel_launcher.py:16: SettingWithCopyWarning: \n",
      "A value is trying to be set on a copy of a slice from a DataFrame\n",
      "\n",
      "See the caveats in the documentation: http://pandas.pydata.org/pandas-docs/stable/indexing.html#indexing-view-versus-copy\n",
      "  app.launch_new_instance()\n",
      "D:\\Anaconda\\lib\\site-packages\\ipykernel_launcher.py:17: SettingWithCopyWarning: \n",
      "A value is trying to be set on a copy of a slice from a DataFrame\n",
      "\n",
      "See the caveats in the documentation: http://pandas.pydata.org/pandas-docs/stable/indexing.html#indexing-view-versus-copy\n",
      "D:\\Anaconda\\lib\\site-packages\\ipykernel_launcher.py:18: SettingWithCopyWarning: \n",
      "A value is trying to be set on a copy of a slice from a DataFrame\n",
      "\n",
      "See the caveats in the documentation: http://pandas.pydata.org/pandas-docs/stable/indexing.html#indexing-view-versus-copy\n",
      "D:\\Anaconda\\lib\\site-packages\\ipykernel_launcher.py:19: SettingWithCopyWarning: \n",
      "A value is trying to be set on a copy of a slice from a DataFrame\n",
      "\n",
      "See the caveats in the documentation: http://pandas.pydata.org/pandas-docs/stable/indexing.html#indexing-view-versus-copy\n",
      "D:\\Anaconda\\lib\\site-packages\\ipykernel_launcher.py:20: SettingWithCopyWarning: \n",
      "A value is trying to be set on a copy of a slice from a DataFrame\n",
      "\n",
      "See the caveats in the documentation: http://pandas.pydata.org/pandas-docs/stable/indexing.html#indexing-view-versus-copy\n",
      "D:\\Anaconda\\lib\\site-packages\\ipykernel_launcher.py:21: SettingWithCopyWarning: \n",
      "A value is trying to be set on a copy of a slice from a DataFrame\n",
      "\n",
      "See the caveats in the documentation: http://pandas.pydata.org/pandas-docs/stable/indexing.html#indexing-view-versus-copy\n",
      "D:\\Anaconda\\lib\\site-packages\\ipykernel_launcher.py:22: SettingWithCopyWarning: \n",
      "A value is trying to be set on a copy of a slice from a DataFrame\n",
      "\n",
      "See the caveats in the documentation: http://pandas.pydata.org/pandas-docs/stable/indexing.html#indexing-view-versus-copy\n",
      "D:\\Anaconda\\lib\\site-packages\\ipykernel_launcher.py:23: SettingWithCopyWarning: \n",
      "A value is trying to be set on a copy of a slice from a DataFrame\n",
      "\n",
      "See the caveats in the documentation: http://pandas.pydata.org/pandas-docs/stable/indexing.html#indexing-view-versus-copy\n",
      "D:\\Anaconda\\lib\\site-packages\\ipykernel_launcher.py:24: SettingWithCopyWarning: \n",
      "A value is trying to be set on a copy of a slice from a DataFrame\n",
      "\n",
      "See the caveats in the documentation: http://pandas.pydata.org/pandas-docs/stable/indexing.html#indexing-view-versus-copy\n",
      "D:\\Anaconda\\lib\\site-packages\\ipykernel_launcher.py:25: SettingWithCopyWarning: \n",
      "A value is trying to be set on a copy of a slice from a DataFrame\n",
      "\n",
      "See the caveats in the documentation: http://pandas.pydata.org/pandas-docs/stable/indexing.html#indexing-view-versus-copy\n",
      "D:\\Anaconda\\lib\\site-packages\\ipykernel_launcher.py:26: SettingWithCopyWarning: \n",
      "A value is trying to be set on a copy of a slice from a DataFrame\n",
      "\n",
      "See the caveats in the documentation: http://pandas.pydata.org/pandas-docs/stable/indexing.html#indexing-view-versus-copy\n",
      "D:\\Anaconda\\lib\\site-packages\\ipykernel_launcher.py:27: SettingWithCopyWarning: \n",
      "A value is trying to be set on a copy of a slice from a DataFrame\n",
      "\n",
      "See the caveats in the documentation: http://pandas.pydata.org/pandas-docs/stable/indexing.html#indexing-view-versus-copy\n",
      "D:\\Anaconda\\lib\\site-packages\\ipykernel_launcher.py:28: SettingWithCopyWarning: \n",
      "A value is trying to be set on a copy of a slice from a DataFrame\n",
      "\n",
      "See the caveats in the documentation: http://pandas.pydata.org/pandas-docs/stable/indexing.html#indexing-view-versus-copy\n",
      "D:\\Anaconda\\lib\\site-packages\\ipykernel_launcher.py:29: SettingWithCopyWarning: \n",
      "A value is trying to be set on a copy of a slice from a DataFrame\n",
      "\n",
      "See the caveats in the documentation: http://pandas.pydata.org/pandas-docs/stable/indexing.html#indexing-view-versus-copy\n"
     ]
    },
    {
     "name": "stderr",
     "output_type": "stream",
     "text": [
      "D:\\Anaconda\\lib\\site-packages\\ipykernel_launcher.py:30: SettingWithCopyWarning: \n",
      "A value is trying to be set on a copy of a slice from a DataFrame\n",
      "\n",
      "See the caveats in the documentation: http://pandas.pydata.org/pandas-docs/stable/indexing.html#indexing-view-versus-copy\n"
     ]
    }
   ],
   "source": [
    "df1.OCCUPATION[df1['SOC_NAME'].str.contains('computer','programmer')] = 'Computer Occupations'\n",
    "df1.OCCUPATION[df1['SOC_NAME'].str.contains('software','web developer')] = 'Computer Occupations'\n",
    "df1.OCCUPATION[df1['SOC_NAME'].str.contains('database')] = 'Computer Occupations'\n",
    "df1.OCCUPATION[df1['SOC_NAME'].str.contains('math','statistic')] = 'Mathematical Occupations'\n",
    "df1.OCCUPATION[df1['SOC_NAME'].str.contains('predictive model','stats')] = 'Mathematical Occupations'\n",
    "df1.OCCUPATION[df1['SOC_NAME'].str.contains('teacher','linguist')] = 'Education Occupations'\n",
    "df1.OCCUPATION[df1['SOC_NAME'].str.contains('professor','Teach')] = 'Education Occupations'\n",
    "df1.OCCUPATION[df1['SOC_NAME'].str.contains('school principal')] = 'Education Occupations'\n",
    "df1.OCCUPATION[df1['SOC_NAME'].str.contains('medical','doctor')] = 'Medical Occupations'\n",
    "df1.OCCUPATION[df1['SOC_NAME'].str.contains('physician','dentist')] = 'Medical Occupations'\n",
    "df1.OCCUPATION[df1['SOC_NAME'].str.contains('Health','Physical Therapists')] = 'Medical Occupations'\n",
    "df1.OCCUPATION[df1['SOC_NAME'].str.contains('surgeon','nurse')] = 'Medical Occupations'\n",
    "df1.OCCUPATION[df1['SOC_NAME'].str.contains('psychiatr')] = 'Medical Occupations'\n",
    "df1.OCCUPATION[df1['SOC_NAME'].str.contains('chemist','physicist')] = 'Advance Sciences'\n",
    "df1.OCCUPATION[df1['SOC_NAME'].str.contains('biology','scientist')] = 'Advance Sciences'\n",
    "df1.OCCUPATION[df1['SOC_NAME'].str.contains('biologi','clinical research')] = 'Advance Sciences'\n",
    "df1.OCCUPATION[df1['SOC_NAME'].str.contains('public relation','manage')] = 'Management Occupation'\n",
    "df1.OCCUPATION[df1['SOC_NAME'].str.contains('management','operation')] = 'Management Occupation'\n",
    "df1.OCCUPATION[df1['SOC_NAME'].str.contains('chief','plan')] = 'Management Occupation'\n",
    "df1.OCCUPATION[df1['SOC_NAME'].str.contains('executive')] = 'Management Occupation'\n",
    "df1.OCCUPATION[df1['SOC_NAME'].str.contains('advertis','marketing')] = 'Marketing Occupation'\n",
    "df1.OCCUPATION[df1['SOC_NAME'].str.contains('promotion','market research')] = 'Marketing Occupation'\n",
    "df1.OCCUPATION[df1['SOC_NAME'].str.contains('business','business analyst')] = 'Business Occupation'\n",
    "df1.OCCUPATION[df1['SOC_NAME'].str.contains('business systems analyst')] = 'Business Occupation'\n",
    "df1.OCCUPATION[df1['SOC_NAME'].str.contains('accountant','finance')] = 'Financial Occupation'\n",
    "df1.OCCUPATION[df1['SOC_NAME'].str.contains('financial')] = 'Financial Occupation'\n",
    "df1.OCCUPATION[df1['SOC_NAME'].str.contains('engineer','architect')] = 'Architecture & Engineering'\n",
    "df1.OCCUPATION[df1['SOC_NAME'].str.contains('surveyor','carto')] = 'Architecture & Engineering'\n",
    "df1.OCCUPATION[df1['SOC_NAME'].str.contains('technician','drafter')] = 'Architecture & Engineering'\n",
    "df1.OCCUPATION[df1['SOC_NAME'].str.contains('information security','information tech')] = 'Architecture & Engineering'\n",
    "df1['OCCUPATION']= df1.OCCUPATION.replace(np.nan, 'Others', regex=True)"
   ]
  },
  {
   "cell_type": "markdown",
   "metadata": {},
   "source": [
    "#### WAGE Difference between prevailing wage and Wage proposed by employer"
   ]
  },
  {
   "cell_type": "code",
   "execution_count": 203,
   "metadata": {},
   "outputs": [],
   "source": [
    "def cat(x,y):\n",
    "    if x>y:\n",
    "        return('N')\n",
    "    else:\n",
    "        return('Y')\n"
   ]
  },
  {
   "cell_type": "code",
   "execution_count": 204,
   "metadata": {},
   "outputs": [],
   "source": [
    "df1['PWGrWGFm'] = np.vectorize(cat)(df1['PREVAILING_WAGE'], df1['WAGE_RATE_OF_PAY_FROM'])"
   ]
  },
  {
   "cell_type": "code",
   "execution_count": 205,
   "metadata": {},
   "outputs": [
    {
     "data": {
      "text/plain": [
       "Y    385150\n",
       "N      1241\n",
       "Name: PWGrWGFm, dtype: int64"
      ]
     },
     "execution_count": 205,
     "metadata": {},
     "output_type": "execute_result"
    }
   ],
   "source": [
    "df1['PWGrWGFm'].value_counts()"
   ]
  },
  {
   "cell_type": "markdown",
   "metadata": {},
   "source": [
    "#### Prevaling Age"
   ]
  },
  {
   "cell_type": "code",
   "execution_count": 206,
   "metadata": {},
   "outputs": [
    {
     "data": {
      "text/plain": [
       "Year         361096\n",
       "Hour          25030\n",
       "Month           174\n",
       "Week             61\n",
       "Bi-Weekly        30\n",
       "Name: PW_UNIT_OF_PAY, dtype: int64"
      ]
     },
     "execution_count": 206,
     "metadata": {},
     "output_type": "execute_result"
    }
   ],
   "source": [
    "df1['PW_UNIT_OF_PAY'].value_counts()"
   ]
  },
  {
   "cell_type": "code",
   "execution_count": 207,
   "metadata": {},
   "outputs": [],
   "source": [
    "df1.loc[df1['PW_UNIT_OF_PAY'] == 'Week','PREVAILING_WAGE'] = df1['PREVAILING_WAGE']*52\n",
    "df1.loc[df1['PW_UNIT_OF_PAY'] == 'Bi-Weekly','PREVAILING_WAGE'] = df1['PREVAILING_WAGE']*26\n",
    "df1.loc[df1['PW_UNIT_OF_PAY'] == 'Month','PREVAILING_WAGE'] = df1['PREVAILING_WAGE']*12"
   ]
  },
  {
   "cell_type": "code",
   "execution_count": 208,
   "metadata": {},
   "outputs": [],
   "source": [
    "df1.loc[(df1['PW_UNIT_OF_PAY'] == 'Week') | (df1['PW_UNIT_OF_PAY'] == 'Bi-Weekly') | (df1['PW_UNIT_OF_PAY'] == 'Month'),\n",
    "        'PW_UNIT_OF_PAY'] = 'Year'"
   ]
  },
  {
   "cell_type": "code",
   "execution_count": 209,
   "metadata": {},
   "outputs": [
    {
     "data": {
      "text/plain": [
       "Year    361361\n",
       "Hour     25030\n",
       "Name: PW_UNIT_OF_PAY, dtype: int64"
      ]
     },
     "execution_count": 209,
     "metadata": {},
     "output_type": "execute_result"
    }
   ],
   "source": [
    "df1['PW_UNIT_OF_PAY'].value_counts()"
   ]
  },
  {
   "cell_type": "markdown",
   "metadata": {},
   "source": [
    "# TRANSFORMING TARGET IN 1 And 0"
   ]
  },
  {
   "cell_type": "code",
   "execution_count": 210,
   "metadata": {},
   "outputs": [],
   "source": [
    "df1.CASE_STATUS.replace(to_replace=['CERTIFIED','DENIED'],value=[1,0],inplace=True)"
   ]
  },
  {
   "cell_type": "code",
   "execution_count": 211,
   "metadata": {},
   "outputs": [
    {
     "data": {
      "text/plain": [
       "(386391, 32)"
      ]
     },
     "execution_count": 211,
     "metadata": {},
     "output_type": "execute_result"
    }
   ],
   "source": [
    "df1.shape"
   ]
  },
  {
   "cell_type": "code",
   "execution_count": null,
   "metadata": {},
   "outputs": [],
   "source": []
  },
  {
   "cell_type": "markdown",
   "metadata": {},
   "source": [
    "# DROPING FEATURES"
   ]
  },
  {
   "cell_type": "code",
   "execution_count": 212,
   "metadata": {},
   "outputs": [
    {
     "data": {
      "text/plain": [
       "Index(['CASE_STATUS', 'CASE_SUBMITTED', 'DECISION_DATE', 'VISA_CLASS',\n",
       "       'EMPLOYMENT_START_DATE', 'EMPLOYMENT_END_DATE', 'EMPLOYER_NAME',\n",
       "       'EMPLOYER_ADDRESS', 'EMPLOYER_COUNTRY', 'EMPLOYER_STATE',\n",
       "       'AGENT_ATTORNEY_NAME', 'JOB_TITLE', 'SOC_CODE', 'SOC_NAME',\n",
       "       'NAICS_CODE', 'TOTAL_WORKERS', 'FULL_TIME_POSITION', 'PREVAILING_WAGE',\n",
       "       'PW_UNIT_OF_PAY', 'PW_SOURCE_YEAR', 'WAGE_RATE_OF_PAY_FROM',\n",
       "       'WAGE_RATE_OF_PAY_TO', 'WAGE_UNIT_OF_PAY', 'H-1B_DEPENDENT',\n",
       "       'WILLFUL_VIOLATOR', 'CASE_SUBMITTED_YEAR', 'CS_DD_Duration',\n",
       "       'Emp_Stay_Duration_Yr', 'EMPLOYER_FREQUENCY', 'AGENT_ATTORNEY',\n",
       "       'OCCUPATION', 'PWGrWGFm'],\n",
       "      dtype='object')"
      ]
     },
     "execution_count": 212,
     "metadata": {},
     "output_type": "execute_result"
    }
   ],
   "source": [
    "df1.columns"
   ]
  },
  {
   "cell_type": "code",
   "execution_count": 213,
   "metadata": {},
   "outputs": [],
   "source": [
    "df2 = df1[['CASE_STATUS', 'TOTAL_WORKERS', 'FULL_TIME_POSITION', 'PREVAILING_WAGE',\n",
    "       'PW_UNIT_OF_PAY', 'PW_SOURCE_YEAR','H-1B_DEPENDENT',\n",
    "       'WILLFUL_VIOLATOR','CS_DD_Duration',\n",
    "       'Emp_Stay_Duration_Yr', 'EMPLOYER_FREQUENCY', 'AGENT_ATTORNEY', 'OCCUPATION',\n",
    "       'PWGrWGFm']]"
   ]
  },
  {
   "cell_type": "code",
   "execution_count": 214,
   "metadata": {},
   "outputs": [
    {
     "data": {
      "text/plain": [
       "CASE_STATUS                       int64\n",
       "TOTAL_WORKERS                     int64\n",
       "FULL_TIME_POSITION               object\n",
       "PREVAILING_WAGE                 float64\n",
       "PW_UNIT_OF_PAY                   object\n",
       "PW_SOURCE_YEAR                  float64\n",
       "H-1B_DEPENDENT                   object\n",
       "WILLFUL_VIOLATOR                 object\n",
       "CS_DD_Duration          timedelta64[ns]\n",
       "Emp_Stay_Duration_Yr            float64\n",
       "EMPLOYER_FREQUENCY                int64\n",
       "AGENT_ATTORNEY                    int64\n",
       "OCCUPATION                       object\n",
       "PWGrWGFm                         object\n",
       "dtype: object"
      ]
     },
     "execution_count": 214,
     "metadata": {},
     "output_type": "execute_result"
    }
   ],
   "source": [
    "df2.dtypes"
   ]
  },
  {
   "cell_type": "code",
   "execution_count": 216,
   "metadata": {},
   "outputs": [
    {
     "name": "stderr",
     "output_type": "stream",
     "text": [
      "D:\\Anaconda\\lib\\site-packages\\ipykernel_launcher.py:1: SettingWithCopyWarning: \n",
      "A value is trying to be set on a copy of a slice from a DataFrame.\n",
      "Try using .loc[row_indexer,col_indexer] = value instead\n",
      "\n",
      "See the caveats in the documentation: http://pandas.pydata.org/pandas-docs/stable/indexing.html#indexing-view-versus-copy\n",
      "  \"\"\"Entry point for launching an IPython kernel.\n",
      "D:\\Anaconda\\lib\\site-packages\\ipykernel_launcher.py:2: SettingWithCopyWarning: \n",
      "A value is trying to be set on a copy of a slice from a DataFrame.\n",
      "Try using .loc[row_indexer,col_indexer] = value instead\n",
      "\n",
      "See the caveats in the documentation: http://pandas.pydata.org/pandas-docs/stable/indexing.html#indexing-view-versus-copy\n",
      "  \n",
      "D:\\Anaconda\\lib\\site-packages\\ipykernel_launcher.py:3: SettingWithCopyWarning: \n",
      "A value is trying to be set on a copy of a slice from a DataFrame.\n",
      "Try using .loc[row_indexer,col_indexer] = value instead\n",
      "\n",
      "See the caveats in the documentation: http://pandas.pydata.org/pandas-docs/stable/indexing.html#indexing-view-versus-copy\n",
      "  This is separate from the ipykernel package so we can avoid doing imports until\n",
      "D:\\Anaconda\\lib\\site-packages\\ipykernel_launcher.py:4: SettingWithCopyWarning: \n",
      "A value is trying to be set on a copy of a slice from a DataFrame.\n",
      "Try using .loc[row_indexer,col_indexer] = value instead\n",
      "\n",
      "See the caveats in the documentation: http://pandas.pydata.org/pandas-docs/stable/indexing.html#indexing-view-versus-copy\n",
      "  after removing the cwd from sys.path.\n"
     ]
    }
   ],
   "source": [
    "df2['CS_DD_Duration'] = df2.CS_DD_Duration.astype('object')\n",
    "df2['Emp_Stay_Duration_Yr'] = df2.Emp_Stay_Duration_Yr.astype('object')\n",
    "df2['CASE_STATUS'] = df2.CASE_STATUS.astype('object')\n",
    "df2['AGENT_ATTORNEY'] = df2.AGENT_ATTORNEY.astype('object')"
   ]
  },
  {
   "cell_type": "code",
   "execution_count": 217,
   "metadata": {},
   "outputs": [
    {
     "data": {
      "text/plain": [
       "CASE_STATUS              object\n",
       "TOTAL_WORKERS             int64\n",
       "FULL_TIME_POSITION       object\n",
       "PREVAILING_WAGE         float64\n",
       "PW_UNIT_OF_PAY           object\n",
       "PW_SOURCE_YEAR          float64\n",
       "H-1B_DEPENDENT           object\n",
       "WILLFUL_VIOLATOR         object\n",
       "CS_DD_Duration           object\n",
       "Emp_Stay_Duration_Yr     object\n",
       "EMPLOYER_FREQUENCY        int64\n",
       "AGENT_ATTORNEY           object\n",
       "OCCUPATION               object\n",
       "PWGrWGFm                 object\n",
       "dtype: object"
      ]
     },
     "execution_count": 217,
     "metadata": {},
     "output_type": "execute_result"
    }
   ],
   "source": [
    "df2.dtypes"
   ]
  },
  {
   "cell_type": "code",
   "execution_count": 218,
   "metadata": {},
   "outputs": [],
   "source": [
    "df2.to_excel('F1B_AfterEDA.xlsx',index = False)"
   ]
  },
  {
   "cell_type": "code",
   "execution_count": 219,
   "metadata": {},
   "outputs": [],
   "source": [
    "df3 = df2.copy()"
   ]
  },
  {
   "cell_type": "code",
   "execution_count": 220,
   "metadata": {},
   "outputs": [],
   "source": [
    "df3.EMPLOYER_FREQUENCY = df3.EMPLOYER_FREQUENCY.astype('object')"
   ]
  },
  {
   "cell_type": "code",
   "execution_count": 221,
   "metadata": {},
   "outputs": [
    {
     "data": {
      "text/plain": [
       "CASE_STATUS              object\n",
       "TOTAL_WORKERS             int64\n",
       "FULL_TIME_POSITION       object\n",
       "PREVAILING_WAGE         float64\n",
       "PW_UNIT_OF_PAY           object\n",
       "PW_SOURCE_YEAR          float64\n",
       "H-1B_DEPENDENT           object\n",
       "WILLFUL_VIOLATOR         object\n",
       "CS_DD_Duration           object\n",
       "Emp_Stay_Duration_Yr     object\n",
       "EMPLOYER_FREQUENCY       object\n",
       "AGENT_ATTORNEY           object\n",
       "OCCUPATION               object\n",
       "PWGrWGFm                 object\n",
       "dtype: object"
      ]
     },
     "execution_count": 221,
     "metadata": {},
     "output_type": "execute_result"
    }
   ],
   "source": [
    "df3.dtypes"
   ]
  },
  {
   "cell_type": "code",
   "execution_count": 222,
   "metadata": {},
   "outputs": [],
   "source": [
    "df3.AGENT_ATTORNEY = df3.AGENT_ATTORNEY.astype('object')"
   ]
  },
  {
   "cell_type": "code",
   "execution_count": 223,
   "metadata": {},
   "outputs": [
    {
     "data": {
      "text/plain": [
       "CASE_STATUS              object\n",
       "TOTAL_WORKERS             int64\n",
       "FULL_TIME_POSITION       object\n",
       "PREVAILING_WAGE         float64\n",
       "PW_UNIT_OF_PAY           object\n",
       "PW_SOURCE_YEAR          float64\n",
       "H-1B_DEPENDENT           object\n",
       "WILLFUL_VIOLATOR         object\n",
       "CS_DD_Duration           object\n",
       "Emp_Stay_Duration_Yr     object\n",
       "EMPLOYER_FREQUENCY       object\n",
       "AGENT_ATTORNEY           object\n",
       "OCCUPATION               object\n",
       "PWGrWGFm                 object\n",
       "dtype: object"
      ]
     },
     "execution_count": 223,
     "metadata": {},
     "output_type": "execute_result"
    }
   ],
   "source": [
    "df3.dtypes"
   ]
  },
  {
   "cell_type": "code",
   "execution_count": 224,
   "metadata": {},
   "outputs": [
    {
     "data": {
      "text/plain": [
       "2016.0    315208\n",
       "2017.0     69339\n",
       "2015.0      1315\n",
       "2014.0       165\n",
       "2011.0       159\n",
       "2013.0       138\n",
       "2012.0        32\n",
       "2008.0        10\n",
       "2010.0         7\n",
       "2009.0         7\n",
       "2007.0         7\n",
       "2001.0         2\n",
       "2000.0         1\n",
       "1998.0         1\n",
       "Name: PW_SOURCE_YEAR, dtype: int64"
      ]
     },
     "execution_count": 224,
     "metadata": {},
     "output_type": "execute_result"
    }
   ],
   "source": [
    "df3.PW_SOURCE_YEAR.value_counts()"
   ]
  },
  {
   "cell_type": "code",
   "execution_count": 225,
   "metadata": {},
   "outputs": [
    {
     "data": {
      "text/plain": [
       "1    381315\n",
       "0      5076\n",
       "Name: CASE_STATUS, dtype: int64"
      ]
     },
     "execution_count": 225,
     "metadata": {},
     "output_type": "execute_result"
    }
   ],
   "source": [
    "df3.CASE_STATUS.value_counts()"
   ]
  },
  {
   "cell_type": "markdown",
   "metadata": {},
   "source": [
    "# Statistics Analysis"
   ]
  },
  {
   "cell_type": "markdown",
   "metadata": {},
   "source": [
    "### Case Status~Total Workers"
   ]
  },
  {
   "cell_type": "code",
   "execution_count": 319,
   "metadata": {},
   "outputs": [],
   "source": [
    "a = df3[df3.CASE_STATUS == 1]['TOTAL_WORKERS']\n",
    "b = df3[df3.CASE_STATUS == 0]['TOTAL_WORKERS']"
   ]
  },
  {
   "cell_type": "code",
   "execution_count": 320,
   "metadata": {},
   "outputs": [],
   "source": [
    "from scipy.stats import ttest_ind"
   ]
  },
  {
   "cell_type": "code",
   "execution_count": 321,
   "metadata": {},
   "outputs": [
    {
     "data": {
      "text/plain": [
       "Ttest_indResult(statistic=-0.6006166722669098, pvalue=0.5480956830913083)"
      ]
     },
     "execution_count": 321,
     "metadata": {},
     "output_type": "execute_result"
    }
   ],
   "source": [
    "ttest_ind(a,b)"
   ]
  },
  {
   "cell_type": "markdown",
   "metadata": {},
   "source": [
    "### Total workers not significant"
   ]
  },
  {
   "cell_type": "markdown",
   "metadata": {},
   "source": [
    "### Case Status ~ Full time Position`"
   ]
  },
  {
   "cell_type": "code",
   "execution_count": 322,
   "metadata": {},
   "outputs": [
    {
     "data": {
      "text/html": [
       "<div>\n",
       "<style scoped>\n",
       "    .dataframe tbody tr th:only-of-type {\n",
       "        vertical-align: middle;\n",
       "    }\n",
       "\n",
       "    .dataframe tbody tr th {\n",
       "        vertical-align: top;\n",
       "    }\n",
       "\n",
       "    .dataframe thead th {\n",
       "        text-align: right;\n",
       "    }\n",
       "</style>\n",
       "<table border=\"1\" class=\"dataframe\">\n",
       "  <thead>\n",
       "    <tr style=\"text-align: right;\">\n",
       "      <th>FULL_TIME_POSITION</th>\n",
       "      <th>N</th>\n",
       "      <th>Y</th>\n",
       "    </tr>\n",
       "    <tr>\n",
       "      <th>CASE_STATUS</th>\n",
       "      <th></th>\n",
       "      <th></th>\n",
       "    </tr>\n",
       "  </thead>\n",
       "  <tbody>\n",
       "    <tr>\n",
       "      <th>0</th>\n",
       "      <td>259</td>\n",
       "      <td>4817</td>\n",
       "    </tr>\n",
       "    <tr>\n",
       "      <th>1</th>\n",
       "      <td>9320</td>\n",
       "      <td>371995</td>\n",
       "    </tr>\n",
       "  </tbody>\n",
       "</table>\n",
       "</div>"
      ],
      "text/plain": [
       "FULL_TIME_POSITION     N       Y\n",
       "CASE_STATUS                     \n",
       "0                    259    4817\n",
       "1                   9320  371995"
      ]
     },
     "execution_count": 322,
     "metadata": {},
     "output_type": "execute_result"
    }
   ],
   "source": [
    "table = pd.crosstab(index=df3['CASE_STATUS'],columns=df3['FULL_TIME_POSITION'])\n",
    "table"
   ]
  },
  {
   "cell_type": "code",
   "execution_count": 323,
   "metadata": {},
   "outputs": [],
   "source": [
    "from scipy.stats import chi2_contingency"
   ]
  },
  {
   "cell_type": "code",
   "execution_count": 324,
   "metadata": {},
   "outputs": [
    {
     "data": {
      "text/plain": [
       "(145.31753996064188,\n",
       " 1.8303718973321034e-33,\n",
       " 1,\n",
       " array([[1.25838863e+02, 4.95016114e+03],\n",
       "        [9.45316114e+03, 3.71861839e+05]]))"
      ]
     },
     "execution_count": 324,
     "metadata": {},
     "output_type": "execute_result"
    }
   ],
   "source": [
    "chi2_contingency(table)"
   ]
  },
  {
   "cell_type": "markdown",
   "metadata": {},
   "source": [
    "### Full Time Position Significant"
   ]
  },
  {
   "cell_type": "markdown",
   "metadata": {},
   "source": [
    "### Case Status ~ PREVAILING_WAGE"
   ]
  },
  {
   "cell_type": "code",
   "execution_count": 325,
   "metadata": {},
   "outputs": [],
   "source": [
    "a = df3[df3.CASE_STATUS == 1]['PREVAILING_WAGE']\n",
    "b = df3[df3.CASE_STATUS == 0]['PREVAILING_WAGE']"
   ]
  },
  {
   "cell_type": "code",
   "execution_count": 326,
   "metadata": {},
   "outputs": [],
   "source": [
    "from scipy.stats import ttest_ind"
   ]
  },
  {
   "cell_type": "code",
   "execution_count": 327,
   "metadata": {},
   "outputs": [
    {
     "data": {
      "text/plain": [
       "Ttest_indResult(statistic=-8.229146653648142, pvalue=1.8912850360952054e-16)"
      ]
     },
     "execution_count": 327,
     "metadata": {},
     "output_type": "execute_result"
    }
   ],
   "source": [
    "ttest_ind(a,b)"
   ]
  },
  {
   "cell_type": "markdown",
   "metadata": {},
   "source": [
    "### Prevailing Wage Significant"
   ]
  },
  {
   "cell_type": "markdown",
   "metadata": {},
   "source": [
    "### Case Status ~ PW_UNIT_OF_PAY"
   ]
  },
  {
   "cell_type": "code",
   "execution_count": 328,
   "metadata": {},
   "outputs": [
    {
     "data": {
      "text/html": [
       "<div>\n",
       "<style scoped>\n",
       "    .dataframe tbody tr th:only-of-type {\n",
       "        vertical-align: middle;\n",
       "    }\n",
       "\n",
       "    .dataframe tbody tr th {\n",
       "        vertical-align: top;\n",
       "    }\n",
       "\n",
       "    .dataframe thead th {\n",
       "        text-align: right;\n",
       "    }\n",
       "</style>\n",
       "<table border=\"1\" class=\"dataframe\">\n",
       "  <thead>\n",
       "    <tr style=\"text-align: right;\">\n",
       "      <th>PW_UNIT_OF_PAY</th>\n",
       "      <th>Hour</th>\n",
       "      <th>Year</th>\n",
       "    </tr>\n",
       "    <tr>\n",
       "      <th>CASE_STATUS</th>\n",
       "      <th></th>\n",
       "      <th></th>\n",
       "    </tr>\n",
       "  </thead>\n",
       "  <tbody>\n",
       "    <tr>\n",
       "      <th>0</th>\n",
       "      <td>858</td>\n",
       "      <td>4218</td>\n",
       "    </tr>\n",
       "    <tr>\n",
       "      <th>1</th>\n",
       "      <td>24172</td>\n",
       "      <td>357143</td>\n",
       "    </tr>\n",
       "  </tbody>\n",
       "</table>\n",
       "</div>"
      ],
      "text/plain": [
       "PW_UNIT_OF_PAY   Hour    Year\n",
       "CASE_STATUS                  \n",
       "0                 858    4218\n",
       "1               24172  357143"
      ]
     },
     "execution_count": 328,
     "metadata": {},
     "output_type": "execute_result"
    }
   ],
   "source": [
    "table = pd.crosstab(index=df3['CASE_STATUS'],columns=df3['PW_UNIT_OF_PAY'])\n",
    "table"
   ]
  },
  {
   "cell_type": "code",
   "execution_count": 329,
   "metadata": {},
   "outputs": [
    {
     "data": {
      "text/plain": [
       "(921.0062450330106,\n",
       " 2.663014281566885e-202,\n",
       " 1,\n",
       " array([[3.28817907e+02, 4.74718209e+03],\n",
       "        [2.47011821e+04, 3.56613818e+05]]))"
      ]
     },
     "execution_count": 329,
     "metadata": {},
     "output_type": "execute_result"
    }
   ],
   "source": [
    "chi2_contingency(table)"
   ]
  },
  {
   "cell_type": "markdown",
   "metadata": {},
   "source": [
    "##### PW_UNIT_OF_PAY is significant"
   ]
  },
  {
   "cell_type": "markdown",
   "metadata": {},
   "source": [
    "### Case Status ~ PW_SOURCE_YEAR"
   ]
  },
  {
   "cell_type": "code",
   "execution_count": 330,
   "metadata": {},
   "outputs": [],
   "source": [
    "df3.PW_SOURCE_YEAR = df3.PW_SOURCE_YEAR.astype('object')"
   ]
  },
  {
   "cell_type": "code",
   "execution_count": 331,
   "metadata": {},
   "outputs": [
    {
     "data": {
      "text/html": [
       "<div>\n",
       "<style scoped>\n",
       "    .dataframe tbody tr th:only-of-type {\n",
       "        vertical-align: middle;\n",
       "    }\n",
       "\n",
       "    .dataframe tbody tr th {\n",
       "        vertical-align: top;\n",
       "    }\n",
       "\n",
       "    .dataframe thead th {\n",
       "        text-align: right;\n",
       "    }\n",
       "</style>\n",
       "<table border=\"1\" class=\"dataframe\">\n",
       "  <thead>\n",
       "    <tr style=\"text-align: right;\">\n",
       "      <th>PW_SOURCE_YEAR</th>\n",
       "      <th>1998.0</th>\n",
       "      <th>2000.0</th>\n",
       "      <th>2001.0</th>\n",
       "      <th>2007.0</th>\n",
       "      <th>2008.0</th>\n",
       "      <th>2009.0</th>\n",
       "      <th>2010.0</th>\n",
       "      <th>2011.0</th>\n",
       "      <th>2012.0</th>\n",
       "      <th>2013.0</th>\n",
       "      <th>2014.0</th>\n",
       "      <th>2015.0</th>\n",
       "      <th>2016.0</th>\n",
       "      <th>2017.0</th>\n",
       "    </tr>\n",
       "    <tr>\n",
       "      <th>CASE_STATUS</th>\n",
       "      <th></th>\n",
       "      <th></th>\n",
       "      <th></th>\n",
       "      <th></th>\n",
       "      <th></th>\n",
       "      <th></th>\n",
       "      <th></th>\n",
       "      <th></th>\n",
       "      <th></th>\n",
       "      <th></th>\n",
       "      <th></th>\n",
       "      <th></th>\n",
       "      <th></th>\n",
       "      <th></th>\n",
       "    </tr>\n",
       "  </thead>\n",
       "  <tbody>\n",
       "    <tr>\n",
       "      <th>0</th>\n",
       "      <td>1</td>\n",
       "      <td>1</td>\n",
       "      <td>0</td>\n",
       "      <td>1</td>\n",
       "      <td>0</td>\n",
       "      <td>3</td>\n",
       "      <td>0</td>\n",
       "      <td>0</td>\n",
       "      <td>1</td>\n",
       "      <td>3</td>\n",
       "      <td>6</td>\n",
       "      <td>216</td>\n",
       "      <td>3361</td>\n",
       "      <td>1483</td>\n",
       "    </tr>\n",
       "    <tr>\n",
       "      <th>1</th>\n",
       "      <td>0</td>\n",
       "      <td>0</td>\n",
       "      <td>2</td>\n",
       "      <td>6</td>\n",
       "      <td>10</td>\n",
       "      <td>4</td>\n",
       "      <td>7</td>\n",
       "      <td>159</td>\n",
       "      <td>31</td>\n",
       "      <td>135</td>\n",
       "      <td>159</td>\n",
       "      <td>1099</td>\n",
       "      <td>311847</td>\n",
       "      <td>67856</td>\n",
       "    </tr>\n",
       "  </tbody>\n",
       "</table>\n",
       "</div>"
      ],
      "text/plain": [
       "PW_SOURCE_YEAR  1998.0  2000.0  2001.0  2007.0  2008.0  2009.0  2010.0  \\\n",
       "CASE_STATUS                                                              \n",
       "0                    1       1       0       1       0       3       0   \n",
       "1                    0       0       2       6      10       4       7   \n",
       "\n",
       "PW_SOURCE_YEAR  2011.0  2012.0  2013.0  2014.0  2015.0  2016.0  2017.0  \n",
       "CASE_STATUS                                                             \n",
       "0                    0       1       3       6     216    3361    1483  \n",
       "1                  159      31     135     159    1099  311847   67856  "
      ]
     },
     "execution_count": 331,
     "metadata": {},
     "output_type": "execute_result"
    }
   ],
   "source": [
    "table = pd.crosstab(index=df3['CASE_STATUS'],columns=df3['PW_SOURCE_YEAR'])\n",
    "table"
   ]
  },
  {
   "cell_type": "code",
   "execution_count": 332,
   "metadata": {},
   "outputs": [
    {
     "data": {
      "text/plain": [
       "(3092.744751252843,\n",
       " 0.0,\n",
       " 13,\n",
       " array([[1.31369519e-02, 1.31369519e-02, 2.62739039e-02, 9.19586636e-02,\n",
       "         1.31369519e-01, 9.19586636e-02, 9.19586636e-02, 2.08877536e+00,\n",
       "         4.20382462e-01, 1.81289937e+00, 2.16759707e+00, 1.72750918e+01,\n",
       "         4.14087235e+03, 9.10903111e+02],\n",
       "        [9.86863048e-01, 9.86863048e-01, 1.97372610e+00, 6.90804134e+00,\n",
       "         9.86863048e+00, 6.90804134e+00, 6.90804134e+00, 1.56911225e+02,\n",
       "         3.15796175e+01, 1.36187101e+02, 1.62832403e+02, 1.29772491e+03,\n",
       "         3.11067128e+05, 6.84280969e+04]]))"
      ]
     },
     "execution_count": 332,
     "metadata": {},
     "output_type": "execute_result"
    }
   ],
   "source": [
    "chi2_contingency(table)"
   ]
  },
  {
   "cell_type": "markdown",
   "metadata": {},
   "source": [
    "##### Not significant"
   ]
  },
  {
   "cell_type": "markdown",
   "metadata": {},
   "source": [
    "### Case Status ~ H-1B_DEPENDENT"
   ]
  },
  {
   "cell_type": "code",
   "execution_count": 334,
   "metadata": {},
   "outputs": [
    {
     "data": {
      "text/html": [
       "<div>\n",
       "<style scoped>\n",
       "    .dataframe tbody tr th:only-of-type {\n",
       "        vertical-align: middle;\n",
       "    }\n",
       "\n",
       "    .dataframe tbody tr th {\n",
       "        vertical-align: top;\n",
       "    }\n",
       "\n",
       "    .dataframe thead th {\n",
       "        text-align: right;\n",
       "    }\n",
       "</style>\n",
       "<table border=\"1\" class=\"dataframe\">\n",
       "  <thead>\n",
       "    <tr style=\"text-align: right;\">\n",
       "      <th>H-1B_DEPENDENT</th>\n",
       "      <th>N</th>\n",
       "      <th>Y</th>\n",
       "    </tr>\n",
       "    <tr>\n",
       "      <th>CASE_STATUS</th>\n",
       "      <th></th>\n",
       "      <th></th>\n",
       "    </tr>\n",
       "  </thead>\n",
       "  <tbody>\n",
       "    <tr>\n",
       "      <th>0</th>\n",
       "      <td>4164</td>\n",
       "      <td>912</td>\n",
       "    </tr>\n",
       "    <tr>\n",
       "      <th>1</th>\n",
       "      <td>237890</td>\n",
       "      <td>143425</td>\n",
       "    </tr>\n",
       "  </tbody>\n",
       "</table>\n",
       "</div>"
      ],
      "text/plain": [
       "H-1B_DEPENDENT       N       Y\n",
       "CASE_STATUS                   \n",
       "0                 4164     912\n",
       "1               237890  143425"
      ]
     },
     "execution_count": 334,
     "metadata": {},
     "output_type": "execute_result"
    }
   ],
   "source": [
    "table = pd.crosstab(index=df3['CASE_STATUS'],columns=df3['H-1B_DEPENDENT'])\n",
    "table"
   ]
  },
  {
   "cell_type": "code",
   "execution_count": 335,
   "metadata": {
    "scrolled": true
   },
   "outputs": [
    {
     "data": {
      "text/plain": [
       "(825.4013927742221,\n",
       " 1.619749173093035e-181,\n",
       " 1,\n",
       " array([[  3179.85176673,   1896.14823327],\n",
       "        [238874.14823327, 142440.85176673]]))"
      ]
     },
     "execution_count": 335,
     "metadata": {},
     "output_type": "execute_result"
    }
   ],
   "source": [
    "chi2_contingency(table)"
   ]
  },
  {
   "cell_type": "markdown",
   "metadata": {},
   "source": [
    "##### H-1B_Dependent Significant"
   ]
  },
  {
   "cell_type": "markdown",
   "metadata": {},
   "source": [
    "### Case Status ~ WILLFUL_VIOLATOR"
   ]
  },
  {
   "cell_type": "code",
   "execution_count": 337,
   "metadata": {},
   "outputs": [
    {
     "data": {
      "text/html": [
       "<div>\n",
       "<style scoped>\n",
       "    .dataframe tbody tr th:only-of-type {\n",
       "        vertical-align: middle;\n",
       "    }\n",
       "\n",
       "    .dataframe tbody tr th {\n",
       "        vertical-align: top;\n",
       "    }\n",
       "\n",
       "    .dataframe thead th {\n",
       "        text-align: right;\n",
       "    }\n",
       "</style>\n",
       "<table border=\"1\" class=\"dataframe\">\n",
       "  <thead>\n",
       "    <tr style=\"text-align: right;\">\n",
       "      <th>WILLFUL_VIOLATOR</th>\n",
       "      <th>N</th>\n",
       "      <th>Y</th>\n",
       "    </tr>\n",
       "    <tr>\n",
       "      <th>CASE_STATUS</th>\n",
       "      <th></th>\n",
       "      <th></th>\n",
       "    </tr>\n",
       "  </thead>\n",
       "  <tbody>\n",
       "    <tr>\n",
       "      <th>0</th>\n",
       "      <td>5065</td>\n",
       "      <td>11</td>\n",
       "    </tr>\n",
       "    <tr>\n",
       "      <th>1</th>\n",
       "      <td>381085</td>\n",
       "      <td>230</td>\n",
       "    </tr>\n",
       "  </tbody>\n",
       "</table>\n",
       "</div>"
      ],
      "text/plain": [
       "WILLFUL_VIOLATOR       N    Y\n",
       "CASE_STATUS                  \n",
       "0                   5065   11\n",
       "1                 381085  230"
      ]
     },
     "execution_count": 337,
     "metadata": {},
     "output_type": "execute_result"
    }
   ],
   "source": [
    "table = pd.crosstab(index=df3['CASE_STATUS'],columns=df3['WILLFUL_VIOLATOR'])\n",
    "table"
   ]
  },
  {
   "cell_type": "code",
   "execution_count": 338,
   "metadata": {},
   "outputs": [
    {
     "data": {
      "text/plain": [
       "(17.225966201348825,\n",
       " 3.318692374091135e-05,\n",
       " 1,\n",
       " array([[5.07283399e+03, 3.16600542e+00],\n",
       "        [3.81077166e+05, 2.37833995e+02]]))"
      ]
     },
     "execution_count": 338,
     "metadata": {},
     "output_type": "execute_result"
    }
   ],
   "source": [
    "chi2_contingency(table)"
   ]
  },
  {
   "cell_type": "markdown",
   "metadata": {},
   "source": [
    "##### Willful_violator is significant"
   ]
  },
  {
   "cell_type": "markdown",
   "metadata": {},
   "source": [
    "### Case Status ~ DURATION_CS_DD"
   ]
  },
  {
   "cell_type": "code",
   "execution_count": 342,
   "metadata": {},
   "outputs": [
    {
     "data": {
      "text/plain": [
       "6 days     269283\n",
       "4 days      71171\n",
       "7 days      29409\n",
       "5 days      13969\n",
       "2 days        828\n",
       "3 days        664\n",
       "8 days        464\n",
       "1 days        431\n",
       "10 days       128\n",
       "9 days         43\n",
       "0 days          1\n",
       "Name: CS_DD_Duration, dtype: int64"
      ]
     },
     "execution_count": 342,
     "metadata": {},
     "output_type": "execute_result"
    }
   ],
   "source": [
    "df3['CS_DD_Duration'].value_counts()"
   ]
  },
  {
   "cell_type": "code",
   "execution_count": 344,
   "metadata": {},
   "outputs": [
    {
     "data": {
      "text/html": [
       "<div>\n",
       "<style scoped>\n",
       "    .dataframe tbody tr th:only-of-type {\n",
       "        vertical-align: middle;\n",
       "    }\n",
       "\n",
       "    .dataframe tbody tr th {\n",
       "        vertical-align: top;\n",
       "    }\n",
       "\n",
       "    .dataframe thead th {\n",
       "        text-align: right;\n",
       "    }\n",
       "</style>\n",
       "<table border=\"1\" class=\"dataframe\">\n",
       "  <thead>\n",
       "    <tr style=\"text-align: right;\">\n",
       "      <th>CS_DD_Duration</th>\n",
       "      <th>0 days 00:00:00</th>\n",
       "      <th>1 days 00:00:00</th>\n",
       "      <th>2 days 00:00:00</th>\n",
       "      <th>3 days 00:00:00</th>\n",
       "      <th>4 days 00:00:00</th>\n",
       "      <th>5 days 00:00:00</th>\n",
       "      <th>6 days 00:00:00</th>\n",
       "      <th>7 days 00:00:00</th>\n",
       "      <th>8 days 00:00:00</th>\n",
       "      <th>9 days 00:00:00</th>\n",
       "      <th>10 days 00:00:00</th>\n",
       "    </tr>\n",
       "    <tr>\n",
       "      <th>CASE_STATUS</th>\n",
       "      <th></th>\n",
       "      <th></th>\n",
       "      <th></th>\n",
       "      <th></th>\n",
       "      <th></th>\n",
       "      <th></th>\n",
       "      <th></th>\n",
       "      <th></th>\n",
       "      <th></th>\n",
       "      <th></th>\n",
       "      <th></th>\n",
       "    </tr>\n",
       "  </thead>\n",
       "  <tbody>\n",
       "    <tr>\n",
       "      <th>0</th>\n",
       "      <td>1</td>\n",
       "      <td>431</td>\n",
       "      <td>828</td>\n",
       "      <td>664</td>\n",
       "      <td>741</td>\n",
       "      <td>889</td>\n",
       "      <td>996</td>\n",
       "      <td>464</td>\n",
       "      <td>56</td>\n",
       "      <td>2</td>\n",
       "      <td>4</td>\n",
       "    </tr>\n",
       "    <tr>\n",
       "      <th>1</th>\n",
       "      <td>0</td>\n",
       "      <td>0</td>\n",
       "      <td>0</td>\n",
       "      <td>0</td>\n",
       "      <td>70430</td>\n",
       "      <td>13080</td>\n",
       "      <td>268287</td>\n",
       "      <td>28945</td>\n",
       "      <td>408</td>\n",
       "      <td>41</td>\n",
       "      <td>124</td>\n",
       "    </tr>\n",
       "  </tbody>\n",
       "</table>\n",
       "</div>"
      ],
      "text/plain": [
       "CS_DD_Duration  0 days  1 days  2 days  3 days  4 days  5 days  6 days  \\\n",
       "CASE_STATUS                                                              \n",
       "0                    1     431     828     664     741     889     996   \n",
       "1                    0       0       0       0   70430   13080  268287   \n",
       "\n",
       "CS_DD_Duration  7 days  8 days  9 days  10 days  \n",
       "CASE_STATUS                                      \n",
       "0                  464      56       2        4  \n",
       "1                28945     408      41      124  "
      ]
     },
     "execution_count": 344,
     "metadata": {},
     "output_type": "execute_result"
    }
   ],
   "source": [
    "table = pd.crosstab(index=df3['CASE_STATUS'],columns=df3['CS_DD_Duration'])\n",
    "table"
   ]
  },
  {
   "cell_type": "code",
   "execution_count": 345,
   "metadata": {},
   "outputs": [
    {
     "data": {
      "text/plain": [
       "(149609.2374901872,\n",
       " 0.0,\n",
       " 10,\n",
       " array([[1.31369519e-02, 5.66202629e+00, 1.08773962e+01, 8.72293609e+00,\n",
       "         9.34970007e+02, 1.83510082e+02, 3.53755783e+03, 3.86344620e+02,\n",
       "         6.09554570e+00, 5.64888934e-01, 1.68152985e+00],\n",
       "        [9.86863048e-01, 4.25337974e+02, 8.17122604e+02, 6.55277064e+02,\n",
       "         7.02360300e+04, 1.37854899e+04, 2.65745442e+05, 2.90226554e+04,\n",
       "         4.57904454e+02, 4.24351111e+01, 1.26318470e+02]]))"
      ]
     },
     "execution_count": 345,
     "metadata": {},
     "output_type": "execute_result"
    }
   ],
   "source": [
    "chi2_contingency(table)"
   ]
  },
  {
   "cell_type": "markdown",
   "metadata": {},
   "source": [
    "##### CS_DD_Duration signicant"
   ]
  },
  {
   "cell_type": "code",
   "execution_count": 354,
   "metadata": {
    "scrolled": true
   },
   "outputs": [
    {
     "data": {
      "text/html": [
       "<div>\n",
       "<style scoped>\n",
       "    .dataframe tbody tr th:only-of-type {\n",
       "        vertical-align: middle;\n",
       "    }\n",
       "\n",
       "    .dataframe tbody tr th {\n",
       "        vertical-align: top;\n",
       "    }\n",
       "\n",
       "    .dataframe thead th {\n",
       "        text-align: right;\n",
       "    }\n",
       "</style>\n",
       "<table border=\"1\" class=\"dataframe\">\n",
       "  <thead>\n",
       "    <tr style=\"text-align: right;\">\n",
       "      <th>Emp_Stay_Duration_Yr</th>\n",
       "      <th>0.0</th>\n",
       "      <th>1.0</th>\n",
       "      <th>2.0</th>\n",
       "      <th>3.0</th>\n",
       "    </tr>\n",
       "    <tr>\n",
       "      <th>CASE_STATUS</th>\n",
       "      <th></th>\n",
       "      <th></th>\n",
       "      <th></th>\n",
       "      <th></th>\n",
       "    </tr>\n",
       "  </thead>\n",
       "  <tbody>\n",
       "    <tr>\n",
       "      <th>0</th>\n",
       "      <td>31</td>\n",
       "      <td>251</td>\n",
       "      <td>280</td>\n",
       "      <td>4512</td>\n",
       "    </tr>\n",
       "    <tr>\n",
       "      <th>1</th>\n",
       "      <td>1149</td>\n",
       "      <td>9207</td>\n",
       "      <td>9368</td>\n",
       "      <td>361580</td>\n",
       "    </tr>\n",
       "  </tbody>\n",
       "</table>\n",
       "</div>"
      ],
      "text/plain": [
       "Emp_Stay_Duration_Yr   0.0   1.0   2.0     3.0\n",
       "CASE_STATUS                                   \n",
       "0                       31   251   280    4512\n",
       "1                     1149  9207  9368  361580"
      ]
     },
     "execution_count": 354,
     "metadata": {},
     "output_type": "execute_result"
    }
   ],
   "source": [
    "table = pd.crosstab(index=df3['CASE_STATUS'],columns=df3['Emp_Stay_Duration_Yr'])\n",
    "table"
   ]
  },
  {
   "cell_type": "code",
   "execution_count": 348,
   "metadata": {},
   "outputs": [
    {
     "data": {
      "text/plain": [
       "(353.2526282303638,\n",
       " 2.9469544358775477e-76,\n",
       " 3,\n",
       " array([[1.54960169e+01, 1.24204515e+02, 1.26699636e+02, 4.80759983e+03],\n",
       "        [1.16450398e+03, 9.33379549e+03, 9.52130036e+03, 3.61284400e+05]]))"
      ]
     },
     "execution_count": 348,
     "metadata": {},
     "output_type": "execute_result"
    }
   ],
   "source": [
    "chi2_contingency(table)"
   ]
  },
  {
   "cell_type": "markdown",
   "metadata": {},
   "source": [
    "##### Emp_Stay_Duration_Yr is significant"
   ]
  },
  {
   "cell_type": "markdown",
   "metadata": {},
   "source": [
    "### Employer frequency"
   ]
  },
  {
   "cell_type": "code",
   "execution_count": 349,
   "metadata": {},
   "outputs": [],
   "source": [
    "a = df3[df3.CASE_STATUS == 1]['EMPLOYER_FREQUENCY']\n",
    "b = df3[df3.CASE_STATUS == 0]['EMPLOYER_FREQUENCY']"
   ]
  },
  {
   "cell_type": "code",
   "execution_count": 350,
   "metadata": {},
   "outputs": [],
   "source": [
    "from scipy.stats import ttest_ind"
   ]
  },
  {
   "cell_type": "code",
   "execution_count": 351,
   "metadata": {},
   "outputs": [
    {
     "data": {
      "text/plain": [
       "Ttest_indResult(statistic=23.168920791707386, pvalue=1.1298659409973273e-118)"
      ]
     },
     "execution_count": 351,
     "metadata": {},
     "output_type": "execute_result"
    }
   ],
   "source": [
    "ttest_ind(a,b)"
   ]
  },
  {
   "cell_type": "markdown",
   "metadata": {},
   "source": [
    "##### Employer frequncy is significant"
   ]
  },
  {
   "cell_type": "markdown",
   "metadata": {},
   "source": [
    "### AGENT_ATTORNEY"
   ]
  },
  {
   "cell_type": "code",
   "execution_count": 357,
   "metadata": {},
   "outputs": [
    {
     "data": {
      "text/html": [
       "<div>\n",
       "<style scoped>\n",
       "    .dataframe tbody tr th:only-of-type {\n",
       "        vertical-align: middle;\n",
       "    }\n",
       "\n",
       "    .dataframe tbody tr th {\n",
       "        vertical-align: top;\n",
       "    }\n",
       "\n",
       "    .dataframe thead th {\n",
       "        text-align: right;\n",
       "    }\n",
       "</style>\n",
       "<table border=\"1\" class=\"dataframe\">\n",
       "  <thead>\n",
       "    <tr style=\"text-align: right;\">\n",
       "      <th>AGENT_ATTORNEY</th>\n",
       "      <th>0</th>\n",
       "      <th>1</th>\n",
       "    </tr>\n",
       "    <tr>\n",
       "      <th>CASE_STATUS</th>\n",
       "      <th></th>\n",
       "      <th></th>\n",
       "    </tr>\n",
       "  </thead>\n",
       "  <tbody>\n",
       "    <tr>\n",
       "      <th>0</th>\n",
       "      <td>2689</td>\n",
       "      <td>2387</td>\n",
       "    </tr>\n",
       "    <tr>\n",
       "      <th>1</th>\n",
       "      <td>180482</td>\n",
       "      <td>200833</td>\n",
       "    </tr>\n",
       "  </tbody>\n",
       "</table>\n",
       "</div>"
      ],
      "text/plain": [
       "AGENT_ATTORNEY       0       1\n",
       "CASE_STATUS                   \n",
       "0                 2689    2387\n",
       "1               180482  200833"
      ]
     },
     "execution_count": 357,
     "metadata": {},
     "output_type": "execute_result"
    }
   ],
   "source": [
    "table = pd.crosstab(index=df3['CASE_STATUS'],columns=df3['AGENT_ATTORNEY'])\n",
    "table"
   ]
  },
  {
   "cell_type": "code",
   "execution_count": 356,
   "metadata": {
    "scrolled": true
   },
   "outputs": [
    {
     "data": {
      "text/plain": [
       "(63.758752401837654,\n",
       " 1.4062738700514112e-15,\n",
       " 1,\n",
       " array([[  2406.3086252,   2669.6913748],\n",
       "        [180764.6913748, 200550.3086252]]))"
      ]
     },
     "execution_count": 356,
     "metadata": {},
     "output_type": "execute_result"
    }
   ],
   "source": [
    "chi2_contingency(table)"
   ]
  },
  {
   "cell_type": "markdown",
   "metadata": {},
   "source": [
    "##### AGENT_ATTORNEY is significant"
   ]
  },
  {
   "cell_type": "markdown",
   "metadata": {},
   "source": [
    "### Occupation"
   ]
  },
  {
   "cell_type": "code",
   "execution_count": 358,
   "metadata": {},
   "outputs": [
    {
     "data": {
      "text/html": [
       "<div>\n",
       "<style scoped>\n",
       "    .dataframe tbody tr th:only-of-type {\n",
       "        vertical-align: middle;\n",
       "    }\n",
       "\n",
       "    .dataframe tbody tr th {\n",
       "        vertical-align: top;\n",
       "    }\n",
       "\n",
       "    .dataframe thead th {\n",
       "        text-align: right;\n",
       "    }\n",
       "</style>\n",
       "<table border=\"1\" class=\"dataframe\">\n",
       "  <thead>\n",
       "    <tr style=\"text-align: right;\">\n",
       "      <th>OCCUPATION</th>\n",
       "      <th>Advance Sciences</th>\n",
       "      <th>Architecture &amp; Engineering</th>\n",
       "      <th>Business Occupation</th>\n",
       "      <th>Computer Occupations</th>\n",
       "      <th>Education Occupations</th>\n",
       "      <th>Financial Occupation</th>\n",
       "      <th>Management Occupation</th>\n",
       "      <th>Marketing Occupation</th>\n",
       "      <th>Mathematical Occupations</th>\n",
       "      <th>Medical Occupations</th>\n",
       "      <th>Others</th>\n",
       "    </tr>\n",
       "    <tr>\n",
       "      <th>CASE_STATUS</th>\n",
       "      <th></th>\n",
       "      <th></th>\n",
       "      <th></th>\n",
       "      <th></th>\n",
       "      <th></th>\n",
       "      <th></th>\n",
       "      <th></th>\n",
       "      <th></th>\n",
       "      <th></th>\n",
       "      <th></th>\n",
       "      <th></th>\n",
       "    </tr>\n",
       "  </thead>\n",
       "  <tbody>\n",
       "    <tr>\n",
       "      <th>0</th>\n",
       "      <td>73</td>\n",
       "      <td>622</td>\n",
       "      <td>34</td>\n",
       "      <td>2234</td>\n",
       "      <td>149</td>\n",
       "      <td>307</td>\n",
       "      <td>140</td>\n",
       "      <td>13</td>\n",
       "      <td>4</td>\n",
       "      <td>171</td>\n",
       "      <td>1329</td>\n",
       "    </tr>\n",
       "    <tr>\n",
       "      <th>1</th>\n",
       "      <td>5204</td>\n",
       "      <td>35151</td>\n",
       "      <td>1426</td>\n",
       "      <td>245663</td>\n",
       "      <td>6233</td>\n",
       "      <td>17058</td>\n",
       "      <td>9560</td>\n",
       "      <td>159</td>\n",
       "      <td>305</td>\n",
       "      <td>7574</td>\n",
       "      <td>52982</td>\n",
       "    </tr>\n",
       "  </tbody>\n",
       "</table>\n",
       "</div>"
      ],
      "text/plain": [
       "OCCUPATION   Advance Sciences  Architecture & Engineering  \\\n",
       "CASE_STATUS                                                 \n",
       "0                          73                         622   \n",
       "1                        5204                       35151   \n",
       "\n",
       "OCCUPATION   Business Occupation  Computer Occupations  Education Occupations  \\\n",
       "CASE_STATUS                                                                     \n",
       "0                             34                  2234                    149   \n",
       "1                           1426                245663                   6233   \n",
       "\n",
       "OCCUPATION   Financial Occupation  Management Occupation  \\\n",
       "CASE_STATUS                                                \n",
       "0                             307                    140   \n",
       "1                           17058                   9560   \n",
       "\n",
       "OCCUPATION   Marketing Occupation  Mathematical Occupations  \\\n",
       "CASE_STATUS                                                   \n",
       "0                              13                         4   \n",
       "1                             159                       305   \n",
       "\n",
       "OCCUPATION   Medical Occupations  Others  \n",
       "CASE_STATUS                               \n",
       "0                            171    1329  \n",
       "1                           7574   52982  "
      ]
     },
     "execution_count": 358,
     "metadata": {},
     "output_type": "execute_result"
    }
   ],
   "source": [
    "table = pd.crosstab(index=df3['CASE_STATUS'],columns=df3['OCCUPATION'])\n",
    "table"
   ]
  },
  {
   "cell_type": "code",
   "execution_count": 359,
   "metadata": {},
   "outputs": [
    {
     "data": {
      "text/plain": [
       "(1104.8223542915716,\n",
       " 4.817958068422091e-231,\n",
       " 10,\n",
       " array([[6.93236954e+01, 4.69948182e+02, 1.91799498e+01, 3.25661098e+03,\n",
       "         8.38400273e+01, 2.28123171e+02, 1.27428434e+02, 2.25955573e+00,\n",
       "         4.05931815e+00, 1.01745693e+02, 7.13480997e+02],\n",
       "        [5.20767630e+03, 3.53030518e+04, 1.44082005e+03, 2.44640389e+05,\n",
       "         6.29815997e+03, 1.71368768e+04, 9.57257157e+03, 1.69740444e+02,\n",
       "         3.04940682e+02, 7.64325431e+03, 5.35975190e+04]]))"
      ]
     },
     "execution_count": 359,
     "metadata": {},
     "output_type": "execute_result"
    }
   ],
   "source": [
    "chi2_contingency(table)"
   ]
  },
  {
   "cell_type": "markdown",
   "metadata": {},
   "source": [
    "##### Occupation is significant"
   ]
  },
  {
   "cell_type": "markdown",
   "metadata": {},
   "source": [
    "### PWGrWGFm "
   ]
  },
  {
   "cell_type": "code",
   "execution_count": 360,
   "metadata": {},
   "outputs": [
    {
     "data": {
      "text/html": [
       "<div>\n",
       "<style scoped>\n",
       "    .dataframe tbody tr th:only-of-type {\n",
       "        vertical-align: middle;\n",
       "    }\n",
       "\n",
       "    .dataframe tbody tr th {\n",
       "        vertical-align: top;\n",
       "    }\n",
       "\n",
       "    .dataframe thead th {\n",
       "        text-align: right;\n",
       "    }\n",
       "</style>\n",
       "<table border=\"1\" class=\"dataframe\">\n",
       "  <thead>\n",
       "    <tr style=\"text-align: right;\">\n",
       "      <th>PWGrWGFm</th>\n",
       "      <th>N</th>\n",
       "      <th>Y</th>\n",
       "    </tr>\n",
       "    <tr>\n",
       "      <th>CASE_STATUS</th>\n",
       "      <th></th>\n",
       "      <th></th>\n",
       "    </tr>\n",
       "  </thead>\n",
       "  <tbody>\n",
       "    <tr>\n",
       "      <th>0</th>\n",
       "      <td>1133</td>\n",
       "      <td>3943</td>\n",
       "    </tr>\n",
       "    <tr>\n",
       "      <th>1</th>\n",
       "      <td>108</td>\n",
       "      <td>381207</td>\n",
       "    </tr>\n",
       "  </tbody>\n",
       "</table>\n",
       "</div>"
      ],
      "text/plain": [
       "PWGrWGFm        N       Y\n",
       "CASE_STATUS              \n",
       "0            1133    3943\n",
       "1             108  381207"
      ]
     },
     "execution_count": 360,
     "metadata": {},
     "output_type": "execute_result"
    }
   ],
   "source": [
    "table = pd.crosstab(index=df3['CASE_STATUS'],columns=df3['PWGrWGFm'])\n",
    "table"
   ]
  },
  {
   "cell_type": "code",
   "execution_count": 361,
   "metadata": {},
   "outputs": [
    {
     "data": {
      "text/plain": [
       "(77688.28859689437, 0.0, 1, array([[1.63029574e+01, 5.05969704e+03],\n",
       "        [1.22469704e+03, 3.80090303e+05]]))"
      ]
     },
     "execution_count": 361,
     "metadata": {},
     "output_type": "execute_result"
    }
   ],
   "source": [
    "chi2_contingency(table)"
   ]
  },
  {
   "cell_type": "markdown",
   "metadata": {},
   "source": [
    "##### PWGrWGFm is significant"
   ]
  },
  {
   "cell_type": "code",
   "execution_count": null,
   "metadata": {},
   "outputs": [],
   "source": []
  },
  {
   "cell_type": "markdown",
   "metadata": {},
   "source": [
    "# CREATING MODEL"
   ]
  },
  {
   "cell_type": "code",
   "execution_count": 445,
   "metadata": {},
   "outputs": [
    {
     "name": "stderr",
     "output_type": "stream",
     "text": [
      "D:\\Anaconda\\lib\\site-packages\\ipykernel_launcher.py:1: SettingWithCopyWarning: \n",
      "A value is trying to be set on a copy of a slice from a DataFrame.\n",
      "Try using .loc[row_indexer,col_indexer] = value instead\n",
      "\n",
      "See the caveats in the documentation: http://pandas.pydata.org/pandas-docs/stable/indexing.html#indexing-view-versus-copy\n",
      "  \"\"\"Entry point for launching an IPython kernel.\n"
     ]
    }
   ],
   "source": [
    "df2['CASE_STATUS'] = df2.CASE_STATUS.astype('int')"
   ]
  },
  {
   "cell_type": "code",
   "execution_count": 469,
   "metadata": {},
   "outputs": [],
   "source": [
    "X = df2.drop(['CASE_STATUS','TOTAL_WORKERS'],axis=1)\n",
    "y = df2.CASE_STATUS"
   ]
  },
  {
   "cell_type": "code",
   "execution_count": 470,
   "metadata": {},
   "outputs": [],
   "source": [
    "X_dummy = pd.get_dummies(X)"
   ]
  },
  {
   "cell_type": "code",
   "execution_count": 471,
   "metadata": {},
   "outputs": [],
   "source": [
    "from sklearn.metrics import confusion_matrix,classification_report,matthews_corrcoef,cohen_kappa_score\n",
    "from sklearn.model_selection import train_test_split\n",
    "xtrain,xtest,ytrain,ytest = train_test_split(X_dummy,y,test_size=0.3,random_state=3)"
   ]
  },
  {
   "cell_type": "code",
   "execution_count": 494,
   "metadata": {},
   "outputs": [],
   "source": [
    "from sklearn.linear_model import LogisticRegression\n",
    "lr = LogisticRegression()"
   ]
  },
  {
   "cell_type": "code",
   "execution_count": 495,
   "metadata": {},
   "outputs": [
    {
     "name": "stderr",
     "output_type": "stream",
     "text": [
      "D:\\Anaconda\\lib\\site-packages\\sklearn\\linear_model\\logistic.py:432: FutureWarning: Default solver will be changed to 'lbfgs' in 0.22. Specify a solver to silence this warning.\n",
      "  FutureWarning)\n"
     ]
    }
   ],
   "source": [
    "pred = lr.fit(xtrain,ytrain).predict(xtest)"
   ]
  },
  {
   "cell_type": "code",
   "execution_count": 496,
   "metadata": {},
   "outputs": [
    {
     "name": "stdout",
     "output_type": "stream",
     "text": [
      "0.986760231150614\n",
      "0.9871115788747218\n",
      "0.0\n",
      "              precision    recall  f1-score   support\n",
      "\n",
      "           0       0.00      0.00      0.00      1494\n",
      "           1       0.99      1.00      0.99    114424\n",
      "\n",
      "    accuracy                           0.99    115918\n",
      "   macro avg       0.49      0.50      0.50    115918\n",
      "weighted avg       0.97      0.99      0.98    115918\n",
      "\n"
     ]
    },
    {
     "name": "stderr",
     "output_type": "stream",
     "text": [
      "D:\\Anaconda\\lib\\site-packages\\sklearn\\metrics\\classification.py:1437: UndefinedMetricWarning: Precision and F-score are ill-defined and being set to 0.0 in labels with no predicted samples.\n",
      "  'precision', 'predicted', average, warn_for)\n"
     ]
    }
   ],
   "source": [
    "print(lr.score(xtrain,ytrain))\n",
    "print(lr.score(xtest,ytest))\n",
    "print(cohen_kappa_score(ytest,pred))\n",
    "print(classification_report(ytest,pred))"
   ]
  },
  {
   "cell_type": "code",
   "execution_count": 497,
   "metadata": {},
   "outputs": [
    {
     "data": {
      "text/plain": [
       "array([[     0,   1494],\n",
       "       [     0, 114424]], dtype=int64)"
      ]
     },
     "execution_count": 497,
     "metadata": {},
     "output_type": "execute_result"
    }
   ],
   "source": [
    "confusion_matrix(ytest,pred)"
   ]
  },
  {
   "cell_type": "code",
   "execution_count": 498,
   "metadata": {},
   "outputs": [
    {
     "name": "stderr",
     "output_type": "stream",
     "text": [
      "D:\\Anaconda\\lib\\site-packages\\sklearn\\metrics\\classification.py:872: RuntimeWarning: invalid value encountered in double_scalars\n",
      "  mcc = cov_ytyp / np.sqrt(cov_ytyt * cov_ypyp)\n"
     ]
    },
    {
     "data": {
      "text/plain": [
       "0.0"
      ]
     },
     "execution_count": 498,
     "metadata": {},
     "output_type": "execute_result"
    }
   ],
   "source": [
    "matthews_corrcoef(ytest,pred)"
   ]
  },
  {
   "cell_type": "code",
   "execution_count": null,
   "metadata": {},
   "outputs": [],
   "source": []
  },
  {
   "cell_type": "markdown",
   "metadata": {},
   "source": [
    "### Applying threshold of 0.95 to predict probality"
   ]
  },
  {
   "cell_type": "code",
   "execution_count": 499,
   "metadata": {},
   "outputs": [],
   "source": [
    "def adjusted_classes(y_scores, t):\n",
    "    return [1 if y >= t else 0 for y in y_scores]"
   ]
  },
  {
   "cell_type": "code",
   "execution_count": 500,
   "metadata": {},
   "outputs": [],
   "source": [
    "from sklearn.linear_model import LogisticRegression\n",
    "lg = LogisticRegression()"
   ]
  },
  {
   "cell_type": "code",
   "execution_count": 514,
   "metadata": {},
   "outputs": [
    {
     "name": "stderr",
     "output_type": "stream",
     "text": [
      "D:\\Anaconda\\lib\\site-packages\\sklearn\\linear_model\\logistic.py:432: FutureWarning: Default solver will be changed to 'lbfgs' in 0.22. Specify a solver to silence this warning.\n",
      "  FutureWarning)\n"
     ]
    }
   ],
   "source": [
    "y_pred_score = lg.fit(xtrain,ytrain).predict_proba(xtest)[:, 1]\n",
    "y_pred = adjusted_classes(y_scores, 0.95)"
   ]
  },
  {
   "cell_type": "code",
   "execution_count": 515,
   "metadata": {},
   "outputs": [
    {
     "name": "stdout",
     "output_type": "stream",
     "text": [
      "0.986760231150614\n",
      "0.9871115788747218\n",
      "0.3587143196563982\n",
      "              precision    recall  f1-score   support\n",
      "\n",
      "           0       0.26      0.67      0.37      1494\n",
      "           1       1.00      0.97      0.98    114424\n",
      "\n",
      "    accuracy                           0.97    115918\n",
      "   macro avg       0.63      0.82      0.68    115918\n",
      "weighted avg       0.99      0.97      0.98    115918\n",
      "\n"
     ]
    }
   ],
   "source": [
    "print(lg.score(xtrain,ytrain))\n",
    "print(lg.score(xtest,ytest))\n",
    "print(cohen_kappa_score(ytest,y_pred))\n",
    "print(classification_report(ytest,y_pred))"
   ]
  },
  {
   "cell_type": "code",
   "execution_count": 516,
   "metadata": {},
   "outputs": [
    {
     "name": "stdout",
     "output_type": "stream",
     "text": [
      "[[  1001    493]\n",
      " [  2906 111518]]\n"
     ]
    }
   ],
   "source": [
    "print(confusion_matrix(ytest,y_pred))"
   ]
  },
  {
   "cell_type": "code",
   "execution_count": 517,
   "metadata": {},
   "outputs": [
    {
     "name": "stdout",
     "output_type": "stream",
     "text": [
      "0.9955986465614984\n",
      "0.9746032300915892\n",
      "0.9849890697109546\n",
      "(array([0.        , 0.32998661, 1.        ]), array([0.        , 0.97460323, 1.        ]), array([2, 1, 0]))\n",
      "0.822308308486223\n"
     ]
    }
   ],
   "source": [
    "print(metrics.precision_score(ytest,y_pred))\n",
    "print(metrics.recall_score(ytest,y_pred))\n",
    "print(metrics.f1_score(ytest,y_pred))\n",
    "print(metrics.roc_curve(ytest, y_pred))\n",
    "print(metrics.auc(fp, tp))"
   ]
  },
  {
   "cell_type": "markdown",
   "metadata": {},
   "source": [
    "#### After applying threshold as 0.90"
   ]
  },
  {
   "cell_type": "code",
   "execution_count": 523,
   "metadata": {},
   "outputs": [],
   "source": [
    "from sklearn.linear_model import LogisticRegression\n",
    "lg = LogisticRegression()\n",
    "from sklearn.tree import DecisionTreeClassifier\n",
    "dtree = DecisionTreeClassifier()\n",
    "from sklearn.ensemble import RandomForestClassifier\n",
    "rf = RandomForestClassifier()\n",
    "from sklearn.naive_bayes import GaussianNB\n",
    "gnb = GaussianNB()\n",
    "from sklearn.neighbors import KNeighborsClassifier\n",
    "knn = KNeighborsClassifier(n_neighbors=10)"
   ]
  },
  {
   "cell_type": "code",
   "execution_count": 524,
   "metadata": {},
   "outputs": [],
   "source": [
    "from sklearn import metrics"
   ]
  },
  {
   "cell_type": "code",
   "execution_count": 527,
   "metadata": {},
   "outputs": [],
   "source": [
    "\n",
    "#set seed for same results everytime\n",
    "seed=0\n",
    "\n",
    "#create a list of models\n",
    "models=[lg,rf,dtree,gnb,knn]\n",
    "\n",
    "def adjusted_classes(y_scores, t):\n",
    "    return [1 if y >= t else 0 for y in y_scores]\n",
    "\n",
    "def score_model(xtrain,ytrain,xtest,ytest):\n",
    "    df_columns=[]\n",
    "    df=pd.DataFrame(columns=df_columns)\n",
    "    i=0\n",
    "   #read model one by one\n",
    "    for model in models:\n",
    "\n",
    "        y_pred_score = model.fit(xtrain,ytrain).predict_proba(xtest)[:, 1]\n",
    "        y_pred = adjusted_classes(y_scores, 0.90)\n",
    "\n",
    "        #compute metrics\n",
    "        train_accuracy=model.score(xtrain,ytrain)\n",
    "        test_accuracy=model.score(xtest,ytest)\n",
    "\n",
    "        p_score=metrics.precision_score(ytest,y_pred)\n",
    "        r_score=metrics.recall_score(ytest,y_pred)\n",
    "        f1_score=metrics.f1_score(ytest,y_pred)\n",
    "        fp, tp, th = metrics.roc_curve(ytest, y_pred)\n",
    "\n",
    "        #insert in dataframe\n",
    "        df.loc[i,\"Model_Name\"]=model.__class__.__name__\n",
    "        df.loc[i,\"Precision\"]=p_score\n",
    "        df.loc[i,\"Recall\"]=r_score\n",
    "        df.loc[i,\"Train_Accuracy\"]=train_accuracy\n",
    "        df.loc[i,\"Test_Accuracy\"]=test_accuracy\n",
    "        df.loc[i,\"F1_Score\"]=f1_score\n",
    "        df.loc[i,'AUC'] = metrics.auc(fp, tp)\n",
    "\n",
    "        i+=1\n",
    "   \n",
    "   #sort values by accuracy\n",
    "    df.sort_values(by=['F1_Score'],ascending=False,inplace=True)\n",
    "    return(df)\n"
   ]
  },
  {
   "cell_type": "code",
   "execution_count": 528,
   "metadata": {},
   "outputs": [
    {
     "name": "stderr",
     "output_type": "stream",
     "text": [
      "D:\\Anaconda\\lib\\site-packages\\sklearn\\linear_model\\logistic.py:432: FutureWarning: Default solver will be changed to 'lbfgs' in 0.22. Specify a solver to silence this warning.\n",
      "  FutureWarning)\n"
     ]
    },
    {
     "data": {
      "text/html": [
       "<div>\n",
       "<style scoped>\n",
       "    .dataframe tbody tr th:only-of-type {\n",
       "        vertical-align: middle;\n",
       "    }\n",
       "\n",
       "    .dataframe tbody tr th {\n",
       "        vertical-align: top;\n",
       "    }\n",
       "\n",
       "    .dataframe thead th {\n",
       "        text-align: right;\n",
       "    }\n",
       "</style>\n",
       "<table border=\"1\" class=\"dataframe\">\n",
       "  <thead>\n",
       "    <tr style=\"text-align: right;\">\n",
       "      <th></th>\n",
       "      <th>Model_Name</th>\n",
       "      <th>Precision</th>\n",
       "      <th>Recall</th>\n",
       "      <th>Train_Accuracy</th>\n",
       "      <th>Test_Accuracy</th>\n",
       "      <th>F1_Score</th>\n",
       "      <th>AUC</th>\n",
       "    </tr>\n",
       "  </thead>\n",
       "  <tbody>\n",
       "    <tr>\n",
       "      <th>0</th>\n",
       "      <td>LogisticRegression</td>\n",
       "      <td>0.995142</td>\n",
       "      <td>0.98828</td>\n",
       "      <td>0.986760</td>\n",
       "      <td>0.987112</td>\n",
       "      <td>0.9917</td>\n",
       "      <td>0.809401</td>\n",
       "    </tr>\n",
       "    <tr>\n",
       "      <th>1</th>\n",
       "      <td>RandomForestClassifier</td>\n",
       "      <td>0.995142</td>\n",
       "      <td>0.98828</td>\n",
       "      <td>0.998129</td>\n",
       "      <td>0.991787</td>\n",
       "      <td>0.9917</td>\n",
       "      <td>0.809401</td>\n",
       "    </tr>\n",
       "    <tr>\n",
       "      <th>2</th>\n",
       "      <td>DecisionTreeClassifier</td>\n",
       "      <td>0.995142</td>\n",
       "      <td>0.98828</td>\n",
       "      <td>0.998558</td>\n",
       "      <td>0.988440</td>\n",
       "      <td>0.9917</td>\n",
       "      <td>0.809401</td>\n",
       "    </tr>\n",
       "    <tr>\n",
       "      <th>3</th>\n",
       "      <td>GaussianNB</td>\n",
       "      <td>0.995142</td>\n",
       "      <td>0.98828</td>\n",
       "      <td>0.984139</td>\n",
       "      <td>0.984480</td>\n",
       "      <td>0.9917</td>\n",
       "      <td>0.809401</td>\n",
       "    </tr>\n",
       "    <tr>\n",
       "      <th>4</th>\n",
       "      <td>KNeighborsClassifier</td>\n",
       "      <td>0.995142</td>\n",
       "      <td>0.98828</td>\n",
       "      <td>0.987278</td>\n",
       "      <td>0.987370</td>\n",
       "      <td>0.9917</td>\n",
       "      <td>0.809401</td>\n",
       "    </tr>\n",
       "  </tbody>\n",
       "</table>\n",
       "</div>"
      ],
      "text/plain": [
       "               Model_Name  Precision   Recall  Train_Accuracy  Test_Accuracy  \\\n",
       "0      LogisticRegression   0.995142  0.98828        0.986760       0.987112   \n",
       "1  RandomForestClassifier   0.995142  0.98828        0.998129       0.991787   \n",
       "2  DecisionTreeClassifier   0.995142  0.98828        0.998558       0.988440   \n",
       "3              GaussianNB   0.995142  0.98828        0.984139       0.984480   \n",
       "4    KNeighborsClassifier   0.995142  0.98828        0.987278       0.987370   \n",
       "\n",
       "   F1_Score       AUC  \n",
       "0    0.9917  0.809401  \n",
       "1    0.9917  0.809401  \n",
       "2    0.9917  0.809401  \n",
       "3    0.9917  0.809401  \n",
       "4    0.9917  0.809401  "
      ]
     },
     "execution_count": 528,
     "metadata": {},
     "output_type": "execute_result"
    }
   ],
   "source": [
    "report_no_null=score_model(xtrain,ytrain,xtest,ytest)\n",
    "report_no_null"
   ]
  },
  {
   "cell_type": "code",
   "execution_count": null,
   "metadata": {},
   "outputs": [],
   "source": []
  }
 ],
 "metadata": {
  "kernelspec": {
   "display_name": "Python 3",
   "language": "python",
   "name": "python3"
  },
  "language_info": {
   "codemirror_mode": {
    "name": "ipython",
    "version": 3
   },
   "file_extension": ".py",
   "mimetype": "text/x-python",
   "name": "python",
   "nbconvert_exporter": "python",
   "pygments_lexer": "ipython3",
   "version": "3.7.3"
  }
 },
 "nbformat": 4,
 "nbformat_minor": 2
}
